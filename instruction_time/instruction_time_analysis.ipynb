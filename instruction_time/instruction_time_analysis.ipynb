{
 "metadata": {
  "language_info": {
   "codemirror_mode": {
    "name": "ipython",
    "version": 3
   },
   "file_extension": ".py",
   "mimetype": "text/x-python",
   "name": "python",
   "nbconvert_exporter": "python",
   "pygments_lexer": "ipython3",
   "version": "3.9.2"
  },
  "orig_nbformat": 2,
  "kernelspec": {
   "name": "python392jvsc74a57bd06a41de241e3c49038dede047491b24d5e1076520a0a1437c5f16620212fe7a39",
   "display_name": "Python 3.9.2 64-bit ('pip-2z6nf1Zb': venv)"
  }
 },
 "nbformat": 4,
 "nbformat_minor": 2,
 "cells": [
  {
   "cell_type": "code",
   "execution_count": 80,
   "metadata": {},
   "outputs": [],
   "source": [
    "import pandas as pd\n",
    "import numpy as np\n",
    "\n",
    "# Keep for reference\n",
    "# df.to_csv('instruction_time_clean.csv', index=False)\n",
    "\n",
    "df = pd.read_csv('instruction_time.csv')\n",
    "\n",
    "# Set columns to filter by\n",
    "integer_columns = ['YEAR', 'Year', 'PowerCode Code']\n",
    "float_columns = ['Value']\n",
    "\n",
    "# Set all columns as its category... clean out values\n",
    "df[list(df.columns)] = df[list(df.columns)].astype('category')\n",
    "df[integer_columns] = df[integer_columns].astype(int)\n",
    "df[float_columns] = df[float_columns].astype(float)\n",
    "\n",
    "# Verification of correlations between similar columns for us to drop\n",
    "#   * Unique Values returned on the right\n",
    "# df['SUBJECT'].unique # ['COM_T', 'INT_T', 'NCO_T']\n",
    "# df['Subject'].unique # ['Compulsory instruction time (total)', 'Intended instruction time (total)', 'Non-compulsory instruction time (total)']\n",
    "# df['AGE'].unique # ['T']\n",
    "# df['Age'].unique # ['Total: All age groups']\n",
    "# df['UNIT'].unique # []\n",
    "# df['Unit'].unique # []\n",
    "# df['PowerCode Code'].unique # Same value: 0\n",
    "# df['PowerCode'].unique # ['Units']\n",
    "# df['Reference Period Code'].unique # []\n",
    "# df['Reference Period'].unique # []\n",
    "\n",
    "df['Value'] = df['Value'].fillna(np.NaN)\n",
    "df['Value'].unique\n",
    "# Set gathered from the unique tests\n",
    "columns_to_drop = [\n",
    "    'Year', # corr: 1\n",
    "    'Subject', # corr: 1\n",
    "    'AGE',\n",
    "    'Age',\n",
    "    'Unit Code',\n",
    "    'Unit',\n",
    "    'PowerCode Code',\n",
    "    'PowerCode',\n",
    "    'Reference Period Code',\n",
    "    'Reference Period',\n",
    "    'Flag Codes', # corr: 1\n",
    "]\n",
    "df = df.drop(columns_to_drop, axis=1)\n",
    "df.to_csv('instruction_time_clean.csv', index=False)\n"
   ]
  },
  {
   "cell_type": "code",
   "execution_count": 83,
   "metadata": {},
   "outputs": [
    {
     "output_type": "execute_result",
     "data": {
      "text/plain": [
       "    COUNTRY        Country  ...      Value         Flags\n",
       "0       FIN        Finland  ...  650.75000           NaN\n",
       "1       FIN        Finland  ...   32.57143           NaN\n",
       "2       FIN        Finland  ...  683.32143           NaN\n",
       "3       FIN        Finland  ...  807.50000           NaN\n",
       "4       FIN        Finland  ...   86.85714           NaN\n",
       "..      ...            ...  ...        ...           ...\n",
       "331     USA  United States  ...        NaN  Missing data\n",
       "332     USA  United States  ...        NaN  Missing data\n",
       "333     USA  United States  ...        NaN  Missing data\n",
       "334     USA  United States  ...        NaN  Missing data\n",
       "335     USA  United States  ...        NaN  Missing data\n",
       "\n",
       "[336 rows x 10 columns]"
      ],
      "text/html": "<div>\n<style scoped>\n    .dataframe tbody tr th:only-of-type {\n        vertical-align: middle;\n    }\n\n    .dataframe tbody tr th {\n        vertical-align: top;\n    }\n\n    .dataframe thead th {\n        text-align: right;\n    }\n</style>\n<table border=\"1\" class=\"dataframe\">\n  <thead>\n    <tr style=\"text-align: right;\">\n      <th></th>\n      <th>COUNTRY</th>\n      <th>Country</th>\n      <th>YEAR</th>\n      <th>ISC11</th>\n      <th>ISCED 2011</th>\n      <th>SUBJECT</th>\n      <th>INDICATOR</th>\n      <th>Indicator</th>\n      <th>Value</th>\n      <th>Flags</th>\n    </tr>\n  </thead>\n  <tbody>\n    <tr>\n      <th>0</th>\n      <td>FIN</td>\n      <td>Finland</td>\n      <td>2017</td>\n      <td>L1</td>\n      <td>Primary education (ISCED2011 level 1)</td>\n      <td>COM_T</td>\n      <td>HR_YR</td>\n      <td>Average hours per year of instruction time (in...</td>\n      <td>650.75000</td>\n      <td>NaN</td>\n    </tr>\n    <tr>\n      <th>1</th>\n      <td>FIN</td>\n      <td>Finland</td>\n      <td>2017</td>\n      <td>L1</td>\n      <td>Primary education (ISCED2011 level 1)</td>\n      <td>NCO_T</td>\n      <td>HR_YR</td>\n      <td>Average hours per year of instruction time (in...</td>\n      <td>32.57143</td>\n      <td>NaN</td>\n    </tr>\n    <tr>\n      <th>2</th>\n      <td>FIN</td>\n      <td>Finland</td>\n      <td>2017</td>\n      <td>L1</td>\n      <td>Primary education (ISCED2011 level 1)</td>\n      <td>INT_T</td>\n      <td>HR_YR</td>\n      <td>Average hours per year of instruction time (in...</td>\n      <td>683.32143</td>\n      <td>NaN</td>\n    </tr>\n    <tr>\n      <th>3</th>\n      <td>FIN</td>\n      <td>Finland</td>\n      <td>2017</td>\n      <td>L2_C4</td>\n      <td>Lower secondary general education  (ISCED2011 ...</td>\n      <td>COM_T</td>\n      <td>HR_YR</td>\n      <td>Average hours per year of instruction time (in...</td>\n      <td>807.50000</td>\n      <td>NaN</td>\n    </tr>\n    <tr>\n      <th>4</th>\n      <td>FIN</td>\n      <td>Finland</td>\n      <td>2017</td>\n      <td>L2_C4</td>\n      <td>Lower secondary general education  (ISCED2011 ...</td>\n      <td>NCO_T</td>\n      <td>HR_YR</td>\n      <td>Average hours per year of instruction time (in...</td>\n      <td>86.85714</td>\n      <td>NaN</td>\n    </tr>\n    <tr>\n      <th>...</th>\n      <td>...</td>\n      <td>...</td>\n      <td>...</td>\n      <td>...</td>\n      <td>...</td>\n      <td>...</td>\n      <td>...</td>\n      <td>...</td>\n      <td>...</td>\n      <td>...</td>\n    </tr>\n    <tr>\n      <th>331</th>\n      <td>USA</td>\n      <td>United States</td>\n      <td>2011</td>\n      <td>L2_C4</td>\n      <td>Lower secondary general education  (ISCED2011 ...</td>\n      <td>INT_T</td>\n      <td>HR_LEVEL</td>\n      <td>Total number of hours of instruction time (in ...</td>\n      <td>NaN</td>\n      <td>Missing data</td>\n    </tr>\n    <tr>\n      <th>332</th>\n      <td>USA</td>\n      <td>United States</td>\n      <td>2014</td>\n      <td>L2_C4</td>\n      <td>Lower secondary general education  (ISCED2011 ...</td>\n      <td>INT_T</td>\n      <td>HR_LEVEL</td>\n      <td>Total number of hours of instruction time (in ...</td>\n      <td>NaN</td>\n      <td>Missing data</td>\n    </tr>\n    <tr>\n      <th>333</th>\n      <td>USA</td>\n      <td>United States</td>\n      <td>2016</td>\n      <td>L2_C4</td>\n      <td>Lower secondary general education  (ISCED2011 ...</td>\n      <td>INT_T</td>\n      <td>HR_LEVEL</td>\n      <td>Total number of hours of instruction time (in ...</td>\n      <td>NaN</td>\n      <td>Missing data</td>\n    </tr>\n    <tr>\n      <th>334</th>\n      <td>USA</td>\n      <td>United States</td>\n      <td>2017</td>\n      <td>L2_C4</td>\n      <td>Lower secondary general education  (ISCED2011 ...</td>\n      <td>INT_T</td>\n      <td>HR_LEVEL</td>\n      <td>Total number of hours of instruction time (in ...</td>\n      <td>NaN</td>\n      <td>Missing data</td>\n    </tr>\n    <tr>\n      <th>335</th>\n      <td>USA</td>\n      <td>United States</td>\n      <td>2019</td>\n      <td>L2_C4</td>\n      <td>Lower secondary general education  (ISCED2011 ...</td>\n      <td>INT_T</td>\n      <td>HR_LEVEL</td>\n      <td>Total number of hours of instruction time (in ...</td>\n      <td>NaN</td>\n      <td>Missing data</td>\n    </tr>\n  </tbody>\n</table>\n<p>336 rows × 10 columns</p>\n</div>"
     },
     "metadata": {},
     "execution_count": 83
    }
   ],
   "source": [
    "df_clean = pd.read_csv('instruction_time_clean.csv')\n",
    "# df_clean['Value'].unique\n",
    "df_clean"
   ]
  }
 ]
}