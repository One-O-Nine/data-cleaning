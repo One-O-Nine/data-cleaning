{
 "metadata": {
  "language_info": {
   "codemirror_mode": {
    "name": "ipython",
    "version": 3
   },
   "file_extension": ".py",
   "mimetype": "text/x-python",
   "name": "python",
   "nbconvert_exporter": "python",
   "pygments_lexer": "ipython3",
   "version": "3.9.2"
  },
  "orig_nbformat": 2,
  "kernelspec": {
   "name": "python392jvsc74a57bd06a41de241e3c49038dede047491b24d5e1076520a0a1437c5f16620212fe7a39",
   "display_name": "Python 3.9.2 64-bit ('pip-2z6nf1Zb': venv)"
  }
 },
 "nbformat": 4,
 "nbformat_minor": 2,
 "cells": [
  {
   "cell_type": "code",
   "execution_count": 21,
   "metadata": {},
   "outputs": [],
   "source": [
    "import pandas as pd\n",
    "import numpy as np\n",
    "import json"
   ]
  },
  {
   "cell_type": "code",
   "execution_count": 63,
   "metadata": {},
   "outputs": [
    {
     "output_type": "execute_result",
     "data": {
      "text/plain": [
       "  COUNTRY  Country  YEAR  ISC11  \\\n",
       "0     FIN  Finland  2017     L1   \n",
       "1     FIN  Finland  2017     L1   \n",
       "2     FIN  Finland  2017     L1   \n",
       "3     FIN  Finland  2017  L2_C4   \n",
       "4     FIN  Finland  2017  L2_C4   \n",
       "\n",
       "                                          ISCED 2011 SUBJECT INDICATOR  \\\n",
       "0              Primary education (ISCED2011 level 1)   COM_T     HR_YR   \n",
       "1              Primary education (ISCED2011 level 1)   NCO_T     HR_YR   \n",
       "2              Primary education (ISCED2011 level 1)   INT_T     HR_YR   \n",
       "3  Lower secondary general education  (ISCED2011 ...   COM_T     HR_YR   \n",
       "4  Lower secondary general education  (ISCED2011 ...   NCO_T     HR_YR   \n",
       "\n",
       "                                           Indicator      Value Flags  \n",
       "0  Average hours per year of instruction time (in...  650.75000   NaN  \n",
       "1  Average hours per year of instruction time (in...   32.57143   NaN  \n",
       "2  Average hours per year of instruction time (in...  683.32143   NaN  \n",
       "3  Average hours per year of instruction time (in...  807.50000   NaN  \n",
       "4  Average hours per year of instruction time (in...   86.85714   NaN  "
      ],
      "text/html": "<div>\n<style scoped>\n    .dataframe tbody tr th:only-of-type {\n        vertical-align: middle;\n    }\n\n    .dataframe tbody tr th {\n        vertical-align: top;\n    }\n\n    .dataframe thead th {\n        text-align: right;\n    }\n</style>\n<table border=\"1\" class=\"dataframe\">\n  <thead>\n    <tr style=\"text-align: right;\">\n      <th></th>\n      <th>COUNTRY</th>\n      <th>Country</th>\n      <th>YEAR</th>\n      <th>ISC11</th>\n      <th>ISCED 2011</th>\n      <th>SUBJECT</th>\n      <th>INDICATOR</th>\n      <th>Indicator</th>\n      <th>Value</th>\n      <th>Flags</th>\n    </tr>\n  </thead>\n  <tbody>\n    <tr>\n      <th>0</th>\n      <td>FIN</td>\n      <td>Finland</td>\n      <td>2017</td>\n      <td>L1</td>\n      <td>Primary education (ISCED2011 level 1)</td>\n      <td>COM_T</td>\n      <td>HR_YR</td>\n      <td>Average hours per year of instruction time (in...</td>\n      <td>650.75000</td>\n      <td>NaN</td>\n    </tr>\n    <tr>\n      <th>1</th>\n      <td>FIN</td>\n      <td>Finland</td>\n      <td>2017</td>\n      <td>L1</td>\n      <td>Primary education (ISCED2011 level 1)</td>\n      <td>NCO_T</td>\n      <td>HR_YR</td>\n      <td>Average hours per year of instruction time (in...</td>\n      <td>32.57143</td>\n      <td>NaN</td>\n    </tr>\n    <tr>\n      <th>2</th>\n      <td>FIN</td>\n      <td>Finland</td>\n      <td>2017</td>\n      <td>L1</td>\n      <td>Primary education (ISCED2011 level 1)</td>\n      <td>INT_T</td>\n      <td>HR_YR</td>\n      <td>Average hours per year of instruction time (in...</td>\n      <td>683.32143</td>\n      <td>NaN</td>\n    </tr>\n    <tr>\n      <th>3</th>\n      <td>FIN</td>\n      <td>Finland</td>\n      <td>2017</td>\n      <td>L2_C4</td>\n      <td>Lower secondary general education  (ISCED2011 ...</td>\n      <td>COM_T</td>\n      <td>HR_YR</td>\n      <td>Average hours per year of instruction time (in...</td>\n      <td>807.50000</td>\n      <td>NaN</td>\n    </tr>\n    <tr>\n      <th>4</th>\n      <td>FIN</td>\n      <td>Finland</td>\n      <td>2017</td>\n      <td>L2_C4</td>\n      <td>Lower secondary general education  (ISCED2011 ...</td>\n      <td>NCO_T</td>\n      <td>HR_YR</td>\n      <td>Average hours per year of instruction time (in...</td>\n      <td>86.85714</td>\n      <td>NaN</td>\n    </tr>\n  </tbody>\n</table>\n</div>"
     },
     "metadata": {},
     "execution_count": 63
    }
   ],
   "source": [
    "df = pd.read_csv('instruction_time.csv')\n",
    "df.head()"
   ]
  },
  {
   "cell_type": "code",
   "execution_count": 25,
   "metadata": {},
   "outputs": [],
   "source": [
    "with open('../iso_country_codes/iso_country_codes.json', encoding=\"ISO-8859-1\") as fp:\n",
    "    iso_country_dic = dict( json.load(fp))\n",
    "# iso_country_dic"
   ]
  },
  {
   "cell_type": "code",
   "execution_count": 67,
   "metadata": {},
   "outputs": [
    {
     "output_type": "execute_result",
     "data": {
      "text/plain": [
       "   country  year  isc11                                         isced 2011  \\\n",
       "0  Finland  2017     L1              Primary education (ISCED2011 level 1)   \n",
       "1  Finland  2017     L1              Primary education (ISCED2011 level 1)   \n",
       "2  Finland  2017     L1              Primary education (ISCED2011 level 1)   \n",
       "3  Finland  2017  L2_C4  Lower secondary general education  (ISCED2011 ...   \n",
       "4  Finland  2017  L2_C4  Lower secondary general education  (ISCED2011 ...   \n",
       "\n",
       "  subject indicator                                          indicator  \\\n",
       "0   COM_T     HR_YR  Average hours per year of instruction time (in...   \n",
       "1   NCO_T     HR_YR  Average hours per year of instruction time (in...   \n",
       "2   INT_T     HR_YR  Average hours per year of instruction time (in...   \n",
       "3   COM_T     HR_YR  Average hours per year of instruction time (in...   \n",
       "4   NCO_T     HR_YR  Average hours per year of instruction time (in...   \n",
       "\n",
       "       value flags   id   ID  \n",
       "0  650.75000   NaN  FIN  FIN  \n",
       "1   32.57143   NaN  FIN  FIN  \n",
       "2  683.32143   NaN  FIN  FIN  \n",
       "3  807.50000   NaN  FIN  FIN  \n",
       "4   86.85714   NaN  FIN  FIN  "
      ],
      "text/html": "<div>\n<style scoped>\n    .dataframe tbody tr th:only-of-type {\n        vertical-align: middle;\n    }\n\n    .dataframe tbody tr th {\n        vertical-align: top;\n    }\n\n    .dataframe thead th {\n        text-align: right;\n    }\n</style>\n<table border=\"1\" class=\"dataframe\">\n  <thead>\n    <tr style=\"text-align: right;\">\n      <th></th>\n      <th>country</th>\n      <th>year</th>\n      <th>isc11</th>\n      <th>isced 2011</th>\n      <th>subject</th>\n      <th>indicator</th>\n      <th>indicator</th>\n      <th>value</th>\n      <th>flags</th>\n      <th>id</th>\n      <th>ID</th>\n    </tr>\n  </thead>\n  <tbody>\n    <tr>\n      <th>0</th>\n      <td>Finland</td>\n      <td>2017</td>\n      <td>L1</td>\n      <td>Primary education (ISCED2011 level 1)</td>\n      <td>COM_T</td>\n      <td>HR_YR</td>\n      <td>Average hours per year of instruction time (in...</td>\n      <td>650.75000</td>\n      <td>NaN</td>\n      <td>FIN</td>\n      <td>FIN</td>\n    </tr>\n    <tr>\n      <th>1</th>\n      <td>Finland</td>\n      <td>2017</td>\n      <td>L1</td>\n      <td>Primary education (ISCED2011 level 1)</td>\n      <td>NCO_T</td>\n      <td>HR_YR</td>\n      <td>Average hours per year of instruction time (in...</td>\n      <td>32.57143</td>\n      <td>NaN</td>\n      <td>FIN</td>\n      <td>FIN</td>\n    </tr>\n    <tr>\n      <th>2</th>\n      <td>Finland</td>\n      <td>2017</td>\n      <td>L1</td>\n      <td>Primary education (ISCED2011 level 1)</td>\n      <td>INT_T</td>\n      <td>HR_YR</td>\n      <td>Average hours per year of instruction time (in...</td>\n      <td>683.32143</td>\n      <td>NaN</td>\n      <td>FIN</td>\n      <td>FIN</td>\n    </tr>\n    <tr>\n      <th>3</th>\n      <td>Finland</td>\n      <td>2017</td>\n      <td>L2_C4</td>\n      <td>Lower secondary general education  (ISCED2011 ...</td>\n      <td>COM_T</td>\n      <td>HR_YR</td>\n      <td>Average hours per year of instruction time (in...</td>\n      <td>807.50000</td>\n      <td>NaN</td>\n      <td>FIN</td>\n      <td>FIN</td>\n    </tr>\n    <tr>\n      <th>4</th>\n      <td>Finland</td>\n      <td>2017</td>\n      <td>L2_C4</td>\n      <td>Lower secondary general education  (ISCED2011 ...</td>\n      <td>NCO_T</td>\n      <td>HR_YR</td>\n      <td>Average hours per year of instruction time (in...</td>\n      <td>86.85714</td>\n      <td>NaN</td>\n      <td>FIN</td>\n      <td>FIN</td>\n    </tr>\n  </tbody>\n</table>\n</div>"
     },
     "metadata": {},
     "execution_count": 67
    }
   ],
   "source": [
    "# df.drop('COUNTRY',inplace=True, axis=1)\n",
    "df.columns = map(str.lower, df.columns)\n",
    "df['ID'] = df['country'].str.strip().str.lower().map(iso_country_dic)\n",
    "\n",
    "df.head()"
   ]
  },
  {
   "cell_type": "code",
   "execution_count": 57,
   "metadata": {},
   "outputs": [],
   "source": [
    "# df['Indicator'] = df['Indicator'].astype('category').cat.codes\n",
    "\n",
    "# df['INDICATOR'] = df['INDICATOR'].astype('category').cat.codes\n",
    "# df[['Indicator', 'INDICATOR']].corr()\n"
   ]
  },
  {
   "cell_type": "code",
   "execution_count": 68,
   "metadata": {},
   "outputs": [],
   "source": [
    "df.to_csv('instruction_time_clean.csv', index=False)"
   ]
  },
  {
   "cell_type": "code",
   "execution_count": 7,
   "metadata": {},
   "outputs": [],
   "source": [
    "# Keep for reference\n",
    "# df.to_csv('instruction_time_clean.csv', index=False)\n",
    "# df.\n",
    "# Set columns to filter by\n",
    "# integer_columns = ['YEAR', 'Year', 'PowerCode Code']\n",
    "# float_columns = ['Value']\n",
    "\n",
    "# # Set all columns as its category... clean out values\n",
    "# df[list(df.columns)] = df[list(df.columns)].astype('category')\n",
    "# df[integer_columns] = df[integer_columns].astype(int)\n",
    "# df[float_columns] = df[float_columns].astype(float)\n",
    "\n",
    "# # Verification of correlations between similar columns for us to drop\n",
    "# #   * Unique Values returned on the right\n",
    "# # df['SUBJECT'].unique # ['COM_T', 'INT_T', 'NCO_T']\n",
    "# # df['Subject'].unique # ['Compulsory instruction time (total)', 'Intended instruction time (total)', 'Non-compulsory instruction time (total)']\n",
    "# # df['AGE'].unique # ['T']\n",
    "# # df['Age'].unique # ['Total: All age groups']\n",
    "# # df['UNIT'].unique # []\n",
    "# # df['Unit'].unique # []\n",
    "# # df['PowerCode Code'].unique # Same value: 0\n",
    "# # df['PowerCode'].unique # ['Units']\n",
    "# # df['Reference Period Code'].unique # []\n",
    "# # df['Reference Period'].unique # []\n",
    "\n",
    "# df['Value'] = df['Value'].fillna(np.NaN)\n",
    "# df['Value'].unique\n",
    "# # Set gathered from the unique tests\n",
    "# columns_to_drop = [\n",
    "#     'Year', # corr: 1\n",
    "#     'Subject', # corr: 1\n",
    "#     'AGE',\n",
    "#     'Age',\n",
    "#     'Unit Code',\n",
    "#     'Unit',\n",
    "#     'PowerCode Code',\n",
    "#     'PowerCode',\n",
    "#     'Reference Period Code',\n",
    "#     'Reference Period',\n",
    "#     'Flag Codes', # corr: 1\n",
    "# ]\n",
    "# df = df.drop(columns_to_drop, axis=1)\n",
    "# df.to_csv('instruction_time_clean.csv', index=False)\n"
   ]
  },
  {
   "cell_type": "code",
   "execution_count": 60,
   "metadata": {},
   "outputs": [],
   "source": [
    "# df_clean = pd.read_csv('instruction_time_clean.csv')\n",
    "# # df_clean['Value'].unique\n",
    "# df_clean"
   ]
  }
 ]
}