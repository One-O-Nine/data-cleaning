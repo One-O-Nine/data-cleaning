{
 "cells": [
  {
   "cell_type": "code",
   "execution_count": 1,
   "source": [
    "# standard libraries\r\n",
    "import pandas as pd\r\n",
    "import numpy as np\r\n",
    "import matplotlib.pylab as plt\r\n",
    "\r\n",
    "# statistical modelling packages\r\n",
    "import statsmodels.api as sm\r\n",
    "from statsmodels.stats.outliers_influence import variance_inflation_factor # for detecting multicolinearity\r\n",
    "import statsmodels.formula.api as smf # allows us to supply a forumla to statsmodels for quick iteration"
   ],
   "outputs": [],
   "metadata": {}
  },
  {
   "cell_type": "code",
   "execution_count": 4,
   "source": [
    "df= pd.read_csv('imputed.csv')\r\n",
    "log_df = df.copy("
   ],
   "outputs": [],
   "metadata": {}
  },
  {
   "cell_type": "markdown",
   "source": [
    "# Log Data"
   ],
   "metadata": {}
  },
  {
   "cell_type": "markdown",
   "source": [
    "Create a log list based on linear_or_nah.ipynb graphs"
   ],
   "metadata": {}
  },
  {
   "cell_type": "code",
   "execution_count": 9,
   "source": [
    "log_list = [\"GDP_2018\",\"LS_completion\",\"LS_completion_male\",\"LS_completion_female\",\"teacher_need_multicultural_pd\",\"salary_per_instruction_hr\",\"expect_degree\",\"home_desk_quiet\"]"
   ],
   "outputs": [],
   "metadata": {}
  },
  {
   "cell_type": "markdown",
   "source": [
    "Run for loop to create \"logged\" columns with ending \"_log\""
   ],
   "metadata": {}
  },
  {
   "cell_type": "code",
   "execution_count": 16,
   "source": [
    "for i in log_list:\r\n",
    "    df[i+\"_log\"] = np.log(df[i])\r\n",
    "    print(\"Logged \" + str(i))"
   ],
   "outputs": [
    {
     "output_type": "stream",
     "name": "stdout",
     "text": [
      "Logged GDP_2018\n",
      "Logged LS_completion\n",
      "Logged LS_completion_male\n",
      "Logged LS_completion_female\n",
      "Logged teacher_need_multicultural_pd\n",
      "Logged salary_per_instruction_hr\n",
      "Logged expect_degree\n",
      "Logged home_desk_quiet\n"
     ]
    }
   ],
   "metadata": {}
  },
  {
   "cell_type": "code",
   "execution_count": 21,
   "source": [
    "df.head()"
   ],
   "outputs": [
    {
     "output_type": "execute_result",
     "data": {
      "text/plain": [
       "         COUNTRY        ID  READING_AVG  MATH_AVG  SCIENCE_AVG   GDP_2018  \\\n",
       "0  United States       USA          505       478          502  62605.592   \n",
       "1         Russia  USSR-RUS          479       488          478  29266.855   \n",
       "2        Belarus  USSR-BLR          474       472          471  20003.029   \n",
       "3         Israel       ISR          470       463          462  37972.002   \n",
       "4        Ukraine  USSR-UKR          466       453          469   9283.433   \n",
       "\n",
       "   P_Enrollment_Totals  LS_completion  LS_completion_male  \\\n",
       "0          24957955.89       98.75227           98.901003   \n",
       "1           6927980.00       99.41000           99.630000   \n",
       "2            427752.00       99.93871           99.853840   \n",
       "3            936214.00       98.07000           99.360000   \n",
       "4           1676550.00       99.45947           99.511510   \n",
       "\n",
       "   LS_completion_female  ...  GDP_2018_log  LS_completion_log  \\\n",
       "0             98.606098  ...     11.044610           4.592614   \n",
       "1             99.170000  ...     10.284211           4.599253   \n",
       "2            100.000000  ...      9.903639           4.604557   \n",
       "3             96.930000  ...     10.544604           4.585682   \n",
       "4             99.417580  ...      9.135987           4.599750   \n",
       "\n",
       "   LS_completion_male_log  LS_completion_female_log  \\\n",
       "0                4.594119                  4.591133   \n",
       "1                4.601463                  4.596836   \n",
       "2                4.603708                  4.605170   \n",
       "3                4.598750                  4.573989   \n",
       "4                4.600273                  4.599329   \n",
       "\n",
       "   teacher_need_multicultural_pd_log  salary_per_instruction_hr_log  \\\n",
       "0                           1.808289                       2.724703   \n",
       "1                           2.541602                       3.690548   \n",
       "2                           3.581204                       3.012459   \n",
       "3                           2.803360                       2.663426   \n",
       "4                           3.266745                       3.175162   \n",
       "\n",
       "   expect_degree_log  home_desk_quiet_log  P_expenditure_rel_GDP  \\\n",
       "0           4.330733             4.294561               0.187316   \n",
       "1           2.827314             4.479607               0.197987   \n",
       "2           3.988677             4.189457               0.161031   \n",
       "3           4.043051             4.502029               0.209926   \n",
       "4           4.149784             3.946016               0.281369   \n",
       "\n",
       "   LS_expenditure_rel_GDP  \n",
       "0                0.202753  \n",
       "1                0.226893  \n",
       "2                0.162073  \n",
       "3                0.271528  \n",
       "4                0.270536  \n",
       "\n",
       "[5 rows x 41 columns]"
      ],
      "text/html": [
       "<div>\n",
       "<style scoped>\n",
       "    .dataframe tbody tr th:only-of-type {\n",
       "        vertical-align: middle;\n",
       "    }\n",
       "\n",
       "    .dataframe tbody tr th {\n",
       "        vertical-align: top;\n",
       "    }\n",
       "\n",
       "    .dataframe thead th {\n",
       "        text-align: right;\n",
       "    }\n",
       "</style>\n",
       "<table border=\"1\" class=\"dataframe\">\n",
       "  <thead>\n",
       "    <tr style=\"text-align: right;\">\n",
       "      <th></th>\n",
       "      <th>COUNTRY</th>\n",
       "      <th>ID</th>\n",
       "      <th>READING_AVG</th>\n",
       "      <th>MATH_AVG</th>\n",
       "      <th>SCIENCE_AVG</th>\n",
       "      <th>GDP_2018</th>\n",
       "      <th>P_Enrollment_Totals</th>\n",
       "      <th>LS_completion</th>\n",
       "      <th>LS_completion_male</th>\n",
       "      <th>LS_completion_female</th>\n",
       "      <th>...</th>\n",
       "      <th>GDP_2018_log</th>\n",
       "      <th>LS_completion_log</th>\n",
       "      <th>LS_completion_male_log</th>\n",
       "      <th>LS_completion_female_log</th>\n",
       "      <th>teacher_need_multicultural_pd_log</th>\n",
       "      <th>salary_per_instruction_hr_log</th>\n",
       "      <th>expect_degree_log</th>\n",
       "      <th>home_desk_quiet_log</th>\n",
       "      <th>P_expenditure_rel_GDP</th>\n",
       "      <th>LS_expenditure_rel_GDP</th>\n",
       "    </tr>\n",
       "  </thead>\n",
       "  <tbody>\n",
       "    <tr>\n",
       "      <th>0</th>\n",
       "      <td>United States</td>\n",
       "      <td>USA</td>\n",
       "      <td>505</td>\n",
       "      <td>478</td>\n",
       "      <td>502</td>\n",
       "      <td>62605.592</td>\n",
       "      <td>24957955.89</td>\n",
       "      <td>98.75227</td>\n",
       "      <td>98.901003</td>\n",
       "      <td>98.606098</td>\n",
       "      <td>...</td>\n",
       "      <td>11.044610</td>\n",
       "      <td>4.592614</td>\n",
       "      <td>4.594119</td>\n",
       "      <td>4.591133</td>\n",
       "      <td>1.808289</td>\n",
       "      <td>2.724703</td>\n",
       "      <td>4.330733</td>\n",
       "      <td>4.294561</td>\n",
       "      <td>0.187316</td>\n",
       "      <td>0.202753</td>\n",
       "    </tr>\n",
       "    <tr>\n",
       "      <th>1</th>\n",
       "      <td>Russia</td>\n",
       "      <td>USSR-RUS</td>\n",
       "      <td>479</td>\n",
       "      <td>488</td>\n",
       "      <td>478</td>\n",
       "      <td>29266.855</td>\n",
       "      <td>6927980.00</td>\n",
       "      <td>99.41000</td>\n",
       "      <td>99.630000</td>\n",
       "      <td>99.170000</td>\n",
       "      <td>...</td>\n",
       "      <td>10.284211</td>\n",
       "      <td>4.599253</td>\n",
       "      <td>4.601463</td>\n",
       "      <td>4.596836</td>\n",
       "      <td>2.541602</td>\n",
       "      <td>3.690548</td>\n",
       "      <td>2.827314</td>\n",
       "      <td>4.479607</td>\n",
       "      <td>0.197987</td>\n",
       "      <td>0.226893</td>\n",
       "    </tr>\n",
       "    <tr>\n",
       "      <th>2</th>\n",
       "      <td>Belarus</td>\n",
       "      <td>USSR-BLR</td>\n",
       "      <td>474</td>\n",
       "      <td>472</td>\n",
       "      <td>471</td>\n",
       "      <td>20003.029</td>\n",
       "      <td>427752.00</td>\n",
       "      <td>99.93871</td>\n",
       "      <td>99.853840</td>\n",
       "      <td>100.000000</td>\n",
       "      <td>...</td>\n",
       "      <td>9.903639</td>\n",
       "      <td>4.604557</td>\n",
       "      <td>4.603708</td>\n",
       "      <td>4.605170</td>\n",
       "      <td>3.581204</td>\n",
       "      <td>3.012459</td>\n",
       "      <td>3.988677</td>\n",
       "      <td>4.189457</td>\n",
       "      <td>0.161031</td>\n",
       "      <td>0.162073</td>\n",
       "    </tr>\n",
       "    <tr>\n",
       "      <th>3</th>\n",
       "      <td>Israel</td>\n",
       "      <td>ISR</td>\n",
       "      <td>470</td>\n",
       "      <td>463</td>\n",
       "      <td>462</td>\n",
       "      <td>37972.002</td>\n",
       "      <td>936214.00</td>\n",
       "      <td>98.07000</td>\n",
       "      <td>99.360000</td>\n",
       "      <td>96.930000</td>\n",
       "      <td>...</td>\n",
       "      <td>10.544604</td>\n",
       "      <td>4.585682</td>\n",
       "      <td>4.598750</td>\n",
       "      <td>4.573989</td>\n",
       "      <td>2.803360</td>\n",
       "      <td>2.663426</td>\n",
       "      <td>4.043051</td>\n",
       "      <td>4.502029</td>\n",
       "      <td>0.209926</td>\n",
       "      <td>0.271528</td>\n",
       "    </tr>\n",
       "    <tr>\n",
       "      <th>4</th>\n",
       "      <td>Ukraine</td>\n",
       "      <td>USSR-UKR</td>\n",
       "      <td>466</td>\n",
       "      <td>453</td>\n",
       "      <td>469</td>\n",
       "      <td>9283.433</td>\n",
       "      <td>1676550.00</td>\n",
       "      <td>99.45947</td>\n",
       "      <td>99.511510</td>\n",
       "      <td>99.417580</td>\n",
       "      <td>...</td>\n",
       "      <td>9.135987</td>\n",
       "      <td>4.599750</td>\n",
       "      <td>4.600273</td>\n",
       "      <td>4.599329</td>\n",
       "      <td>3.266745</td>\n",
       "      <td>3.175162</td>\n",
       "      <td>4.149784</td>\n",
       "      <td>3.946016</td>\n",
       "      <td>0.281369</td>\n",
       "      <td>0.270536</td>\n",
       "    </tr>\n",
       "  </tbody>\n",
       "</table>\n",
       "<p>5 rows × 41 columns</p>\n",
       "</div>"
      ]
     },
     "metadata": {},
     "execution_count": 21
    }
   ],
   "metadata": {}
  },
  {
   "cell_type": "markdown",
   "source": [
    "# Create New Columns"
   ],
   "metadata": {}
  },
  {
   "cell_type": "markdown",
   "source": [
    "Create new columns based on expenditure per student as percent of GDP"
   ],
   "metadata": {}
  },
  {
   "cell_type": "code",
   "execution_count": 12,
   "source": [
    "df[\"P_expenditure_rel_GDP\"] = df.P_annual_exp / df.GDP_2018\r\n",
    "df[\"LS_expenditure_rel_GDP\"] = df.LS_annual_exp / df.GDP_2018"
   ],
   "outputs": [],
   "metadata": {}
  },
  {
   "cell_type": "code",
   "execution_count": 13,
   "source": [
    "df.columns"
   ],
   "outputs": [
    {
     "output_type": "execute_result",
     "data": {
      "text/plain": [
       "Index(['COUNTRY', 'ID', 'READING_AVG', 'MATH_AVG', 'SCIENCE_AVG', 'GDP_2018',\n",
       "       'P_Enrollment_Totals', 'LS_completion', 'LS_completion_male',\n",
       "       'LS_completion_female', 'teacher_sent_societal_contribution',\n",
       "       'teacher_need_multicultural_pd', 'teacher_PD_12M_Value',\n",
       "       'salary_per_instruction_hr', 'principal_PD_12M_Value', 'LS_ta_presence',\n",
       "       'P_ta_presence', 'LS_guard_presence', 'P_sped_ta_presence',\n",
       "       'LS_sped_ta_presence', 'P_national_assessment',\n",
       "       'LS_national_assessment', 'P_annual_exp', 'LS_annual_exp',\n",
       "       'expect_degree', 'test_anxiety', 'study_habits', 'expect_good_grades',\n",
       "       'home_comp_internet', 'home_desk_quiet', 'home_schoolbooks',\n",
       "       'GDP_2018_log', 'LS_completion_log', 'LS_completion_male_log',\n",
       "       'LS_completion_female_log', 'teacher_need_multicultural_pd_log',\n",
       "       'salary_per_instruction_hr_log', 'expect_degree_log',\n",
       "       'home_desk_quiet_log', 'P_expenditure_rel_GDP',\n",
       "       'LS_expenditure_rel_GDP'],\n",
       "      dtype='object')"
      ]
     },
     "metadata": {},
     "execution_count": 13
    }
   ],
   "metadata": {}
  },
  {
   "cell_type": "code",
   "execution_count": 14,
   "source": [
    "df.to_csv('transformed.csv')"
   ],
   "outputs": [],
   "metadata": {}
  },
  {
   "cell_type": "code",
   "execution_count": null,
   "source": [],
   "outputs": [],
   "metadata": {}
  }
 ],
 "metadata": {
  "orig_nbformat": 4,
  "language_info": {
   "name": "python",
   "version": "3.9.5",
   "mimetype": "text/x-python",
   "codemirror_mode": {
    "name": "ipython",
    "version": 3
   },
   "pygments_lexer": "ipython3",
   "nbconvert_exporter": "python",
   "file_extension": ".py"
  },
  "kernelspec": {
   "name": "python3",
   "display_name": "Python 3.9.5 64-bit"
  },
  "interpreter": {
   "hash": "02de5609ef162b6bcc51dd429fd31b9a1f163c414526741362218fd7f2e354ad"
  }
 },
 "nbformat": 4,
 "nbformat_minor": 2
}