{
 "metadata": {
  "language_info": {
   "codemirror_mode": {
    "name": "ipython",
    "version": 3
   },
   "file_extension": ".py",
   "mimetype": "text/x-python",
   "name": "python",
   "nbconvert_exporter": "python",
   "pygments_lexer": "ipython3",
   "version": "3.9.5"
  },
  "orig_nbformat": 2,
  "kernelspec": {
   "name": "python395jvsc74a57bd002de5609ef162b6bcc51dd429fd31b9a1f163c414526741362218fd7f2e354ad",
   "display_name": "Python 3.9.5 64-bit"
  },
  "metadata": {
   "interpreter": {
    "hash": "02de5609ef162b6bcc51dd429fd31b9a1f163c414526741362218fd7f2e354ad"
   }
  }
 },
 "nbformat": 4,
 "nbformat_minor": 2,
 "cells": [
  {
   "cell_type": "code",
   "execution_count": 46,
   "metadata": {},
   "outputs": [],
   "source": [
    "import pandas as pd \n",
    "\n",
    "def csv_data(relative_path):\n",
    "    \n",
    "    csv = pd.read_csv(relative_path)\n",
    "\n",
    "    df = csv.copy()\n",
    "\n",
    "    print(df.info())\n",
    "\n",
    "    cols = list(df.columns)\n",
    "\n",
    "    print('\\033[1m' + 'NaN Count by Column' + '\\033[0m')\n",
    "\n",
    "    for item in cols:\n",
    "        null_vals = df[item].isna().sum()\n",
    "        print(str(item) + ' = ' + str( null_vals))\n",
    "    \n",
    "#csv_data(input()) "
   ]
  },
  {
   "cell_type": "code",
   "execution_count": null,
   "metadata": {},
   "outputs": [],
   "source": []
  }
 ]
}