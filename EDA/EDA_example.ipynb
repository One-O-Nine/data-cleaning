{
 "metadata": {
  "language_info": {
   "codemirror_mode": {
    "name": "ipython",
    "version": 3
   },
   "file_extension": ".py",
   "mimetype": "text/x-python",
   "name": "python",
   "nbconvert_exporter": "python",
   "pygments_lexer": "ipython3",
   "version": "3.9.5"
  },
  "orig_nbformat": 4,
  "kernelspec": {
   "name": "python3",
   "display_name": "Python 3.9.5 64-bit ('3.9')"
  },
  "interpreter": {
   "hash": "7812ea015bdcee6f23a998adcdd2ef97c151c0c241b7b7070987d9313e41299d"
  }
 },
 "nbformat": 4,
 "nbformat_minor": 2,
 "cells": [
  {
   "cell_type": "code",
   "execution_count": 1,
   "metadata": {},
   "outputs": [
    {
     "output_type": "stream",
     "name": "stdout",
     "text": [
      "Requirement already satisfied: pandas in /Library/Frameworks/Python.framework/Versions/3.9/lib/python3.9/site-packages (1.2.4)\nRequirement already satisfied: pytz>=2017.3 in /Library/Frameworks/Python.framework/Versions/3.9/lib/python3.9/site-packages (from pandas) (2021.1)\nRequirement already satisfied: python-dateutil>=2.7.3 in /Users/mikeygear/Library/Python/3.9/lib/python/site-packages (from pandas) (2.8.1)\nRequirement already satisfied: numpy>=1.16.5 in /Library/Frameworks/Python.framework/Versions/3.9/lib/python3.9/site-packages (from pandas) (1.20.3)\nRequirement already satisfied: six>=1.5 in /Users/mikeygear/Library/Python/3.9/lib/python/site-packages (from python-dateutil>=2.7.3->pandas) (1.16.0)\n"
     ]
    }
   ],
   "source": [
    "!pip install pandas"
   ]
  },
  {
   "cell_type": "code",
   "execution_count": 2,
   "metadata": {},
   "outputs": [],
   "source": [
    "import pandas as pd \n",
    "import numpy as np \n",
    "import matplotlib.pyplot as plt \n",
    "import seaborn as sns "
   ]
  },
  {
   "cell_type": "code",
   "execution_count": 3,
   "metadata": {},
   "outputs": [
    {
     "output_type": "execute_result",
     "data": {
      "text/plain": [
       "        COUNTRY_NAME  READING_AVG  MATH_AVG  SCIENCE_AVG        ID\n",
       "0       OECD average        487.0     489.0        489.0       NaN\n",
       "1    B-S-J-Z (China)        555.0     591.0        590.0  CHN-BSJZ\n",
       "2          Singapore        549.0     569.0        551.0       SGP\n",
       "3      Macao (China)        525.0     558.0        544.0    CHN-MO\n",
       "4  Hong Kong (China)        524.0     551.0        517.0   CHN-HKG"
      ],
      "text/html": "<div>\n<style scoped>\n    .dataframe tbody tr th:only-of-type {\n        vertical-align: middle;\n    }\n\n    .dataframe tbody tr th {\n        vertical-align: top;\n    }\n\n    .dataframe thead th {\n        text-align: right;\n    }\n</style>\n<table border=\"1\" class=\"dataframe\">\n  <thead>\n    <tr style=\"text-align: right;\">\n      <th></th>\n      <th>COUNTRY_NAME</th>\n      <th>READING_AVG</th>\n      <th>MATH_AVG</th>\n      <th>SCIENCE_AVG</th>\n      <th>ID</th>\n    </tr>\n  </thead>\n  <tbody>\n    <tr>\n      <th>0</th>\n      <td>OECD average</td>\n      <td>487.0</td>\n      <td>489.0</td>\n      <td>489.0</td>\n      <td>NaN</td>\n    </tr>\n    <tr>\n      <th>1</th>\n      <td>B-S-J-Z (China)</td>\n      <td>555.0</td>\n      <td>591.0</td>\n      <td>590.0</td>\n      <td>CHN-BSJZ</td>\n    </tr>\n    <tr>\n      <th>2</th>\n      <td>Singapore</td>\n      <td>549.0</td>\n      <td>569.0</td>\n      <td>551.0</td>\n      <td>SGP</td>\n    </tr>\n    <tr>\n      <th>3</th>\n      <td>Macao (China)</td>\n      <td>525.0</td>\n      <td>558.0</td>\n      <td>544.0</td>\n      <td>CHN-MO</td>\n    </tr>\n    <tr>\n      <th>4</th>\n      <td>Hong Kong (China)</td>\n      <td>524.0</td>\n      <td>551.0</td>\n      <td>517.0</td>\n      <td>CHN-HKG</td>\n    </tr>\n  </tbody>\n</table>\n</div>"
     },
     "metadata": {},
     "execution_count": 3
    }
   ],
   "source": [
    "pisa_df = pd.read_csv(\"PISA_SCORES_xl_clean.csv\")\n",
    "pisa_df.head()"
   ]
  },
  {
   "cell_type": "code",
   "execution_count": 4,
   "metadata": {},
   "outputs": [
    {
     "output_type": "execute_result",
     "data": {
      "text/plain": [
       "    COUNTRY_NAME  LS_15yrexp_to_perCapGDP  US_15yrexp_to_perCapGDP  \\\n",
       "0           OECD                      NaN                      NaN   \n",
       "1      Australia                 1.206361                 1.206361   \n",
       "2        Austria                 0.975104                 1.067809   \n",
       "3  Belgium (Fl.)                 1.032397                 1.032397   \n",
       "4  Belgium (Fr.)                 0.999304                 1.121943   \n",
       "\n",
       "   LS_topscale_to_start  US_topscale_to_start  yrs_start_to_topSalary      ID  \n",
       "0                   NaN                   NaN                     NaN     NaN  \n",
       "1              1.425063              1.425128                     7.0     AUS  \n",
       "2              1.942419              2.067747                    34.0     AUT  \n",
       "3              1.727457              1.727457                    27.0  BEL-FL  \n",
       "4              1.722669              1.620292                    27.0  BEL-FR  "
      ],
      "text/html": "<div>\n<style scoped>\n    .dataframe tbody tr th:only-of-type {\n        vertical-align: middle;\n    }\n\n    .dataframe tbody tr th {\n        vertical-align: top;\n    }\n\n    .dataframe thead th {\n        text-align: right;\n    }\n</style>\n<table border=\"1\" class=\"dataframe\">\n  <thead>\n    <tr style=\"text-align: right;\">\n      <th></th>\n      <th>COUNTRY_NAME</th>\n      <th>LS_15yrexp_to_perCapGDP</th>\n      <th>US_15yrexp_to_perCapGDP</th>\n      <th>LS_topscale_to_start</th>\n      <th>US_topscale_to_start</th>\n      <th>yrs_start_to_topSalary</th>\n      <th>ID</th>\n    </tr>\n  </thead>\n  <tbody>\n    <tr>\n      <th>0</th>\n      <td>OECD</td>\n      <td>NaN</td>\n      <td>NaN</td>\n      <td>NaN</td>\n      <td>NaN</td>\n      <td>NaN</td>\n      <td>NaN</td>\n    </tr>\n    <tr>\n      <th>1</th>\n      <td>Australia</td>\n      <td>1.206361</td>\n      <td>1.206361</td>\n      <td>1.425063</td>\n      <td>1.425128</td>\n      <td>7.0</td>\n      <td>AUS</td>\n    </tr>\n    <tr>\n      <th>2</th>\n      <td>Austria</td>\n      <td>0.975104</td>\n      <td>1.067809</td>\n      <td>1.942419</td>\n      <td>2.067747</td>\n      <td>34.0</td>\n      <td>AUT</td>\n    </tr>\n    <tr>\n      <th>3</th>\n      <td>Belgium (Fl.)</td>\n      <td>1.032397</td>\n      <td>1.032397</td>\n      <td>1.727457</td>\n      <td>1.727457</td>\n      <td>27.0</td>\n      <td>BEL-FL</td>\n    </tr>\n    <tr>\n      <th>4</th>\n      <td>Belgium (Fr.)</td>\n      <td>0.999304</td>\n      <td>1.121943</td>\n      <td>1.722669</td>\n      <td>1.620292</td>\n      <td>27.0</td>\n      <td>BEL-FR</td>\n    </tr>\n  </tbody>\n</table>\n</div>"
     },
     "metadata": {},
     "execution_count": 4
    }
   ],
   "source": [
    "salaryRatio_df = pd.read_csv(\"salaryRatio_by_exp_clean.csv\")\n",
    "salaryRatio_df.head()"
   ]
  },
  {
   "cell_type": "code",
   "execution_count": 5,
   "metadata": {},
   "outputs": [
    {
     "output_type": "execute_result",
     "data": {
      "text/plain": [
       "        COUNTRY_NAME  READING_AVG  MATH_AVG  SCIENCE_AVG        ID  \\\n",
       "0    B-S-J-Z (China)        555.0     591.0        590.0  CHN-BSJZ   \n",
       "1          Singapore        549.0     569.0        551.0       SGP   \n",
       "2      Macao (China)        525.0     558.0        544.0    CHN-MO   \n",
       "3  Hong Kong (China)        524.0     551.0        517.0   CHN-HKG   \n",
       "4            Estonia        523.0     523.0        530.0  USSR-EST   \n",
       "\n",
       "   LS_15yrexp_to_perCapGDP  US_15yrexp_to_perCapGDP  LS_topscale_to_start  \\\n",
       "0                      NaN                      NaN                   NaN   \n",
       "1                 1.119503                 1.119503              3.013998   \n",
       "2                 1.144100                 1.144100              1.853916   \n",
       "3                      NaN                      NaN                   NaN   \n",
       "4                      NaN                      NaN                   NaN   \n",
       "\n",
       "   US_topscale_to_start  yrs_start_to_topSalary  \n",
       "0                   NaN                     NaN  \n",
       "1              3.013998                     NaN  \n",
       "2              1.853916                    33.0  \n",
       "3                   NaN                     NaN  \n",
       "4                   NaN                     NaN  "
      ],
      "text/html": "<div>\n<style scoped>\n    .dataframe tbody tr th:only-of-type {\n        vertical-align: middle;\n    }\n\n    .dataframe tbody tr th {\n        vertical-align: top;\n    }\n\n    .dataframe thead th {\n        text-align: right;\n    }\n</style>\n<table border=\"1\" class=\"dataframe\">\n  <thead>\n    <tr style=\"text-align: right;\">\n      <th></th>\n      <th>COUNTRY_NAME</th>\n      <th>READING_AVG</th>\n      <th>MATH_AVG</th>\n      <th>SCIENCE_AVG</th>\n      <th>ID</th>\n      <th>LS_15yrexp_to_perCapGDP</th>\n      <th>US_15yrexp_to_perCapGDP</th>\n      <th>LS_topscale_to_start</th>\n      <th>US_topscale_to_start</th>\n      <th>yrs_start_to_topSalary</th>\n    </tr>\n  </thead>\n  <tbody>\n    <tr>\n      <th>0</th>\n      <td>B-S-J-Z (China)</td>\n      <td>555.0</td>\n      <td>591.0</td>\n      <td>590.0</td>\n      <td>CHN-BSJZ</td>\n      <td>NaN</td>\n      <td>NaN</td>\n      <td>NaN</td>\n      <td>NaN</td>\n      <td>NaN</td>\n    </tr>\n    <tr>\n      <th>1</th>\n      <td>Singapore</td>\n      <td>549.0</td>\n      <td>569.0</td>\n      <td>551.0</td>\n      <td>SGP</td>\n      <td>1.119503</td>\n      <td>1.119503</td>\n      <td>3.013998</td>\n      <td>3.013998</td>\n      <td>NaN</td>\n    </tr>\n    <tr>\n      <th>2</th>\n      <td>Macao (China)</td>\n      <td>525.0</td>\n      <td>558.0</td>\n      <td>544.0</td>\n      <td>CHN-MO</td>\n      <td>1.144100</td>\n      <td>1.144100</td>\n      <td>1.853916</td>\n      <td>1.853916</td>\n      <td>33.0</td>\n    </tr>\n    <tr>\n      <th>3</th>\n      <td>Hong Kong (China)</td>\n      <td>524.0</td>\n      <td>551.0</td>\n      <td>517.0</td>\n      <td>CHN-HKG</td>\n      <td>NaN</td>\n      <td>NaN</td>\n      <td>NaN</td>\n      <td>NaN</td>\n      <td>NaN</td>\n    </tr>\n    <tr>\n      <th>4</th>\n      <td>Estonia</td>\n      <td>523.0</td>\n      <td>523.0</td>\n      <td>530.0</td>\n      <td>USSR-EST</td>\n      <td>NaN</td>\n      <td>NaN</td>\n      <td>NaN</td>\n      <td>NaN</td>\n      <td>NaN</td>\n    </tr>\n  </tbody>\n</table>\n</div>"
     },
     "metadata": {},
     "execution_count": 5
    }
   ],
   "source": [
    "pisa_salary_ratio = pisa_df.merge(salaryRatio_df,how=\"inner\")\n",
    "pisa_salary_ratio.head()"
   ]
  },
  {
   "cell_type": "code",
   "execution_count": null,
   "metadata": {},
   "outputs": [],
   "source": []
  }
 ]
}