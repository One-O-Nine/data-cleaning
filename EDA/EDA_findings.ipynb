{
 "metadata": {
  "language_info": {
   "codemirror_mode": {
    "name": "ipython",
    "version": 3
   },
   "file_extension": ".py",
   "mimetype": "text/x-python",
   "name": "python",
   "nbconvert_exporter": "python",
   "pygments_lexer": "ipython3",
   "version": "3.9.5"
  },
  "orig_nbformat": 4,
  "kernelspec": {
   "name": "python3",
   "display_name": "Python 3.9.5 64-bit"
  },
  "interpreter": {
   "hash": "02de5609ef162b6bcc51dd429fd31b9a1f163c414526741362218fd7f2e354ad"
  }
 },
 "nbformat": 4,
 "nbformat_minor": 2,
 "cells": [
  {
   "cell_type": "code",
   "execution_count": 1,
   "metadata": {},
   "outputs": [],
   "source": [
    "import pandas as pd\n",
    "import seaborn as sns\n",
    "\n",
    "#sample"
   ]
  },
  {
   "cell_type": "code",
   "execution_count": 20,
   "metadata": {},
   "outputs": [],
   "source": [
    "df = pd.read_csv('merged.csv')\n",
    "filterdf = df.loc[(df['LS_start_x'] < 150000) & (df.LS_10yr < 200000) & (df.LS_15yr < 250000) & (df.LS_top < 400000) ]"
   ]
  },
  {
   "cell_type": "code",
   "execution_count": 11,
   "metadata": {},
   "outputs": [],
   "source": [
    "main_list = ['COUNTRY', 'ID', 'CONTINENT', 'READING_AVG', 'MATH_AVG', 'SCIENCE_AVG']\n",
    "salary = ['READING_AVG', 'MATH_AVG', 'SCIENCE_AVG','LS_start_x', 'LS_10yr', 'LS_15yr', 'LS_top', 'US_start_x', 'US_10yr', 'US_15yr', 'US_top']\n",
    "instruction_hrs = ['READING_AVG', 'MATH_AVG', 'SCIENCE_AVG','Age 5', 'Age 6', 'Age 7', 'Age 8', 'Age 9', 'Age 10', 'Age 11', 'Age 12', 'Age 13', 'Age 14', 'Age 15 (typical programme)']\n",
    "expenditure = ['READING_AVG', 'MATH_AVG', 'SCIENCE_AVG', 'PP_yrs', 'P_yrs', 'LS_yrs', 'US_yrs','PP_ann_exp_per_stud', 'P_ann_exp_per_stud', 'LS_ann_exp_per_stud', 'US_ann_exp_per_stud', 'AS_ann_exp_per_stud', 'PP_cum_exp_per_stud', 'P_cum_exp_per_stud', 'LS_ann_cum_per_stud', 'US_cum_exp_per_stud', 'AS_cum_exp_per_stud', 'cum_exp_per_stud']\n",
    "gdp_per_capita = ['READING_AVG', 'MATH_AVG', 'SCIENCE_AVG','2015_yr', '2016_yr', '2017_yr', '2018_yr']\n",
    "govt_regulations_curric = ['READING_AVG', 'MATH_AVG', 'SCIENCE_AVG','Ppub_st_curric', 'Pgovt_priv_curric', 'Pindpt_priv_curric',\n",
    "       'Phs_curric','LSpub_st_curric', 'LSgovt_priv_curric','LSindpt_priv_curric', 'LShs_curric']\n",
    "govt_regulations_nat_exam = ['READING_AVG', 'MATH_AVG', 'SCIENCE_AVG','Ppub_st_nat_exam', 'Pgovt_priv_nat_exam',\n",
    "       'Pindpt_priv_nat_exam', 'Phs_nat_exam','LSpub_st_nat_exam',\n",
    "       'LSgovt_priv_nat_exam', 'LSindpt_priv_nat_exam', 'LShs_nat_exam']\n",
    "govt_regulations_nat_assess = ['READING_AVG', 'MATH_AVG', 'SCIENCE_AVG', 'Ppub_st_nat_assess',\n",
    "       'Pgovt_priv_nat_assess', 'Pindpt_priv_nat_assess', 'Phs_nat_assess','LSPpub_st_nat_assess', 'LSgovt_priv_nat_assess',\n",
    "       'LSindpt_priv_nat_assess', 'LShs_nat_assess']\n",
    "govt_regulations_religion = ['READING_AVG', 'MATH_AVG', 'SCIENCE_AVG','Ppub_st_religion', 'Pgovt_priv_religion', 'Pindpt_priv_religion','Phs_religion', 'LSpub_st_religion',\n",
    "       'LSgovt_priv_religion', 'LSindpt_priv_religion', 'LShs_religion']\n",
    "govt_regulations_size = ['READING_AVG', 'MATH_AVG', 'SCIENCE_AVG','Ppub_st_size_restrict',\n",
    "       'Pgovt_priv_size_restrict', 'Pindpt_priv_size_restrict',\n",
    "       'Phs_size_restrict', 'LSpub_st_size_restrict', 'LSgovt_priv_size_restrict',\n",
    "       'LSindpt_priv_size_restrict', 'LShs_size_restrict']\n",
    "govt_regulations_cert = ['READING_AVG', 'MATH_AVG', 'SCIENCE_AVG','Ppub_st_emp_cert', 'Pgovt_emp_cert',\n",
    "       'Pindpt_priv_emp_cert', 'Phs_emp_cert','LSpub_st_emp_cert', 'LSgovt_emp_cert', 'LSindpt_priv_emp_cert',\n",
    "       'LShs_emp_cert']\n",
    "salary_ratio_by_exp = ['READING_AVG', 'MATH_AVG', 'SCIENCE_AVG','LS_15yrexp_to_perCapGDP', 'US_15yrexp_to_perCapGDP','LS_topscale_to_start', 'US_topscale_to_start','yrs_start_to_topSalary']\n",
    "school_age_duration = ['READING_AVG', 'MATH_AVG', 'SCIENCE_AVG', 'PP_start', 'P_start', 'LS_start_y', 'US_start_y', 'PP_dur', 'P_dur', 'LS_dur', 'US_dur']\n",
    "school_types = ['READING_AVG', 'MATH_AVG', 'SCIENCE_AVG','school_type_count', 'age_at_selection']\n",
    "support_staff_ta = ['READING_AVG', 'MATH_AVG', 'SCIENCE_AVG','P_ta', 'LS_ta', 'US_ta']\n",
    "support_staff_ta_sped = ['READING_AVG', 'MATH_AVG', 'SCIENCE_AVG','P_ta_sped', 'LS_ta_sped', 'US_ta_sped']\n",
    "support_staff_sped = ['READING_AVG', 'MATH_AVG', 'SCIENCE_AVG', 'P_sped', 'LS_sped', 'US_sped']\n",
    "support_staff_cc = ['READING_AVG', 'MATH_AVG', 'SCIENCE_AVG','P_cc', 'LS_cc', 'US_cc']\n",
    "support_staff_psych = ['READING_AVG', 'MATH_AVG', 'SCIENCE_AVG','P_psych', 'LS_psych', 'US_psych', ]\n",
    "support_staff_sw = ['READING_AVG', 'MATH_AVG', 'SCIENCE_AVG','P_sw', 'LS_sw', 'US_sw']\n",
    "support_staff_doc =  ['READING_AVG', 'MATH_AVG', 'SCIENCE_AVG','P_doc', 'LS_doc', 'US_doc']\n",
    "support_staff_nurse =  ['READING_AVG', 'MATH_AVG', 'SCIENCE_AVG','P_nurse', 'LS_nurse', 'US_nurse']\n",
    "support_staff_et = ['READING_AVG', 'MATH_AVG', 'SCIENCE_AVG','P_et', 'LS_et', 'US_et']\n",
    "support_staff_sup = ['READING_AVG', 'MATH_AVG', 'SCIENCE_AVG', 'P_lsup', 'LS_lsup', 'US_lsup']\n",
    "support_staff_ct = ['READING_AVG', 'MATH_AVG', 'SCIENCE_AVG', 'P_ct', 'LS_ct', 'US_ct']\n",
    "support_staff_guard = ['READING_AVG', 'MATH_AVG', 'SCIENCE_AVG','P_guard', 'LS_guard', 'US_guard']\n",
    "teaching_time= ['READING_AVG', 'MATH_AVG', 'SCIENCE_AVG','LS_hrs', 'US_hrs']\n"
   ]
  },
  {
   "source": [
    "**Medium positive correlation between PISA scores and GDP per capita.**\n",
    "\n",
    "corr value between .48 and .55 \n",
    "\n",
    "slightly stronger correlation for Math AVG.\n",
    "\n",
    "only missing one entry for GDP"
   ],
   "cell_type": "markdown",
   "metadata": {}
  },
  {
   "cell_type": "code",
   "execution_count": 12,
   "metadata": {},
   "outputs": [
    {
     "output_type": "execute_result",
     "data": {
      "text/plain": [
       "             READING_AVG  MATH_AVG  SCIENCE_AVG   2015_yr   2016_yr   2017_yr  \\\n",
       "READING_AVG     1.000000  0.948769     0.977092  0.481234  0.492112  0.511064   \n",
       "MATH_AVG        0.948769  1.000000     0.973806  0.516743  0.527966  0.548708   \n",
       "SCIENCE_AVG     0.977092  0.973806     1.000000  0.495901  0.505871  0.525034   \n",
       "2015_yr         0.481234  0.516743     0.495901  1.000000  0.999176  0.997912   \n",
       "2016_yr         0.492112  0.527966     0.505871  0.999176  1.000000  0.998918   \n",
       "2017_yr         0.511064  0.548708     0.525034  0.997912  0.998918  1.000000   \n",
       "2018_yr         0.518872  0.557587     0.532319  0.994908  0.994902  0.996833   \n",
       "\n",
       "              2018_yr  \n",
       "READING_AVG  0.518872  \n",
       "MATH_AVG     0.557587  \n",
       "SCIENCE_AVG  0.532319  \n",
       "2015_yr      0.994908  \n",
       "2016_yr      0.994902  \n",
       "2017_yr      0.996833  \n",
       "2018_yr      1.000000  "
      ],
      "text/html": "<div>\n<style scoped>\n    .dataframe tbody tr th:only-of-type {\n        vertical-align: middle;\n    }\n\n    .dataframe tbody tr th {\n        vertical-align: top;\n    }\n\n    .dataframe thead th {\n        text-align: right;\n    }\n</style>\n<table border=\"1\" class=\"dataframe\">\n  <thead>\n    <tr style=\"text-align: right;\">\n      <th></th>\n      <th>READING_AVG</th>\n      <th>MATH_AVG</th>\n      <th>SCIENCE_AVG</th>\n      <th>2015_yr</th>\n      <th>2016_yr</th>\n      <th>2017_yr</th>\n      <th>2018_yr</th>\n    </tr>\n  </thead>\n  <tbody>\n    <tr>\n      <th>READING_AVG</th>\n      <td>1.000000</td>\n      <td>0.948769</td>\n      <td>0.977092</td>\n      <td>0.481234</td>\n      <td>0.492112</td>\n      <td>0.511064</td>\n      <td>0.518872</td>\n    </tr>\n    <tr>\n      <th>MATH_AVG</th>\n      <td>0.948769</td>\n      <td>1.000000</td>\n      <td>0.973806</td>\n      <td>0.516743</td>\n      <td>0.527966</td>\n      <td>0.548708</td>\n      <td>0.557587</td>\n    </tr>\n    <tr>\n      <th>SCIENCE_AVG</th>\n      <td>0.977092</td>\n      <td>0.973806</td>\n      <td>1.000000</td>\n      <td>0.495901</td>\n      <td>0.505871</td>\n      <td>0.525034</td>\n      <td>0.532319</td>\n    </tr>\n    <tr>\n      <th>2015_yr</th>\n      <td>0.481234</td>\n      <td>0.516743</td>\n      <td>0.495901</td>\n      <td>1.000000</td>\n      <td>0.999176</td>\n      <td>0.997912</td>\n      <td>0.994908</td>\n    </tr>\n    <tr>\n      <th>2016_yr</th>\n      <td>0.492112</td>\n      <td>0.527966</td>\n      <td>0.505871</td>\n      <td>0.999176</td>\n      <td>1.000000</td>\n      <td>0.998918</td>\n      <td>0.994902</td>\n    </tr>\n    <tr>\n      <th>2017_yr</th>\n      <td>0.511064</td>\n      <td>0.548708</td>\n      <td>0.525034</td>\n      <td>0.997912</td>\n      <td>0.998918</td>\n      <td>1.000000</td>\n      <td>0.996833</td>\n    </tr>\n    <tr>\n      <th>2018_yr</th>\n      <td>0.518872</td>\n      <td>0.557587</td>\n      <td>0.532319</td>\n      <td>0.994908</td>\n      <td>0.994902</td>\n      <td>0.996833</td>\n      <td>1.000000</td>\n    </tr>\n  </tbody>\n</table>\n</div>"
     },
     "metadata": {},
     "execution_count": 12
    }
   ],
   "source": [
    "df_gdp = df[gdp_per_capita]\n",
    "df_gdp.corr()"
   ]
  },
  {
   "source": [
    "**Small positive correlation between PISA scores and teacher salary for US.**\n",
    "\n",
    "There is little/no correlation btwn the two in lower secondary. (corr<0.2)\n",
    "\n",
    "The correlation doubles for upper secondary. (.42 < corr < .52)  /missing 15-25%/\n",
    "\n",
    "I also noticed that when top salary is reached, correlation drops b(below lowest corr) for both levels."
   ],
   "cell_type": "markdown",
   "metadata": {}
  },
  {
   "cell_type": "code",
   "execution_count": 18,
   "metadata": {},
   "outputs": [
    {
     "output_type": "execute_result",
     "data": {
      "text/plain": [
       "             READING_AVG  MATH_AVG  SCIENCE_AVG  LS_start_x   LS_10yr  \\\n",
       "READING_AVG     1.000000  0.948769     0.977092    0.207948  0.178700   \n",
       "MATH_AVG        0.948769  1.000000     0.973806    0.264968  0.233091   \n",
       "SCIENCE_AVG     0.977092  0.973806     1.000000    0.241122  0.224131   \n",
       "LS_start_x      0.207948  0.264968     0.241122    1.000000  0.986605   \n",
       "LS_10yr         0.178700  0.233091     0.224131    0.986605  1.000000   \n",
       "LS_15yr         0.132179  0.183807     0.177712    0.978139  0.996575   \n",
       "LS_top          0.093219  0.158499     0.146565    0.948552  0.977881   \n",
       "US_start_x      0.426355  0.498361     0.459244    0.981963  0.950846   \n",
       "US_10yr         0.449016  0.528241     0.506110    0.959200  0.986361   \n",
       "US_15yr         0.425210  0.506584     0.487799    0.943937  0.984011   \n",
       "US_top          0.356876  0.463629     0.432956    0.876793  0.939294   \n",
       "\n",
       "              LS_15yr    LS_top  US_start_x   US_10yr   US_15yr    US_top  \n",
       "READING_AVG  0.132179  0.093219    0.426355  0.449016  0.425210  0.356876  \n",
       "MATH_AVG     0.183807  0.158499    0.498361  0.528241  0.506584  0.463629  \n",
       "SCIENCE_AVG  0.177712  0.146565    0.459244  0.506110  0.487799  0.432956  \n",
       "LS_start_x   0.978139  0.948552    0.981963  0.959200  0.943937  0.876793  \n",
       "LS_10yr      0.996575  0.977881    0.950846  0.986361  0.984011  0.939294  \n",
       "LS_15yr      1.000000  0.988588    0.939073  0.983444  0.990850  0.956225  \n",
       "LS_top       0.988588  1.000000    0.866348  0.930301  0.957252  0.992280  \n",
       "US_start_x   0.939073  0.866348    1.000000  0.971871  0.955477  0.883536  \n",
       "US_10yr      0.983444  0.930301    0.971871  1.000000  0.993859  0.940899  \n",
       "US_15yr      0.990850  0.957252    0.955477  0.993859  1.000000  0.963187  \n",
       "US_top       0.956225  0.992280    0.883536  0.940899  0.963187  1.000000  "
      ],
      "text/html": "<div>\n<style scoped>\n    .dataframe tbody tr th:only-of-type {\n        vertical-align: middle;\n    }\n\n    .dataframe tbody tr th {\n        vertical-align: top;\n    }\n\n    .dataframe thead th {\n        text-align: right;\n    }\n</style>\n<table border=\"1\" class=\"dataframe\">\n  <thead>\n    <tr style=\"text-align: right;\">\n      <th></th>\n      <th>READING_AVG</th>\n      <th>MATH_AVG</th>\n      <th>SCIENCE_AVG</th>\n      <th>LS_start_x</th>\n      <th>LS_10yr</th>\n      <th>LS_15yr</th>\n      <th>LS_top</th>\n      <th>US_start_x</th>\n      <th>US_10yr</th>\n      <th>US_15yr</th>\n      <th>US_top</th>\n    </tr>\n  </thead>\n  <tbody>\n    <tr>\n      <th>READING_AVG</th>\n      <td>1.000000</td>\n      <td>0.948769</td>\n      <td>0.977092</td>\n      <td>0.207948</td>\n      <td>0.178700</td>\n      <td>0.132179</td>\n      <td>0.093219</td>\n      <td>0.426355</td>\n      <td>0.449016</td>\n      <td>0.425210</td>\n      <td>0.356876</td>\n    </tr>\n    <tr>\n      <th>MATH_AVG</th>\n      <td>0.948769</td>\n      <td>1.000000</td>\n      <td>0.973806</td>\n      <td>0.264968</td>\n      <td>0.233091</td>\n      <td>0.183807</td>\n      <td>0.158499</td>\n      <td>0.498361</td>\n      <td>0.528241</td>\n      <td>0.506584</td>\n      <td>0.463629</td>\n    </tr>\n    <tr>\n      <th>SCIENCE_AVG</th>\n      <td>0.977092</td>\n      <td>0.973806</td>\n      <td>1.000000</td>\n      <td>0.241122</td>\n      <td>0.224131</td>\n      <td>0.177712</td>\n      <td>0.146565</td>\n      <td>0.459244</td>\n      <td>0.506110</td>\n      <td>0.487799</td>\n      <td>0.432956</td>\n    </tr>\n    <tr>\n      <th>LS_start_x</th>\n      <td>0.207948</td>\n      <td>0.264968</td>\n      <td>0.241122</td>\n      <td>1.000000</td>\n      <td>0.986605</td>\n      <td>0.978139</td>\n      <td>0.948552</td>\n      <td>0.981963</td>\n      <td>0.959200</td>\n      <td>0.943937</td>\n      <td>0.876793</td>\n    </tr>\n    <tr>\n      <th>LS_10yr</th>\n      <td>0.178700</td>\n      <td>0.233091</td>\n      <td>0.224131</td>\n      <td>0.986605</td>\n      <td>1.000000</td>\n      <td>0.996575</td>\n      <td>0.977881</td>\n      <td>0.950846</td>\n      <td>0.986361</td>\n      <td>0.984011</td>\n      <td>0.939294</td>\n    </tr>\n    <tr>\n      <th>LS_15yr</th>\n      <td>0.132179</td>\n      <td>0.183807</td>\n      <td>0.177712</td>\n      <td>0.978139</td>\n      <td>0.996575</td>\n      <td>1.000000</td>\n      <td>0.988588</td>\n      <td>0.939073</td>\n      <td>0.983444</td>\n      <td>0.990850</td>\n      <td>0.956225</td>\n    </tr>\n    <tr>\n      <th>LS_top</th>\n      <td>0.093219</td>\n      <td>0.158499</td>\n      <td>0.146565</td>\n      <td>0.948552</td>\n      <td>0.977881</td>\n      <td>0.988588</td>\n      <td>1.000000</td>\n      <td>0.866348</td>\n      <td>0.930301</td>\n      <td>0.957252</td>\n      <td>0.992280</td>\n    </tr>\n    <tr>\n      <th>US_start_x</th>\n      <td>0.426355</td>\n      <td>0.498361</td>\n      <td>0.459244</td>\n      <td>0.981963</td>\n      <td>0.950846</td>\n      <td>0.939073</td>\n      <td>0.866348</td>\n      <td>1.000000</td>\n      <td>0.971871</td>\n      <td>0.955477</td>\n      <td>0.883536</td>\n    </tr>\n    <tr>\n      <th>US_10yr</th>\n      <td>0.449016</td>\n      <td>0.528241</td>\n      <td>0.506110</td>\n      <td>0.959200</td>\n      <td>0.986361</td>\n      <td>0.983444</td>\n      <td>0.930301</td>\n      <td>0.971871</td>\n      <td>1.000000</td>\n      <td>0.993859</td>\n      <td>0.940899</td>\n    </tr>\n    <tr>\n      <th>US_15yr</th>\n      <td>0.425210</td>\n      <td>0.506584</td>\n      <td>0.487799</td>\n      <td>0.943937</td>\n      <td>0.984011</td>\n      <td>0.990850</td>\n      <td>0.957252</td>\n      <td>0.955477</td>\n      <td>0.993859</td>\n      <td>1.000000</td>\n      <td>0.963187</td>\n    </tr>\n    <tr>\n      <th>US_top</th>\n      <td>0.356876</td>\n      <td>0.463629</td>\n      <td>0.432956</td>\n      <td>0.876793</td>\n      <td>0.939294</td>\n      <td>0.956225</td>\n      <td>0.992280</td>\n      <td>0.883536</td>\n      <td>0.940899</td>\n      <td>0.963187</td>\n      <td>1.000000</td>\n    </tr>\n  </tbody>\n</table>\n</div>"
     },
     "metadata": {},
     "execution_count": 18
    }
   ],
   "source": [
    "df_salary = df[salary]\n",
    "df_salary.corr()"
   ]
  },
  {
   "source": [
    "**Stronger correlation between salary and PISA Scores after LS adjusted for outliers.**\n",
    "\n",
    "Significantly less difference between LS and US after adjustment."
   ],
   "cell_type": "markdown",
   "metadata": {}
  },
  {
   "cell_type": "code",
   "execution_count": 21,
   "metadata": {},
   "outputs": [
    {
     "output_type": "execute_result",
     "data": {
      "text/plain": [
       "             READING_AVG  SCIENCE_AVG  MATH_AVG  LS_start_x   LS_10yr  \\\n",
       "READING_AVG     1.000000     0.971109  0.925724    0.479407  0.467321   \n",
       "SCIENCE_AVG     0.971109     1.000000  0.959926    0.523559  0.519567   \n",
       "MATH_AVG        0.925724     0.959926  1.000000    0.543977  0.537934   \n",
       "LS_start_x      0.479407     0.523559  0.543977    1.000000  0.967419   \n",
       "LS_10yr         0.467321     0.519567  0.537934    0.967419  1.000000   \n",
       "LS_15yr         0.445999     0.506079  0.528859    0.952249  0.994945   \n",
       "LS_top          0.367925     0.441839  0.466835    0.878690  0.946079   \n",
       "US_start_x      0.427085     0.474233  0.491482    0.979447  0.948781   \n",
       "US_10yr         0.438166     0.491794  0.508252    0.956657  0.986610   \n",
       "US_15yr         0.416828     0.479672  0.501938    0.943226  0.983785   \n",
       "US_top          0.341595     0.420361  0.447768    0.873852  0.937444   \n",
       "\n",
       "              LS_15yr    LS_top  US_start_x   US_10yr   US_15yr    US_top  \n",
       "READING_AVG  0.445999  0.367925    0.427085  0.438166  0.416828  0.341595  \n",
       "SCIENCE_AVG  0.506079  0.441839    0.474233  0.491794  0.479672  0.420361  \n",
       "MATH_AVG     0.528859  0.466835    0.491482  0.508252  0.501938  0.447768  \n",
       "LS_start_x   0.952249  0.878690    0.979447  0.956657  0.943226  0.873852  \n",
       "LS_10yr      0.994945  0.946079    0.948781  0.986610  0.983785  0.937444  \n",
       "LS_15yr      1.000000  0.964447    0.938213  0.983201  0.990720  0.956225  \n",
       "LS_top       0.964447  1.000000    0.869420  0.934727  0.957252  0.992657  \n",
       "US_start_x   0.938213  0.869420    1.000000  0.969245  0.954852  0.882864  \n",
       "US_10yr      0.983201  0.934727    0.969245  1.000000  0.993762  0.941650  \n",
       "US_15yr      0.990720  0.957252    0.954852  0.993762  1.000000  0.963187  \n",
       "US_top       0.956225  0.992657    0.882864  0.941650  0.963187  1.000000  "
      ],
      "text/html": "<div>\n<style scoped>\n    .dataframe tbody tr th:only-of-type {\n        vertical-align: middle;\n    }\n\n    .dataframe tbody tr th {\n        vertical-align: top;\n    }\n\n    .dataframe thead th {\n        text-align: right;\n    }\n</style>\n<table border=\"1\" class=\"dataframe\">\n  <thead>\n    <tr style=\"text-align: right;\">\n      <th></th>\n      <th>READING_AVG</th>\n      <th>SCIENCE_AVG</th>\n      <th>MATH_AVG</th>\n      <th>LS_start_x</th>\n      <th>LS_10yr</th>\n      <th>LS_15yr</th>\n      <th>LS_top</th>\n      <th>US_start_x</th>\n      <th>US_10yr</th>\n      <th>US_15yr</th>\n      <th>US_top</th>\n    </tr>\n  </thead>\n  <tbody>\n    <tr>\n      <th>READING_AVG</th>\n      <td>1.000000</td>\n      <td>0.971109</td>\n      <td>0.925724</td>\n      <td>0.479407</td>\n      <td>0.467321</td>\n      <td>0.445999</td>\n      <td>0.367925</td>\n      <td>0.427085</td>\n      <td>0.438166</td>\n      <td>0.416828</td>\n      <td>0.341595</td>\n    </tr>\n    <tr>\n      <th>SCIENCE_AVG</th>\n      <td>0.971109</td>\n      <td>1.000000</td>\n      <td>0.959926</td>\n      <td>0.523559</td>\n      <td>0.519567</td>\n      <td>0.506079</td>\n      <td>0.441839</td>\n      <td>0.474233</td>\n      <td>0.491794</td>\n      <td>0.479672</td>\n      <td>0.420361</td>\n    </tr>\n    <tr>\n      <th>MATH_AVG</th>\n      <td>0.925724</td>\n      <td>0.959926</td>\n      <td>1.000000</td>\n      <td>0.543977</td>\n      <td>0.537934</td>\n      <td>0.528859</td>\n      <td>0.466835</td>\n      <td>0.491482</td>\n      <td>0.508252</td>\n      <td>0.501938</td>\n      <td>0.447768</td>\n    </tr>\n    <tr>\n      <th>LS_start_x</th>\n      <td>0.479407</td>\n      <td>0.523559</td>\n      <td>0.543977</td>\n      <td>1.000000</td>\n      <td>0.967419</td>\n      <td>0.952249</td>\n      <td>0.878690</td>\n      <td>0.979447</td>\n      <td>0.956657</td>\n      <td>0.943226</td>\n      <td>0.873852</td>\n    </tr>\n    <tr>\n      <th>LS_10yr</th>\n      <td>0.467321</td>\n      <td>0.519567</td>\n      <td>0.537934</td>\n      <td>0.967419</td>\n      <td>1.000000</td>\n      <td>0.994945</td>\n      <td>0.946079</td>\n      <td>0.948781</td>\n      <td>0.986610</td>\n      <td>0.983785</td>\n      <td>0.937444</td>\n    </tr>\n    <tr>\n      <th>LS_15yr</th>\n      <td>0.445999</td>\n      <td>0.506079</td>\n      <td>0.528859</td>\n      <td>0.952249</td>\n      <td>0.994945</td>\n      <td>1.000000</td>\n      <td>0.964447</td>\n      <td>0.938213</td>\n      <td>0.983201</td>\n      <td>0.990720</td>\n      <td>0.956225</td>\n    </tr>\n    <tr>\n      <th>LS_top</th>\n      <td>0.367925</td>\n      <td>0.441839</td>\n      <td>0.466835</td>\n      <td>0.878690</td>\n      <td>0.946079</td>\n      <td>0.964447</td>\n      <td>1.000000</td>\n      <td>0.869420</td>\n      <td>0.934727</td>\n      <td>0.957252</td>\n      <td>0.992657</td>\n    </tr>\n    <tr>\n      <th>US_start_x</th>\n      <td>0.427085</td>\n      <td>0.474233</td>\n      <td>0.491482</td>\n      <td>0.979447</td>\n      <td>0.948781</td>\n      <td>0.938213</td>\n      <td>0.869420</td>\n      <td>1.000000</td>\n      <td>0.969245</td>\n      <td>0.954852</td>\n      <td>0.882864</td>\n    </tr>\n    <tr>\n      <th>US_10yr</th>\n      <td>0.438166</td>\n      <td>0.491794</td>\n      <td>0.508252</td>\n      <td>0.956657</td>\n      <td>0.986610</td>\n      <td>0.983201</td>\n      <td>0.934727</td>\n      <td>0.969245</td>\n      <td>1.000000</td>\n      <td>0.993762</td>\n      <td>0.941650</td>\n    </tr>\n    <tr>\n      <th>US_15yr</th>\n      <td>0.416828</td>\n      <td>0.479672</td>\n      <td>0.501938</td>\n      <td>0.943226</td>\n      <td>0.983785</td>\n      <td>0.990720</td>\n      <td>0.957252</td>\n      <td>0.954852</td>\n      <td>0.993762</td>\n      <td>1.000000</td>\n      <td>0.963187</td>\n    </tr>\n    <tr>\n      <th>US_top</th>\n      <td>0.341595</td>\n      <td>0.420361</td>\n      <td>0.447768</td>\n      <td>0.873852</td>\n      <td>0.937444</td>\n      <td>0.956225</td>\n      <td>0.992657</td>\n      <td>0.882864</td>\n      <td>0.941650</td>\n      <td>0.963187</td>\n      <td>1.000000</td>\n    </tr>\n  </tbody>\n</table>\n</div>"
     },
     "metadata": {},
     "execution_count": 21
    }
   ],
   "source": [
    "salary_adj =  filterdf[['READING_AVG','SCIENCE_AVG','MATH_AVG','LS_start_x','LS_10yr','LS_15yr','LS_top','US_start_x', 'US_10yr', 'US_15yr', 'US_top']]\n",
    "\n",
    "salary_adj.corr()"
   ]
  },
  {
   "source": [
    "**Medium positive correlation between PISA scores and Cumulative Expenditure per student:** (31-35%)\n",
    "\n",
    "Reading = P/LS (.59-.61)\n",
    "\n",
    "Math = P/LS (.62-.67)\n",
    "\n",
    "Science = P/LS (.6 - .62)\n",
    "\n",
    "**Medium positive correlation between PISA Scores and Annual Expenditure per student:** (31-35%)\n",
    "\n",
    "Reading = PP/P (.61-.63)\n",
    "\n",
    "Math = P/LS (.65-.67)\n",
    "\n",
    "Science = PP/P/LS (.6 - .64)\n"
   ],
   "cell_type": "markdown",
   "metadata": {}
  },
  {
   "cell_type": "code",
   "execution_count": 19,
   "metadata": {},
   "outputs": [
    {
     "output_type": "execute_result",
     "data": {
      "text/plain": [
       "                     READING_AVG  MATH_AVG  SCIENCE_AVG    PP_yrs     P_yrs  \\\n",
       "READING_AVG             1.000000  0.948769     0.977092  0.113890  0.042553   \n",
       "MATH_AVG                0.948769  1.000000     0.973806  0.109220  0.041413   \n",
       "SCIENCE_AVG             0.977092  0.973806     1.000000  0.113417  0.058561   \n",
       "PP_yrs                  0.113890  0.109220     0.113417  1.000000 -0.363665   \n",
       "P_yrs                   0.042553  0.041413     0.058561 -0.363665  1.000000   \n",
       "LS_yrs                 -0.064742 -0.070509    -0.080329  0.251000 -0.817478   \n",
       "US_yrs                 -0.108254 -0.086866    -0.105921 -0.524766 -0.109750   \n",
       "PP_ann_exp_per_stud     0.617604  0.592078     0.609351 -0.004766  0.277118   \n",
       "P_ann_exp_per_stud      0.633331  0.668990     0.643599 -0.087852  0.305973   \n",
       "LS_ann_exp_per_stud     0.586059  0.655934     0.622871 -0.151361  0.368121   \n",
       "US_ann_exp_per_stud     0.490348  0.572463     0.540005 -0.258903  0.354080   \n",
       "AS_ann_exp_per_stud     0.441667  0.494103     0.478605 -0.248574  0.338423   \n",
       "PP_cum_exp_per_stud     0.287321  0.242928     0.269092  0.830835 -0.127906   \n",
       "P_cum_exp_per_stud      0.599098  0.626920     0.606617 -0.121883  0.492407   \n",
       "LS_ann_cum_per_stud     0.611139  0.670860     0.626703 -0.078844  0.012247   \n",
       "US_cum_exp_per_stud    -0.017793  0.105788     0.052896 -0.393601  0.024155   \n",
       "AS_cum_exp_per_stud     0.151695  0.217489     0.202559 -0.190639  0.115640   \n",
       "cum_exp_per_stud        0.436266  0.479040     0.466878 -0.205414  0.328802   \n",
       "\n",
       "                       LS_yrs    US_yrs  PP_ann_exp_per_stud  \\\n",
       "READING_AVG         -0.064742 -0.108254             0.617604   \n",
       "MATH_AVG            -0.070509 -0.086866             0.592078   \n",
       "SCIENCE_AVG         -0.080329 -0.105921             0.609351   \n",
       "PP_yrs               0.251000 -0.524766            -0.004766   \n",
       "P_yrs               -0.817478 -0.109750             0.277118   \n",
       "LS_yrs               1.000000 -0.322180            -0.173201   \n",
       "US_yrs              -0.322180  1.000000            -0.216788   \n",
       "PP_ann_exp_per_stud -0.173201 -0.216788             1.000000   \n",
       "P_ann_exp_per_stud  -0.299147 -0.017055             0.879013   \n",
       "LS_ann_exp_per_stud -0.369695  0.006553             0.809017   \n",
       "US_ann_exp_per_stud -0.336249  0.112463             0.704567   \n",
       "AS_ann_exp_per_stud -0.360510  0.150041             0.744519   \n",
       "PP_cum_exp_per_stud  0.049949 -0.491126             0.236078   \n",
       "P_cum_exp_per_stud  -0.429490 -0.072715             0.830834   \n",
       "LS_ann_cum_per_stud  0.050179 -0.079409             0.777415   \n",
       "US_cum_exp_per_stud -0.375151  0.737440             0.100891   \n",
       "AS_cum_exp_per_stud -0.139506  0.138929             0.622737   \n",
       "cum_exp_per_stud    -0.335017  0.097545             0.843335   \n",
       "\n",
       "                     P_ann_exp_per_stud  LS_ann_exp_per_stud  \\\n",
       "READING_AVG                    0.633331             0.586059   \n",
       "MATH_AVG                       0.668990             0.655934   \n",
       "SCIENCE_AVG                    0.643599             0.622871   \n",
       "PP_yrs                        -0.087852            -0.151361   \n",
       "P_yrs                          0.305973             0.368121   \n",
       "LS_yrs                        -0.299147            -0.369695   \n",
       "US_yrs                        -0.017055             0.006553   \n",
       "PP_ann_exp_per_stud            0.879013             0.809017   \n",
       "P_ann_exp_per_stud             1.000000             0.937633   \n",
       "LS_ann_exp_per_stud            0.937633             1.000000   \n",
       "US_ann_exp_per_stud            0.846405             0.931204   \n",
       "AS_ann_exp_per_stud            0.908120             0.976397   \n",
       "PP_cum_exp_per_stud            0.059548             0.049015   \n",
       "P_cum_exp_per_stud             0.944470             0.902983   \n",
       "LS_ann_cum_per_stud            0.852700             0.857763   \n",
       "US_cum_exp_per_stud            0.369410             0.518638   \n",
       "AS_cum_exp_per_stud            0.795154             0.878097   \n",
       "cum_exp_per_stud               0.981047             0.985228   \n",
       "\n",
       "                     US_ann_exp_per_stud  AS_ann_exp_per_stud  \\\n",
       "READING_AVG                     0.490348             0.441667   \n",
       "MATH_AVG                        0.572463             0.494103   \n",
       "SCIENCE_AVG                     0.540005             0.478605   \n",
       "PP_yrs                         -0.258903            -0.248574   \n",
       "P_yrs                           0.354080             0.338423   \n",
       "LS_yrs                         -0.336249            -0.360510   \n",
       "US_yrs                          0.112463             0.150041   \n",
       "PP_ann_exp_per_stud             0.704567             0.744519   \n",
       "P_ann_exp_per_stud              0.846405             0.908120   \n",
       "LS_ann_exp_per_stud             0.931204             0.976397   \n",
       "US_ann_exp_per_stud             1.000000             0.987465   \n",
       "AS_ann_exp_per_stud             0.987465             1.000000   \n",
       "PP_cum_exp_per_stud            -0.084000            -0.039425   \n",
       "P_cum_exp_per_stud              0.766971             0.845956   \n",
       "LS_ann_cum_per_stud             0.800148             0.835461   \n",
       "US_cum_exp_per_stud             0.632056             0.611287   \n",
       "AS_cum_exp_per_stud             0.928451             0.842382   \n",
       "cum_exp_per_stud                0.926868             0.978861   \n",
       "\n",
       "                     PP_cum_exp_per_stud  P_cum_exp_per_stud  \\\n",
       "READING_AVG                     0.287321            0.599098   \n",
       "MATH_AVG                        0.242928            0.626920   \n",
       "SCIENCE_AVG                     0.269092            0.606617   \n",
       "PP_yrs                          0.830835           -0.121883   \n",
       "P_yrs                          -0.127906            0.492407   \n",
       "LS_yrs                          0.049949           -0.429490   \n",
       "US_yrs                         -0.491126           -0.072715   \n",
       "PP_ann_exp_per_stud             0.236078            0.830834   \n",
       "P_ann_exp_per_stud              0.059548            0.944470   \n",
       "LS_ann_exp_per_stud             0.049015            0.902983   \n",
       "US_ann_exp_per_stud            -0.084000            0.766971   \n",
       "AS_ann_exp_per_stud            -0.039425            0.845956   \n",
       "PP_cum_exp_per_stud             1.000000            0.026067   \n",
       "P_cum_exp_per_stud              0.026067            1.000000   \n",
       "LS_ann_cum_per_stud             0.054229            0.745814   \n",
       "US_cum_exp_per_stud            -0.347192            0.274897   \n",
       "AS_cum_exp_per_stud            -0.145461            0.658216   \n",
       "cum_exp_per_stud                0.033318            0.911386   \n",
       "\n",
       "                     LS_ann_cum_per_stud  US_cum_exp_per_stud  \\\n",
       "READING_AVG                     0.611139            -0.017793   \n",
       "MATH_AVG                        0.670860             0.105788   \n",
       "SCIENCE_AVG                     0.626703             0.052896   \n",
       "PP_yrs                         -0.078844            -0.393601   \n",
       "P_yrs                           0.012247             0.024155   \n",
       "LS_yrs                          0.050179            -0.375151   \n",
       "US_yrs                         -0.079409             0.737440   \n",
       "PP_ann_exp_per_stud             0.777415             0.100891   \n",
       "P_ann_exp_per_stud              0.852700             0.369410   \n",
       "LS_ann_exp_per_stud             0.857763             0.518638   \n",
       "US_ann_exp_per_stud             0.800148             0.632056   \n",
       "AS_ann_exp_per_stud             0.835461             0.611287   \n",
       "PP_cum_exp_per_stud             0.054229            -0.347192   \n",
       "P_cum_exp_per_stud              0.745814             0.274897   \n",
       "LS_ann_cum_per_stud             1.000000             0.344181   \n",
       "US_cum_exp_per_stud             0.344181             1.000000   \n",
       "AS_cum_exp_per_stud             0.869658             0.720406   \n",
       "cum_exp_per_stud                0.855157             0.500645   \n",
       "\n",
       "                     AS_cum_exp_per_stud  cum_exp_per_stud  \n",
       "READING_AVG                     0.151695          0.436266  \n",
       "MATH_AVG                        0.217489          0.479040  \n",
       "SCIENCE_AVG                     0.202559          0.466878  \n",
       "PP_yrs                         -0.190639         -0.205414  \n",
       "P_yrs                           0.115640          0.328802  \n",
       "LS_yrs                         -0.139506         -0.335017  \n",
       "US_yrs                          0.138929          0.097545  \n",
       "PP_ann_exp_per_stud             0.622737          0.843335  \n",
       "P_ann_exp_per_stud              0.795154          0.981047  \n",
       "LS_ann_exp_per_stud             0.878097          0.985228  \n",
       "US_ann_exp_per_stud             0.928451          0.926868  \n",
       "AS_ann_exp_per_stud             0.842382          0.978861  \n",
       "PP_cum_exp_per_stud            -0.145461          0.033318  \n",
       "P_cum_exp_per_stud              0.658216          0.911386  \n",
       "LS_ann_cum_per_stud             0.869658          0.855157  \n",
       "US_cum_exp_per_stud             0.720406          0.500645  \n",
       "AS_cum_exp_per_stud             1.000000          0.868510  \n",
       "cum_exp_per_stud                0.868510          1.000000  "
      ],
      "text/html": "<div>\n<style scoped>\n    .dataframe tbody tr th:only-of-type {\n        vertical-align: middle;\n    }\n\n    .dataframe tbody tr th {\n        vertical-align: top;\n    }\n\n    .dataframe thead th {\n        text-align: right;\n    }\n</style>\n<table border=\"1\" class=\"dataframe\">\n  <thead>\n    <tr style=\"text-align: right;\">\n      <th></th>\n      <th>READING_AVG</th>\n      <th>MATH_AVG</th>\n      <th>SCIENCE_AVG</th>\n      <th>PP_yrs</th>\n      <th>P_yrs</th>\n      <th>LS_yrs</th>\n      <th>US_yrs</th>\n      <th>PP_ann_exp_per_stud</th>\n      <th>P_ann_exp_per_stud</th>\n      <th>LS_ann_exp_per_stud</th>\n      <th>US_ann_exp_per_stud</th>\n      <th>AS_ann_exp_per_stud</th>\n      <th>PP_cum_exp_per_stud</th>\n      <th>P_cum_exp_per_stud</th>\n      <th>LS_ann_cum_per_stud</th>\n      <th>US_cum_exp_per_stud</th>\n      <th>AS_cum_exp_per_stud</th>\n      <th>cum_exp_per_stud</th>\n    </tr>\n  </thead>\n  <tbody>\n    <tr>\n      <th>READING_AVG</th>\n      <td>1.000000</td>\n      <td>0.948769</td>\n      <td>0.977092</td>\n      <td>0.113890</td>\n      <td>0.042553</td>\n      <td>-0.064742</td>\n      <td>-0.108254</td>\n      <td>0.617604</td>\n      <td>0.633331</td>\n      <td>0.586059</td>\n      <td>0.490348</td>\n      <td>0.441667</td>\n      <td>0.287321</td>\n      <td>0.599098</td>\n      <td>0.611139</td>\n      <td>-0.017793</td>\n      <td>0.151695</td>\n      <td>0.436266</td>\n    </tr>\n    <tr>\n      <th>MATH_AVG</th>\n      <td>0.948769</td>\n      <td>1.000000</td>\n      <td>0.973806</td>\n      <td>0.109220</td>\n      <td>0.041413</td>\n      <td>-0.070509</td>\n      <td>-0.086866</td>\n      <td>0.592078</td>\n      <td>0.668990</td>\n      <td>0.655934</td>\n      <td>0.572463</td>\n      <td>0.494103</td>\n      <td>0.242928</td>\n      <td>0.626920</td>\n      <td>0.670860</td>\n      <td>0.105788</td>\n      <td>0.217489</td>\n      <td>0.479040</td>\n    </tr>\n    <tr>\n      <th>SCIENCE_AVG</th>\n      <td>0.977092</td>\n      <td>0.973806</td>\n      <td>1.000000</td>\n      <td>0.113417</td>\n      <td>0.058561</td>\n      <td>-0.080329</td>\n      <td>-0.105921</td>\n      <td>0.609351</td>\n      <td>0.643599</td>\n      <td>0.622871</td>\n      <td>0.540005</td>\n      <td>0.478605</td>\n      <td>0.269092</td>\n      <td>0.606617</td>\n      <td>0.626703</td>\n      <td>0.052896</td>\n      <td>0.202559</td>\n      <td>0.466878</td>\n    </tr>\n    <tr>\n      <th>PP_yrs</th>\n      <td>0.113890</td>\n      <td>0.109220</td>\n      <td>0.113417</td>\n      <td>1.000000</td>\n      <td>-0.363665</td>\n      <td>0.251000</td>\n      <td>-0.524766</td>\n      <td>-0.004766</td>\n      <td>-0.087852</td>\n      <td>-0.151361</td>\n      <td>-0.258903</td>\n      <td>-0.248574</td>\n      <td>0.830835</td>\n      <td>-0.121883</td>\n      <td>-0.078844</td>\n      <td>-0.393601</td>\n      <td>-0.190639</td>\n      <td>-0.205414</td>\n    </tr>\n    <tr>\n      <th>P_yrs</th>\n      <td>0.042553</td>\n      <td>0.041413</td>\n      <td>0.058561</td>\n      <td>-0.363665</td>\n      <td>1.000000</td>\n      <td>-0.817478</td>\n      <td>-0.109750</td>\n      <td>0.277118</td>\n      <td>0.305973</td>\n      <td>0.368121</td>\n      <td>0.354080</td>\n      <td>0.338423</td>\n      <td>-0.127906</td>\n      <td>0.492407</td>\n      <td>0.012247</td>\n      <td>0.024155</td>\n      <td>0.115640</td>\n      <td>0.328802</td>\n    </tr>\n    <tr>\n      <th>LS_yrs</th>\n      <td>-0.064742</td>\n      <td>-0.070509</td>\n      <td>-0.080329</td>\n      <td>0.251000</td>\n      <td>-0.817478</td>\n      <td>1.000000</td>\n      <td>-0.322180</td>\n      <td>-0.173201</td>\n      <td>-0.299147</td>\n      <td>-0.369695</td>\n      <td>-0.336249</td>\n      <td>-0.360510</td>\n      <td>0.049949</td>\n      <td>-0.429490</td>\n      <td>0.050179</td>\n      <td>-0.375151</td>\n      <td>-0.139506</td>\n      <td>-0.335017</td>\n    </tr>\n    <tr>\n      <th>US_yrs</th>\n      <td>-0.108254</td>\n      <td>-0.086866</td>\n      <td>-0.105921</td>\n      <td>-0.524766</td>\n      <td>-0.109750</td>\n      <td>-0.322180</td>\n      <td>1.000000</td>\n      <td>-0.216788</td>\n      <td>-0.017055</td>\n      <td>0.006553</td>\n      <td>0.112463</td>\n      <td>0.150041</td>\n      <td>-0.491126</td>\n      <td>-0.072715</td>\n      <td>-0.079409</td>\n      <td>0.737440</td>\n      <td>0.138929</td>\n      <td>0.097545</td>\n    </tr>\n    <tr>\n      <th>PP_ann_exp_per_stud</th>\n      <td>0.617604</td>\n      <td>0.592078</td>\n      <td>0.609351</td>\n      <td>-0.004766</td>\n      <td>0.277118</td>\n      <td>-0.173201</td>\n      <td>-0.216788</td>\n      <td>1.000000</td>\n      <td>0.879013</td>\n      <td>0.809017</td>\n      <td>0.704567</td>\n      <td>0.744519</td>\n      <td>0.236078</td>\n      <td>0.830834</td>\n      <td>0.777415</td>\n      <td>0.100891</td>\n      <td>0.622737</td>\n      <td>0.843335</td>\n    </tr>\n    <tr>\n      <th>P_ann_exp_per_stud</th>\n      <td>0.633331</td>\n      <td>0.668990</td>\n      <td>0.643599</td>\n      <td>-0.087852</td>\n      <td>0.305973</td>\n      <td>-0.299147</td>\n      <td>-0.017055</td>\n      <td>0.879013</td>\n      <td>1.000000</td>\n      <td>0.937633</td>\n      <td>0.846405</td>\n      <td>0.908120</td>\n      <td>0.059548</td>\n      <td>0.944470</td>\n      <td>0.852700</td>\n      <td>0.369410</td>\n      <td>0.795154</td>\n      <td>0.981047</td>\n    </tr>\n    <tr>\n      <th>LS_ann_exp_per_stud</th>\n      <td>0.586059</td>\n      <td>0.655934</td>\n      <td>0.622871</td>\n      <td>-0.151361</td>\n      <td>0.368121</td>\n      <td>-0.369695</td>\n      <td>0.006553</td>\n      <td>0.809017</td>\n      <td>0.937633</td>\n      <td>1.000000</td>\n      <td>0.931204</td>\n      <td>0.976397</td>\n      <td>0.049015</td>\n      <td>0.902983</td>\n      <td>0.857763</td>\n      <td>0.518638</td>\n      <td>0.878097</td>\n      <td>0.985228</td>\n    </tr>\n    <tr>\n      <th>US_ann_exp_per_stud</th>\n      <td>0.490348</td>\n      <td>0.572463</td>\n      <td>0.540005</td>\n      <td>-0.258903</td>\n      <td>0.354080</td>\n      <td>-0.336249</td>\n      <td>0.112463</td>\n      <td>0.704567</td>\n      <td>0.846405</td>\n      <td>0.931204</td>\n      <td>1.000000</td>\n      <td>0.987465</td>\n      <td>-0.084000</td>\n      <td>0.766971</td>\n      <td>0.800148</td>\n      <td>0.632056</td>\n      <td>0.928451</td>\n      <td>0.926868</td>\n    </tr>\n    <tr>\n      <th>AS_ann_exp_per_stud</th>\n      <td>0.441667</td>\n      <td>0.494103</td>\n      <td>0.478605</td>\n      <td>-0.248574</td>\n      <td>0.338423</td>\n      <td>-0.360510</td>\n      <td>0.150041</td>\n      <td>0.744519</td>\n      <td>0.908120</td>\n      <td>0.976397</td>\n      <td>0.987465</td>\n      <td>1.000000</td>\n      <td>-0.039425</td>\n      <td>0.845956</td>\n      <td>0.835461</td>\n      <td>0.611287</td>\n      <td>0.842382</td>\n      <td>0.978861</td>\n    </tr>\n    <tr>\n      <th>PP_cum_exp_per_stud</th>\n      <td>0.287321</td>\n      <td>0.242928</td>\n      <td>0.269092</td>\n      <td>0.830835</td>\n      <td>-0.127906</td>\n      <td>0.049949</td>\n      <td>-0.491126</td>\n      <td>0.236078</td>\n      <td>0.059548</td>\n      <td>0.049015</td>\n      <td>-0.084000</td>\n      <td>-0.039425</td>\n      <td>1.000000</td>\n      <td>0.026067</td>\n      <td>0.054229</td>\n      <td>-0.347192</td>\n      <td>-0.145461</td>\n      <td>0.033318</td>\n    </tr>\n    <tr>\n      <th>P_cum_exp_per_stud</th>\n      <td>0.599098</td>\n      <td>0.626920</td>\n      <td>0.606617</td>\n      <td>-0.121883</td>\n      <td>0.492407</td>\n      <td>-0.429490</td>\n      <td>-0.072715</td>\n      <td>0.830834</td>\n      <td>0.944470</td>\n      <td>0.902983</td>\n      <td>0.766971</td>\n      <td>0.845956</td>\n      <td>0.026067</td>\n      <td>1.000000</td>\n      <td>0.745814</td>\n      <td>0.274897</td>\n      <td>0.658216</td>\n      <td>0.911386</td>\n    </tr>\n    <tr>\n      <th>LS_ann_cum_per_stud</th>\n      <td>0.611139</td>\n      <td>0.670860</td>\n      <td>0.626703</td>\n      <td>-0.078844</td>\n      <td>0.012247</td>\n      <td>0.050179</td>\n      <td>-0.079409</td>\n      <td>0.777415</td>\n      <td>0.852700</td>\n      <td>0.857763</td>\n      <td>0.800148</td>\n      <td>0.835461</td>\n      <td>0.054229</td>\n      <td>0.745814</td>\n      <td>1.000000</td>\n      <td>0.344181</td>\n      <td>0.869658</td>\n      <td>0.855157</td>\n    </tr>\n    <tr>\n      <th>US_cum_exp_per_stud</th>\n      <td>-0.017793</td>\n      <td>0.105788</td>\n      <td>0.052896</td>\n      <td>-0.393601</td>\n      <td>0.024155</td>\n      <td>-0.375151</td>\n      <td>0.737440</td>\n      <td>0.100891</td>\n      <td>0.369410</td>\n      <td>0.518638</td>\n      <td>0.632056</td>\n      <td>0.611287</td>\n      <td>-0.347192</td>\n      <td>0.274897</td>\n      <td>0.344181</td>\n      <td>1.000000</td>\n      <td>0.720406</td>\n      <td>0.500645</td>\n    </tr>\n    <tr>\n      <th>AS_cum_exp_per_stud</th>\n      <td>0.151695</td>\n      <td>0.217489</td>\n      <td>0.202559</td>\n      <td>-0.190639</td>\n      <td>0.115640</td>\n      <td>-0.139506</td>\n      <td>0.138929</td>\n      <td>0.622737</td>\n      <td>0.795154</td>\n      <td>0.878097</td>\n      <td>0.928451</td>\n      <td>0.842382</td>\n      <td>-0.145461</td>\n      <td>0.658216</td>\n      <td>0.869658</td>\n      <td>0.720406</td>\n      <td>1.000000</td>\n      <td>0.868510</td>\n    </tr>\n    <tr>\n      <th>cum_exp_per_stud</th>\n      <td>0.436266</td>\n      <td>0.479040</td>\n      <td>0.466878</td>\n      <td>-0.205414</td>\n      <td>0.328802</td>\n      <td>-0.335017</td>\n      <td>0.097545</td>\n      <td>0.843335</td>\n      <td>0.981047</td>\n      <td>0.985228</td>\n      <td>0.926868</td>\n      <td>0.978861</td>\n      <td>0.033318</td>\n      <td>0.911386</td>\n      <td>0.855157</td>\n      <td>0.500645</td>\n      <td>0.868510</td>\n      <td>1.000000</td>\n    </tr>\n  </tbody>\n</table>\n</div>"
     },
     "metadata": {},
     "execution_count": 19
    }
   ],
   "source": [
    "df_salary = df[expenditure]\n",
    "df_salary.corr()"
   ]
  },
  {
   "source": [
    "**Presence of a government required curriculum, could lead to lower PISA performance**\n",
    "\n",
    "For primary/ls indpt private schools (-.31 to -.34). /missing 45%/\n",
    "\n",
    "** LACK OF DATA FOR OTHER govt_regulations_curric = 0\n",
    "\n",
    "** explore dustribution of 0 to 1 before confirmation\n"
   ],
   "cell_type": "markdown",
   "metadata": {}
  },
  {
   "cell_type": "code",
   "execution_count": 15,
   "metadata": {},
   "outputs": [
    {
     "output_type": "execute_result",
     "data": {
      "text/plain": [
       "<AxesSubplot:xlabel='LSindpt_priv_curric', ylabel='READING_AVG'>"
      ]
     },
     "metadata": {},
     "execution_count": 15
    },
    {
     "output_type": "display_data",
     "data": {
      "text/plain": "<Figure size 432x288 with 1 Axes>",
      "image/svg+xml": "<?xml version=\"1.0\" encoding=\"utf-8\" standalone=\"no\"?>\r\n<!DOCTYPE svg PUBLIC \"-//W3C//DTD SVG 1.1//EN\"\r\n  \"http://www.w3.org/Graphics/SVG/1.1/DTD/svg11.dtd\">\r\n<svg height=\"262.474375pt\" version=\"1.1\" viewBox=\"0 0 389.067187 262.474375\" width=\"389.067187pt\" xmlns=\"http://www.w3.org/2000/svg\" xmlns:xlink=\"http://www.w3.org/1999/xlink\">\r\n <metadata>\r\n  <rdf:RDF xmlns:cc=\"http://creativecommons.org/ns#\" xmlns:dc=\"http://purl.org/dc/elements/1.1/\" xmlns:rdf=\"http://www.w3.org/1999/02/22-rdf-syntax-ns#\">\r\n   <cc:Work>\r\n    <dc:type rdf:resource=\"http://purl.org/dc/dcmitype/StillImage\"/>\r\n    <dc:date>2021-06-17T20:53:40.445949</dc:date>\r\n    <dc:format>image/svg+xml</dc:format>\r\n    <dc:creator>\r\n     <cc:Agent>\r\n      <dc:title>Matplotlib v3.4.2, https://matplotlib.org/</dc:title>\r\n     </cc:Agent>\r\n    </dc:creator>\r\n   </cc:Work>\r\n  </rdf:RDF>\r\n </metadata>\r\n <defs>\r\n  <style type=\"text/css\">*{stroke-linecap:butt;stroke-linejoin:round;}</style>\r\n </defs>\r\n <g id=\"figure_1\">\r\n  <g id=\"patch_1\">\r\n   <path d=\"M 0 262.474375 \r\nL 389.067187 262.474375 \r\nL 389.067187 0 \r\nL 0 0 \r\nz\r\n\" style=\"fill:none;\"/>\r\n  </g>\r\n  <g id=\"axes_1\">\r\n   <g id=\"patch_2\">\r\n    <path d=\"M 47.067188 224.64 \r\nL 381.867188 224.64 \r\nL 381.867188 7.2 \r\nL 47.067188 7.2 \r\nz\r\n\" style=\"fill:#ffffff;\"/>\r\n   </g>\r\n   <g id=\"patch_3\">\r\n    <path clip-path=\"url(#p044ea51c62)\" d=\"M 63.807187 83.526264 \r\nL 197.727188 83.526264 \r\nL 197.727188 57.989595 \r\nL 63.807187 57.989595 \r\nL 63.807187 83.526264 \r\nz\r\n\" style=\"fill:#3274a1;stroke:#3f3f3f;stroke-linejoin:miter;stroke-width:1.5;\"/>\r\n   </g>\r\n   <g id=\"patch_4\">\r\n    <path clip-path=\"url(#p044ea51c62)\" d=\"M 231.207188 155.170805 \r\nL 365.127187 155.170805 \r\nL 365.127187 78.5608 \r\nL 231.207188 78.5608 \r\nL 231.207188 155.170805 \r\nz\r\n\" style=\"fill:#e1812c;stroke:#3f3f3f;stroke-linejoin:miter;stroke-width:1.5;\"/>\r\n   </g>\r\n   <g id=\"matplotlib.axis_1\">\r\n    <g id=\"xtick_1\">\r\n     <g id=\"line2d_1\">\r\n      <defs>\r\n       <path d=\"M 0 0 \r\nL 0 3.5 \r\n\" id=\"mb48369ff1e\" style=\"stroke:#000000;stroke-width:0.8;\"/>\r\n      </defs>\r\n      <g>\r\n       <use style=\"stroke:#000000;stroke-width:0.8;\" x=\"130.767188\" xlink:href=\"#mb48369ff1e\" y=\"224.64\"/>\r\n      </g>\r\n     </g>\r\n     <g id=\"text_1\">\r\n      <!-- 0.0 -->\r\n      <g transform=\"translate(122.815625 239.238438)scale(0.1 -0.1)\">\r\n       <defs>\r\n        <path d=\"M 2034 4250 \r\nQ 1547 4250 1301 3770 \r\nQ 1056 3291 1056 2328 \r\nQ 1056 1369 1301 889 \r\nQ 1547 409 2034 409 \r\nQ 2525 409 2770 889 \r\nQ 3016 1369 3016 2328 \r\nQ 3016 3291 2770 3770 \r\nQ 2525 4250 2034 4250 \r\nz\r\nM 2034 4750 \r\nQ 2819 4750 3233 4129 \r\nQ 3647 3509 3647 2328 \r\nQ 3647 1150 3233 529 \r\nQ 2819 -91 2034 -91 \r\nQ 1250 -91 836 529 \r\nQ 422 1150 422 2328 \r\nQ 422 3509 836 4129 \r\nQ 1250 4750 2034 4750 \r\nz\r\n\" id=\"DejaVuSans-30\" transform=\"scale(0.015625)\"/>\r\n        <path d=\"M 684 794 \r\nL 1344 794 \r\nL 1344 0 \r\nL 684 0 \r\nL 684 794 \r\nz\r\n\" id=\"DejaVuSans-2e\" transform=\"scale(0.015625)\"/>\r\n       </defs>\r\n       <use xlink:href=\"#DejaVuSans-30\"/>\r\n       <use x=\"63.623047\" xlink:href=\"#DejaVuSans-2e\"/>\r\n       <use x=\"95.410156\" xlink:href=\"#DejaVuSans-30\"/>\r\n      </g>\r\n     </g>\r\n    </g>\r\n    <g id=\"xtick_2\">\r\n     <g id=\"line2d_2\">\r\n      <g>\r\n       <use style=\"stroke:#000000;stroke-width:0.8;\" x=\"298.167188\" xlink:href=\"#mb48369ff1e\" y=\"224.64\"/>\r\n      </g>\r\n     </g>\r\n     <g id=\"text_2\">\r\n      <!-- 1.0 -->\r\n      <g transform=\"translate(290.215625 239.238438)scale(0.1 -0.1)\">\r\n       <defs>\r\n        <path d=\"M 794 531 \r\nL 1825 531 \r\nL 1825 4091 \r\nL 703 3866 \r\nL 703 4441 \r\nL 1819 4666 \r\nL 2450 4666 \r\nL 2450 531 \r\nL 3481 531 \r\nL 3481 0 \r\nL 794 0 \r\nL 794 531 \r\nz\r\n\" id=\"DejaVuSans-31\" transform=\"scale(0.015625)\"/>\r\n       </defs>\r\n       <use xlink:href=\"#DejaVuSans-31\"/>\r\n       <use x=\"63.623047\" xlink:href=\"#DejaVuSans-2e\"/>\r\n       <use x=\"95.410156\" xlink:href=\"#DejaVuSans-30\"/>\r\n      </g>\r\n     </g>\r\n    </g>\r\n    <g id=\"text_3\">\r\n     <!-- LSindpt_priv_curric -->\r\n     <g transform=\"translate(166.982813 252.916562)scale(0.1 -0.1)\">\r\n      <defs>\r\n       <path d=\"M 628 4666 \r\nL 1259 4666 \r\nL 1259 531 \r\nL 3531 531 \r\nL 3531 0 \r\nL 628 0 \r\nL 628 4666 \r\nz\r\n\" id=\"DejaVuSans-4c\" transform=\"scale(0.015625)\"/>\r\n       <path d=\"M 3425 4513 \r\nL 3425 3897 \r\nQ 3066 4069 2747 4153 \r\nQ 2428 4238 2131 4238 \r\nQ 1616 4238 1336 4038 \r\nQ 1056 3838 1056 3469 \r\nQ 1056 3159 1242 3001 \r\nQ 1428 2844 1947 2747 \r\nL 2328 2669 \r\nQ 3034 2534 3370 2195 \r\nQ 3706 1856 3706 1288 \r\nQ 3706 609 3251 259 \r\nQ 2797 -91 1919 -91 \r\nQ 1588 -91 1214 -16 \r\nQ 841 59 441 206 \r\nL 441 856 \r\nQ 825 641 1194 531 \r\nQ 1563 422 1919 422 \r\nQ 2459 422 2753 634 \r\nQ 3047 847 3047 1241 \r\nQ 3047 1584 2836 1778 \r\nQ 2625 1972 2144 2069 \r\nL 1759 2144 \r\nQ 1053 2284 737 2584 \r\nQ 422 2884 422 3419 \r\nQ 422 4038 858 4394 \r\nQ 1294 4750 2059 4750 \r\nQ 2388 4750 2728 4690 \r\nQ 3069 4631 3425 4513 \r\nz\r\n\" id=\"DejaVuSans-53\" transform=\"scale(0.015625)\"/>\r\n       <path d=\"M 603 3500 \r\nL 1178 3500 \r\nL 1178 0 \r\nL 603 0 \r\nL 603 3500 \r\nz\r\nM 603 4863 \r\nL 1178 4863 \r\nL 1178 4134 \r\nL 603 4134 \r\nL 603 4863 \r\nz\r\n\" id=\"DejaVuSans-69\" transform=\"scale(0.015625)\"/>\r\n       <path d=\"M 3513 2113 \r\nL 3513 0 \r\nL 2938 0 \r\nL 2938 2094 \r\nQ 2938 2591 2744 2837 \r\nQ 2550 3084 2163 3084 \r\nQ 1697 3084 1428 2787 \r\nQ 1159 2491 1159 1978 \r\nL 1159 0 \r\nL 581 0 \r\nL 581 3500 \r\nL 1159 3500 \r\nL 1159 2956 \r\nQ 1366 3272 1645 3428 \r\nQ 1925 3584 2291 3584 \r\nQ 2894 3584 3203 3211 \r\nQ 3513 2838 3513 2113 \r\nz\r\n\" id=\"DejaVuSans-6e\" transform=\"scale(0.015625)\"/>\r\n       <path d=\"M 2906 2969 \r\nL 2906 4863 \r\nL 3481 4863 \r\nL 3481 0 \r\nL 2906 0 \r\nL 2906 525 \r\nQ 2725 213 2448 61 \r\nQ 2172 -91 1784 -91 \r\nQ 1150 -91 751 415 \r\nQ 353 922 353 1747 \r\nQ 353 2572 751 3078 \r\nQ 1150 3584 1784 3584 \r\nQ 2172 3584 2448 3432 \r\nQ 2725 3281 2906 2969 \r\nz\r\nM 947 1747 \r\nQ 947 1113 1208 752 \r\nQ 1469 391 1925 391 \r\nQ 2381 391 2643 752 \r\nQ 2906 1113 2906 1747 \r\nQ 2906 2381 2643 2742 \r\nQ 2381 3103 1925 3103 \r\nQ 1469 3103 1208 2742 \r\nQ 947 2381 947 1747 \r\nz\r\n\" id=\"DejaVuSans-64\" transform=\"scale(0.015625)\"/>\r\n       <path d=\"M 1159 525 \r\nL 1159 -1331 \r\nL 581 -1331 \r\nL 581 3500 \r\nL 1159 3500 \r\nL 1159 2969 \r\nQ 1341 3281 1617 3432 \r\nQ 1894 3584 2278 3584 \r\nQ 2916 3584 3314 3078 \r\nQ 3713 2572 3713 1747 \r\nQ 3713 922 3314 415 \r\nQ 2916 -91 2278 -91 \r\nQ 1894 -91 1617 61 \r\nQ 1341 213 1159 525 \r\nz\r\nM 3116 1747 \r\nQ 3116 2381 2855 2742 \r\nQ 2594 3103 2138 3103 \r\nQ 1681 3103 1420 2742 \r\nQ 1159 2381 1159 1747 \r\nQ 1159 1113 1420 752 \r\nQ 1681 391 2138 391 \r\nQ 2594 391 2855 752 \r\nQ 3116 1113 3116 1747 \r\nz\r\n\" id=\"DejaVuSans-70\" transform=\"scale(0.015625)\"/>\r\n       <path d=\"M 1172 4494 \r\nL 1172 3500 \r\nL 2356 3500 \r\nL 2356 3053 \r\nL 1172 3053 \r\nL 1172 1153 \r\nQ 1172 725 1289 603 \r\nQ 1406 481 1766 481 \r\nL 2356 481 \r\nL 2356 0 \r\nL 1766 0 \r\nQ 1100 0 847 248 \r\nQ 594 497 594 1153 \r\nL 594 3053 \r\nL 172 3053 \r\nL 172 3500 \r\nL 594 3500 \r\nL 594 4494 \r\nL 1172 4494 \r\nz\r\n\" id=\"DejaVuSans-74\" transform=\"scale(0.015625)\"/>\r\n       <path d=\"M 3263 -1063 \r\nL 3263 -1509 \r\nL -63 -1509 \r\nL -63 -1063 \r\nL 3263 -1063 \r\nz\r\n\" id=\"DejaVuSans-5f\" transform=\"scale(0.015625)\"/>\r\n       <path d=\"M 2631 2963 \r\nQ 2534 3019 2420 3045 \r\nQ 2306 3072 2169 3072 \r\nQ 1681 3072 1420 2755 \r\nQ 1159 2438 1159 1844 \r\nL 1159 0 \r\nL 581 0 \r\nL 581 3500 \r\nL 1159 3500 \r\nL 1159 2956 \r\nQ 1341 3275 1631 3429 \r\nQ 1922 3584 2338 3584 \r\nQ 2397 3584 2469 3576 \r\nQ 2541 3569 2628 3553 \r\nL 2631 2963 \r\nz\r\n\" id=\"DejaVuSans-72\" transform=\"scale(0.015625)\"/>\r\n       <path d=\"M 191 3500 \r\nL 800 3500 \r\nL 1894 563 \r\nL 2988 3500 \r\nL 3597 3500 \r\nL 2284 0 \r\nL 1503 0 \r\nL 191 3500 \r\nz\r\n\" id=\"DejaVuSans-76\" transform=\"scale(0.015625)\"/>\r\n       <path d=\"M 3122 3366 \r\nL 3122 2828 \r\nQ 2878 2963 2633 3030 \r\nQ 2388 3097 2138 3097 \r\nQ 1578 3097 1268 2742 \r\nQ 959 2388 959 1747 \r\nQ 959 1106 1268 751 \r\nQ 1578 397 2138 397 \r\nQ 2388 397 2633 464 \r\nQ 2878 531 3122 666 \r\nL 3122 134 \r\nQ 2881 22 2623 -34 \r\nQ 2366 -91 2075 -91 \r\nQ 1284 -91 818 406 \r\nQ 353 903 353 1747 \r\nQ 353 2603 823 3093 \r\nQ 1294 3584 2113 3584 \r\nQ 2378 3584 2631 3529 \r\nQ 2884 3475 3122 3366 \r\nz\r\n\" id=\"DejaVuSans-63\" transform=\"scale(0.015625)\"/>\r\n       <path d=\"M 544 1381 \r\nL 544 3500 \r\nL 1119 3500 \r\nL 1119 1403 \r\nQ 1119 906 1312 657 \r\nQ 1506 409 1894 409 \r\nQ 2359 409 2629 706 \r\nQ 2900 1003 2900 1516 \r\nL 2900 3500 \r\nL 3475 3500 \r\nL 3475 0 \r\nL 2900 0 \r\nL 2900 538 \r\nQ 2691 219 2414 64 \r\nQ 2138 -91 1772 -91 \r\nQ 1169 -91 856 284 \r\nQ 544 659 544 1381 \r\nz\r\nM 1991 3584 \r\nL 1991 3584 \r\nz\r\n\" id=\"DejaVuSans-75\" transform=\"scale(0.015625)\"/>\r\n      </defs>\r\n      <use xlink:href=\"#DejaVuSans-4c\"/>\r\n      <use x=\"55.712891\" xlink:href=\"#DejaVuSans-53\"/>\r\n      <use x=\"119.189453\" xlink:href=\"#DejaVuSans-69\"/>\r\n      <use x=\"146.972656\" xlink:href=\"#DejaVuSans-6e\"/>\r\n      <use x=\"210.351562\" xlink:href=\"#DejaVuSans-64\"/>\r\n      <use x=\"273.828125\" xlink:href=\"#DejaVuSans-70\"/>\r\n      <use x=\"337.304688\" xlink:href=\"#DejaVuSans-74\"/>\r\n      <use x=\"376.513672\" xlink:href=\"#DejaVuSans-5f\"/>\r\n      <use x=\"426.513672\" xlink:href=\"#DejaVuSans-70\"/>\r\n      <use x=\"489.990234\" xlink:href=\"#DejaVuSans-72\"/>\r\n      <use x=\"531.103516\" xlink:href=\"#DejaVuSans-69\"/>\r\n      <use x=\"558.886719\" xlink:href=\"#DejaVuSans-76\"/>\r\n      <use x=\"618.066406\" xlink:href=\"#DejaVuSans-5f\"/>\r\n      <use x=\"668.066406\" xlink:href=\"#DejaVuSans-63\"/>\r\n      <use x=\"723.046875\" xlink:href=\"#DejaVuSans-75\"/>\r\n      <use x=\"786.425781\" xlink:href=\"#DejaVuSans-72\"/>\r\n      <use x=\"825.789062\" xlink:href=\"#DejaVuSans-72\"/>\r\n      <use x=\"866.902344\" xlink:href=\"#DejaVuSans-69\"/>\r\n      <use x=\"894.685547\" xlink:href=\"#DejaVuSans-63\"/>\r\n     </g>\r\n    </g>\r\n   </g>\r\n   <g id=\"matplotlib.axis_2\">\r\n    <g id=\"ytick_1\">\r\n     <g id=\"line2d_3\">\r\n      <defs>\r\n       <path d=\"M 0 0 \r\nL -3.5 0 \r\n\" id=\"m96b4175829\" style=\"stroke:#000000;stroke-width:0.8;\"/>\r\n      </defs>\r\n      <g>\r\n       <use style=\"stroke:#000000;stroke-width:0.8;\" x=\"47.067188\" xlink:href=\"#m96b4175829\" y=\"205.298338\"/>\r\n      </g>\r\n     </g>\r\n     <g id=\"text_4\">\r\n      <!-- 350 -->\r\n      <g transform=\"translate(20.979688 209.097557)scale(0.1 -0.1)\">\r\n       <defs>\r\n        <path d=\"M 2597 2516 \r\nQ 3050 2419 3304 2112 \r\nQ 3559 1806 3559 1356 \r\nQ 3559 666 3084 287 \r\nQ 2609 -91 1734 -91 \r\nQ 1441 -91 1130 -33 \r\nQ 819 25 488 141 \r\nL 488 750 \r\nQ 750 597 1062 519 \r\nQ 1375 441 1716 441 \r\nQ 2309 441 2620 675 \r\nQ 2931 909 2931 1356 \r\nQ 2931 1769 2642 2001 \r\nQ 2353 2234 1838 2234 \r\nL 1294 2234 \r\nL 1294 2753 \r\nL 1863 2753 \r\nQ 2328 2753 2575 2939 \r\nQ 2822 3125 2822 3475 \r\nQ 2822 3834 2567 4026 \r\nQ 2313 4219 1838 4219 \r\nQ 1578 4219 1281 4162 \r\nQ 984 4106 628 3988 \r\nL 628 4550 \r\nQ 988 4650 1302 4700 \r\nQ 1616 4750 1894 4750 \r\nQ 2613 4750 3031 4423 \r\nQ 3450 4097 3450 3541 \r\nQ 3450 3153 3228 2886 \r\nQ 3006 2619 2597 2516 \r\nz\r\n\" id=\"DejaVuSans-33\" transform=\"scale(0.015625)\"/>\r\n        <path d=\"M 691 4666 \r\nL 3169 4666 \r\nL 3169 4134 \r\nL 1269 4134 \r\nL 1269 2991 \r\nQ 1406 3038 1543 3061 \r\nQ 1681 3084 1819 3084 \r\nQ 2600 3084 3056 2656 \r\nQ 3513 2228 3513 1497 \r\nQ 3513 744 3044 326 \r\nQ 2575 -91 1722 -91 \r\nQ 1428 -91 1123 -41 \r\nQ 819 9 494 109 \r\nL 494 744 \r\nQ 775 591 1075 516 \r\nQ 1375 441 1709 441 \r\nQ 2250 441 2565 725 \r\nQ 2881 1009 2881 1497 \r\nQ 2881 1984 2565 2268 \r\nQ 2250 2553 1709 2553 \r\nQ 1456 2553 1204 2497 \r\nQ 953 2441 691 2322 \r\nL 691 4666 \r\nz\r\n\" id=\"DejaVuSans-35\" transform=\"scale(0.015625)\"/>\r\n       </defs>\r\n       <use xlink:href=\"#DejaVuSans-33\"/>\r\n       <use x=\"63.623047\" xlink:href=\"#DejaVuSans-35\"/>\r\n       <use x=\"127.246094\" xlink:href=\"#DejaVuSans-30\"/>\r\n      </g>\r\n     </g>\r\n    </g>\r\n    <g id=\"ytick_2\">\r\n     <g id=\"line2d_4\">\r\n      <g>\r\n       <use style=\"stroke:#000000;stroke-width:0.8;\" x=\"47.067188\" xlink:href=\"#m96b4175829\" y=\"158.008212\"/>\r\n      </g>\r\n     </g>\r\n     <g id=\"text_5\">\r\n      <!-- 400 -->\r\n      <g transform=\"translate(20.979688 161.807431)scale(0.1 -0.1)\">\r\n       <defs>\r\n        <path d=\"M 2419 4116 \r\nL 825 1625 \r\nL 2419 1625 \r\nL 2419 4116 \r\nz\r\nM 2253 4666 \r\nL 3047 4666 \r\nL 3047 1625 \r\nL 3713 1625 \r\nL 3713 1100 \r\nL 3047 1100 \r\nL 3047 0 \r\nL 2419 0 \r\nL 2419 1100 \r\nL 313 1100 \r\nL 313 1709 \r\nL 2253 4666 \r\nz\r\n\" id=\"DejaVuSans-34\" transform=\"scale(0.015625)\"/>\r\n       </defs>\r\n       <use xlink:href=\"#DejaVuSans-34\"/>\r\n       <use x=\"63.623047\" xlink:href=\"#DejaVuSans-30\"/>\r\n       <use x=\"127.246094\" xlink:href=\"#DejaVuSans-30\"/>\r\n      </g>\r\n     </g>\r\n    </g>\r\n    <g id=\"ytick_3\">\r\n     <g id=\"line2d_5\">\r\n      <g>\r\n       <use style=\"stroke:#000000;stroke-width:0.8;\" x=\"47.067188\" xlink:href=\"#m96b4175829\" y=\"110.718086\"/>\r\n      </g>\r\n     </g>\r\n     <g id=\"text_6\">\r\n      <!-- 450 -->\r\n      <g transform=\"translate(20.979688 114.517305)scale(0.1 -0.1)\">\r\n       <use xlink:href=\"#DejaVuSans-34\"/>\r\n       <use x=\"63.623047\" xlink:href=\"#DejaVuSans-35\"/>\r\n       <use x=\"127.246094\" xlink:href=\"#DejaVuSans-30\"/>\r\n      </g>\r\n     </g>\r\n    </g>\r\n    <g id=\"ytick_4\">\r\n     <g id=\"line2d_6\">\r\n      <g>\r\n       <use style=\"stroke:#000000;stroke-width:0.8;\" x=\"47.067188\" xlink:href=\"#m96b4175829\" y=\"63.42796\"/>\r\n      </g>\r\n     </g>\r\n     <g id=\"text_7\">\r\n      <!-- 500 -->\r\n      <g transform=\"translate(20.979688 67.227179)scale(0.1 -0.1)\">\r\n       <use xlink:href=\"#DejaVuSans-35\"/>\r\n       <use x=\"63.623047\" xlink:href=\"#DejaVuSans-30\"/>\r\n       <use x=\"127.246094\" xlink:href=\"#DejaVuSans-30\"/>\r\n      </g>\r\n     </g>\r\n    </g>\r\n    <g id=\"ytick_5\">\r\n     <g id=\"line2d_7\">\r\n      <g>\r\n       <use style=\"stroke:#000000;stroke-width:0.8;\" x=\"47.067188\" xlink:href=\"#m96b4175829\" y=\"16.137834\"/>\r\n      </g>\r\n     </g>\r\n     <g id=\"text_8\">\r\n      <!-- 550 -->\r\n      <g transform=\"translate(20.979688 19.937053)scale(0.1 -0.1)\">\r\n       <use xlink:href=\"#DejaVuSans-35\"/>\r\n       <use x=\"63.623047\" xlink:href=\"#DejaVuSans-35\"/>\r\n       <use x=\"127.246094\" xlink:href=\"#DejaVuSans-30\"/>\r\n      </g>\r\n     </g>\r\n    </g>\r\n    <g id=\"text_9\">\r\n     <!-- READING_AVG -->\r\n     <g transform=\"translate(14.621875 151.809844)rotate(-90)scale(0.1 -0.1)\">\r\n      <defs>\r\n       <path d=\"M 2841 2188 \r\nQ 3044 2119 3236 1894 \r\nQ 3428 1669 3622 1275 \r\nL 4263 0 \r\nL 3584 0 \r\nL 2988 1197 \r\nQ 2756 1666 2539 1819 \r\nQ 2322 1972 1947 1972 \r\nL 1259 1972 \r\nL 1259 0 \r\nL 628 0 \r\nL 628 4666 \r\nL 2053 4666 \r\nQ 2853 4666 3247 4331 \r\nQ 3641 3997 3641 3322 \r\nQ 3641 2881 3436 2590 \r\nQ 3231 2300 2841 2188 \r\nz\r\nM 1259 4147 \r\nL 1259 2491 \r\nL 2053 2491 \r\nQ 2509 2491 2742 2702 \r\nQ 2975 2913 2975 3322 \r\nQ 2975 3731 2742 3939 \r\nQ 2509 4147 2053 4147 \r\nL 1259 4147 \r\nz\r\n\" id=\"DejaVuSans-52\" transform=\"scale(0.015625)\"/>\r\n       <path d=\"M 628 4666 \r\nL 3578 4666 \r\nL 3578 4134 \r\nL 1259 4134 \r\nL 1259 2753 \r\nL 3481 2753 \r\nL 3481 2222 \r\nL 1259 2222 \r\nL 1259 531 \r\nL 3634 531 \r\nL 3634 0 \r\nL 628 0 \r\nL 628 4666 \r\nz\r\n\" id=\"DejaVuSans-45\" transform=\"scale(0.015625)\"/>\r\n       <path d=\"M 2188 4044 \r\nL 1331 1722 \r\nL 3047 1722 \r\nL 2188 4044 \r\nz\r\nM 1831 4666 \r\nL 2547 4666 \r\nL 4325 0 \r\nL 3669 0 \r\nL 3244 1197 \r\nL 1141 1197 \r\nL 716 0 \r\nL 50 0 \r\nL 1831 4666 \r\nz\r\n\" id=\"DejaVuSans-41\" transform=\"scale(0.015625)\"/>\r\n       <path d=\"M 1259 4147 \r\nL 1259 519 \r\nL 2022 519 \r\nQ 2988 519 3436 956 \r\nQ 3884 1394 3884 2338 \r\nQ 3884 3275 3436 3711 \r\nQ 2988 4147 2022 4147 \r\nL 1259 4147 \r\nz\r\nM 628 4666 \r\nL 1925 4666 \r\nQ 3281 4666 3915 4102 \r\nQ 4550 3538 4550 2338 \r\nQ 4550 1131 3912 565 \r\nQ 3275 0 1925 0 \r\nL 628 0 \r\nL 628 4666 \r\nz\r\n\" id=\"DejaVuSans-44\" transform=\"scale(0.015625)\"/>\r\n       <path d=\"M 628 4666 \r\nL 1259 4666 \r\nL 1259 0 \r\nL 628 0 \r\nL 628 4666 \r\nz\r\n\" id=\"DejaVuSans-49\" transform=\"scale(0.015625)\"/>\r\n       <path d=\"M 628 4666 \r\nL 1478 4666 \r\nL 3547 763 \r\nL 3547 4666 \r\nL 4159 4666 \r\nL 4159 0 \r\nL 3309 0 \r\nL 1241 3903 \r\nL 1241 0 \r\nL 628 0 \r\nL 628 4666 \r\nz\r\n\" id=\"DejaVuSans-4e\" transform=\"scale(0.015625)\"/>\r\n       <path d=\"M 3809 666 \r\nL 3809 1919 \r\nL 2778 1919 \r\nL 2778 2438 \r\nL 4434 2438 \r\nL 4434 434 \r\nQ 4069 175 3628 42 \r\nQ 3188 -91 2688 -91 \r\nQ 1594 -91 976 548 \r\nQ 359 1188 359 2328 \r\nQ 359 3472 976 4111 \r\nQ 1594 4750 2688 4750 \r\nQ 3144 4750 3555 4637 \r\nQ 3966 4525 4313 4306 \r\nL 4313 3634 \r\nQ 3963 3931 3569 4081 \r\nQ 3175 4231 2741 4231 \r\nQ 1884 4231 1454 3753 \r\nQ 1025 3275 1025 2328 \r\nQ 1025 1384 1454 906 \r\nQ 1884 428 2741 428 \r\nQ 3075 428 3337 486 \r\nQ 3600 544 3809 666 \r\nz\r\n\" id=\"DejaVuSans-47\" transform=\"scale(0.015625)\"/>\r\n       <path d=\"M 1831 0 \r\nL 50 4666 \r\nL 709 4666 \r\nL 2188 738 \r\nL 3669 4666 \r\nL 4325 4666 \r\nL 2547 0 \r\nL 1831 0 \r\nz\r\n\" id=\"DejaVuSans-56\" transform=\"scale(0.015625)\"/>\r\n      </defs>\r\n      <use xlink:href=\"#DejaVuSans-52\"/>\r\n      <use x=\"69.482422\" xlink:href=\"#DejaVuSans-45\"/>\r\n      <use x=\"132.666016\" xlink:href=\"#DejaVuSans-41\"/>\r\n      <use x=\"201.074219\" xlink:href=\"#DejaVuSans-44\"/>\r\n      <use x=\"278.076172\" xlink:href=\"#DejaVuSans-49\"/>\r\n      <use x=\"307.568359\" xlink:href=\"#DejaVuSans-4e\"/>\r\n      <use x=\"382.373047\" xlink:href=\"#DejaVuSans-47\"/>\r\n      <use x=\"459.863281\" xlink:href=\"#DejaVuSans-5f\"/>\r\n      <use x=\"509.863281\" xlink:href=\"#DejaVuSans-41\"/>\r\n      <use x=\"571.896484\" xlink:href=\"#DejaVuSans-56\"/>\r\n      <use x=\"640.304688\" xlink:href=\"#DejaVuSans-47\"/>\r\n     </g>\r\n    </g>\r\n   </g>\r\n   <g id=\"line2d_8\">\r\n    <path clip-path=\"url(#p044ea51c62)\" d=\"M 130.767188 83.526264 \r\nL 130.767188 91.802036 \r\n\" style=\"fill:none;stroke:#3f3f3f;stroke-linecap:square;stroke-width:1.5;\"/>\r\n   </g>\r\n   <g id=\"line2d_9\">\r\n    <path clip-path=\"url(#p044ea51c62)\" d=\"M 130.767188 57.989595 \r\nL 130.767188 40.728699 \r\n\" style=\"fill:none;stroke:#3f3f3f;stroke-linecap:square;stroke-width:1.5;\"/>\r\n   </g>\r\n   <g id=\"line2d_10\">\r\n    <path clip-path=\"url(#p044ea51c62)\" d=\"M 97.287188 91.802036 \r\nL 164.247187 91.802036 \r\n\" style=\"fill:none;stroke:#3f3f3f;stroke-linecap:square;stroke-width:1.5;\"/>\r\n   </g>\r\n   <g id=\"line2d_11\">\r\n    <path clip-path=\"url(#p044ea51c62)\" d=\"M 97.287188 40.728699 \r\nL 164.247187 40.728699 \r\n\" style=\"fill:none;stroke:#3f3f3f;stroke-linecap:square;stroke-width:1.5;\"/>\r\n   </g>\r\n   <g id=\"line2d_12\">\r\n    <defs>\r\n     <path d=\"M 0 3.535534 \r\nL 2.12132 0 \r\nL 0 -3.535534 \r\nL -2.12132 0 \r\nz\r\n\" id=\"meaeaefc310\" style=\"stroke:#3f3f3f;stroke-linejoin:miter;\"/>\r\n    </defs>\r\n    <g clip-path=\"url(#p044ea51c62)\">\r\n     <use style=\"fill:#3f3f3f;stroke:#3f3f3f;stroke-linejoin:miter;\" x=\"130.767188\" xlink:href=\"#meaeaefc310\" y=\"131.525742\"/>\r\n     <use style=\"fill:#3f3f3f;stroke:#3f3f3f;stroke-linejoin:miter;\" x=\"130.767188\" xlink:href=\"#meaeaefc310\" y=\"17.083636\"/>\r\n    </g>\r\n   </g>\r\n   <g id=\"line2d_13\">\r\n    <path clip-path=\"url(#p044ea51c62)\" d=\"M 298.167188 155.170805 \r\nL 298.167188 214.756364 \r\n\" style=\"fill:none;stroke:#3f3f3f;stroke-linecap:square;stroke-width:1.5;\"/>\r\n   </g>\r\n   <g id=\"line2d_14\">\r\n    <path clip-path=\"url(#p044ea51c62)\" d=\"M 298.167188 78.5608 \r\nL 298.167188 39.782897 \r\n\" style=\"fill:none;stroke:#3f3f3f;stroke-linecap:square;stroke-width:1.5;\"/>\r\n   </g>\r\n   <g id=\"line2d_15\">\r\n    <path clip-path=\"url(#p044ea51c62)\" d=\"M 264.687188 214.756364 \r\nL 331.647187 214.756364 \r\n\" style=\"fill:none;stroke:#3f3f3f;stroke-linecap:square;stroke-width:1.5;\"/>\r\n   </g>\r\n   <g id=\"line2d_16\">\r\n    <path clip-path=\"url(#p044ea51c62)\" d=\"M 264.687188 39.782897 \r\nL 331.647187 39.782897 \r\n\" style=\"fill:none;stroke:#3f3f3f;stroke-linecap:square;stroke-width:1.5;\"/>\r\n   </g>\r\n   <g id=\"line2d_17\"/>\r\n   <g id=\"line2d_18\">\r\n    <path clip-path=\"url(#p044ea51c62)\" d=\"M 63.807187 63.42796 \r\nL 197.727188 63.42796 \r\n\" style=\"fill:none;stroke:#3f3f3f;stroke-linecap:square;stroke-width:1.5;\"/>\r\n   </g>\r\n   <g id=\"line2d_19\">\r\n    <path clip-path=\"url(#p044ea51c62)\" d=\"M 231.207188 127.742532 \r\nL 365.127187 127.742532 \r\n\" style=\"fill:none;stroke:#3f3f3f;stroke-linecap:square;stroke-width:1.5;\"/>\r\n   </g>\r\n   <g id=\"patch_5\">\r\n    <path d=\"M 47.067188 224.64 \r\nL 47.067188 7.2 \r\n\" style=\"fill:none;stroke:#000000;stroke-linecap:square;stroke-linejoin:miter;stroke-width:0.8;\"/>\r\n   </g>\r\n   <g id=\"patch_6\">\r\n    <path d=\"M 381.867188 224.64 \r\nL 381.867188 7.2 \r\n\" style=\"fill:none;stroke:#000000;stroke-linecap:square;stroke-linejoin:miter;stroke-width:0.8;\"/>\r\n   </g>\r\n   <g id=\"patch_7\">\r\n    <path d=\"M 47.067188 224.64 \r\nL 381.867188 224.64 \r\n\" style=\"fill:none;stroke:#000000;stroke-linecap:square;stroke-linejoin:miter;stroke-width:0.8;\"/>\r\n   </g>\r\n   <g id=\"patch_8\">\r\n    <path d=\"M 47.067188 7.2 \r\nL 381.867188 7.2 \r\n\" style=\"fill:none;stroke:#000000;stroke-linecap:square;stroke-linejoin:miter;stroke-width:0.8;\"/>\r\n   </g>\r\n  </g>\r\n </g>\r\n <defs>\r\n  <clipPath id=\"p044ea51c62\">\r\n   <rect height=\"217.44\" width=\"334.8\" x=\"47.067188\" y=\"7.2\"/>\r\n  </clipPath>\r\n </defs>\r\n</svg>\r\n",
      "image/png": "[encoded data removed]"
     },
     "metadata": {
      "needs_background": "light"
     }
    }
   ],
   "source": [
    "# x ='Pindpt_priv_curric','Phs_curric','LSindpt_priv_curric'\n",
    "# y = 'READING_AVG', 'MATH_AVG', 'SCIENCE_AVG'\n",
    "\n",
    "sns.boxplot(x ='LSindpt_priv_curric', y='READING_AVG', data=df)\n",
    "\n"
   ]
  },
  {
   "source": [
    "**Presence of gov't req'd national exam in Primary School could lead to lower PISA scores**\n",
    "\n",
    "The presence of a national exam has a moderate negative effect all primary school types (except homeschool) with -.3 < corr < -.56 (stronger impact on reading and science) (35-62% missing)\n",
    "\n",
    "The presence of a national exam has a moderate negative effect on LS gov't private schools with -.37 < -.46 /45%/"
   ],
   "cell_type": "markdown",
   "metadata": {}
  },
  {
   "cell_type": "code",
   "execution_count": 16,
   "metadata": {},
   "outputs": [
    {
     "output_type": "execute_result",
     "data": {
      "text/plain": [
       "                       READING_AVG  MATH_AVG  SCIENCE_AVG  Ppub_st_nat_exam  \\\n",
       "READING_AVG               1.000000  0.948769     0.977092         -0.390932   \n",
       "MATH_AVG                  0.948769  1.000000     0.973806         -0.298180   \n",
       "SCIENCE_AVG               0.977092  0.973806     1.000000         -0.356693   \n",
       "Ppub_st_nat_exam         -0.390932 -0.298180    -0.356693          1.000000   \n",
       "Pgovt_priv_nat_exam      -0.560009 -0.493955    -0.477877          0.923381   \n",
       "Pindpt_priv_nat_exam     -0.468153 -0.380489    -0.411225          0.524249   \n",
       "Phs_nat_exam             -0.380183 -0.256657    -0.381337          0.460283   \n",
       "LSpub_st_nat_exam        -0.267920 -0.188889    -0.256541          0.546896   \n",
       "LSgovt_priv_nat_exam     -0.466892 -0.370165    -0.414203          0.520847   \n",
       "LSindpt_priv_nat_exam    -0.375115 -0.280125    -0.315104          0.401735   \n",
       "LShs_nat_exam            -0.120905  0.002665    -0.111040          0.491952   \n",
       "\n",
       "                       Pgovt_priv_nat_exam  Pindpt_priv_nat_exam  \\\n",
       "READING_AVG                      -0.560009             -0.468153   \n",
       "MATH_AVG                         -0.493955             -0.380489   \n",
       "SCIENCE_AVG                      -0.477877             -0.411225   \n",
       "Ppub_st_nat_exam                  0.923381              0.524249   \n",
       "Pgovt_priv_nat_exam               1.000000              0.581675   \n",
       "Pindpt_priv_nat_exam              0.581675              1.000000   \n",
       "Phs_nat_exam                      0.337350              0.387440   \n",
       "LSpub_st_nat_exam                 0.450051              0.381397   \n",
       "LSgovt_priv_nat_exam              0.500000              0.249601   \n",
       "LSindpt_priv_nat_exam             0.385758              0.747816   \n",
       "LShs_nat_exam                     0.158114              0.357217   \n",
       "\n",
       "                       Phs_nat_exam  LSpub_st_nat_exam  LSgovt_priv_nat_exam  \\\n",
       "READING_AVG               -0.380183          -0.267920             -0.466892   \n",
       "MATH_AVG                  -0.256657          -0.188889             -0.370165   \n",
       "SCIENCE_AVG               -0.381337          -0.256541             -0.414203   \n",
       "Ppub_st_nat_exam           0.460283           0.546896              0.520847   \n",
       "Pgovt_priv_nat_exam        0.337350           0.450051              0.500000   \n",
       "Pindpt_priv_nat_exam       0.387440           0.381397              0.249601   \n",
       "Phs_nat_exam               1.000000           0.113424              0.188982   \n",
       "LSpub_st_nat_exam          0.113424           1.000000              0.933333   \n",
       "LSgovt_priv_nat_exam       0.188982           0.933333              1.000000   \n",
       "LSindpt_priv_nat_exam      0.310530           0.627765              0.568796   \n",
       "LShs_nat_exam              0.589165           0.638311              0.500694   \n",
       "\n",
       "                       LSindpt_priv_nat_exam  LShs_nat_exam  \n",
       "READING_AVG                        -0.375115      -0.120905  \n",
       "MATH_AVG                           -0.280125       0.002665  \n",
       "SCIENCE_AVG                        -0.315104      -0.111040  \n",
       "Ppub_st_nat_exam                    0.401735       0.491952  \n",
       "Pgovt_priv_nat_exam                 0.385758       0.158114  \n",
       "Pindpt_priv_nat_exam                0.747816       0.357217  \n",
       "Phs_nat_exam                        0.310530       0.589165  \n",
       "LSpub_st_nat_exam                   0.627765       0.638311  \n",
       "LSgovt_priv_nat_exam                0.568796       0.500694  \n",
       "LSindpt_priv_nat_exam               1.000000       0.579066  \n",
       "LShs_nat_exam                       0.579066       1.000000  "
      ],
      "text/html": "<div>\n<style scoped>\n    .dataframe tbody tr th:only-of-type {\n        vertical-align: middle;\n    }\n\n    .dataframe tbody tr th {\n        vertical-align: top;\n    }\n\n    .dataframe thead th {\n        text-align: right;\n    }\n</style>\n<table border=\"1\" class=\"dataframe\">\n  <thead>\n    <tr style=\"text-align: right;\">\n      <th></th>\n      <th>READING_AVG</th>\n      <th>MATH_AVG</th>\n      <th>SCIENCE_AVG</th>\n      <th>Ppub_st_nat_exam</th>\n      <th>Pgovt_priv_nat_exam</th>\n      <th>Pindpt_priv_nat_exam</th>\n      <th>Phs_nat_exam</th>\n      <th>LSpub_st_nat_exam</th>\n      <th>LSgovt_priv_nat_exam</th>\n      <th>LSindpt_priv_nat_exam</th>\n      <th>LShs_nat_exam</th>\n    </tr>\n  </thead>\n  <tbody>\n    <tr>\n      <th>READING_AVG</th>\n      <td>1.000000</td>\n      <td>0.948769</td>\n      <td>0.977092</td>\n      <td>-0.390932</td>\n      <td>-0.560009</td>\n      <td>-0.468153</td>\n      <td>-0.380183</td>\n      <td>-0.267920</td>\n      <td>-0.466892</td>\n      <td>-0.375115</td>\n      <td>-0.120905</td>\n    </tr>\n    <tr>\n      <th>MATH_AVG</th>\n      <td>0.948769</td>\n      <td>1.000000</td>\n      <td>0.973806</td>\n      <td>-0.298180</td>\n      <td>-0.493955</td>\n      <td>-0.380489</td>\n      <td>-0.256657</td>\n      <td>-0.188889</td>\n      <td>-0.370165</td>\n      <td>-0.280125</td>\n      <td>0.002665</td>\n    </tr>\n    <tr>\n      <th>SCIENCE_AVG</th>\n      <td>0.977092</td>\n      <td>0.973806</td>\n      <td>1.000000</td>\n      <td>-0.356693</td>\n      <td>-0.477877</td>\n      <td>-0.411225</td>\n      <td>-0.381337</td>\n      <td>-0.256541</td>\n      <td>-0.414203</td>\n      <td>-0.315104</td>\n      <td>-0.111040</td>\n    </tr>\n    <tr>\n      <th>Ppub_st_nat_exam</th>\n      <td>-0.390932</td>\n      <td>-0.298180</td>\n      <td>-0.356693</td>\n      <td>1.000000</td>\n      <td>0.923381</td>\n      <td>0.524249</td>\n      <td>0.460283</td>\n      <td>0.546896</td>\n      <td>0.520847</td>\n      <td>0.401735</td>\n      <td>0.491952</td>\n    </tr>\n    <tr>\n      <th>Pgovt_priv_nat_exam</th>\n      <td>-0.560009</td>\n      <td>-0.493955</td>\n      <td>-0.477877</td>\n      <td>0.923381</td>\n      <td>1.000000</td>\n      <td>0.581675</td>\n      <td>0.337350</td>\n      <td>0.450051</td>\n      <td>0.500000</td>\n      <td>0.385758</td>\n      <td>0.158114</td>\n    </tr>\n    <tr>\n      <th>Pindpt_priv_nat_exam</th>\n      <td>-0.468153</td>\n      <td>-0.380489</td>\n      <td>-0.411225</td>\n      <td>0.524249</td>\n      <td>0.581675</td>\n      <td>1.000000</td>\n      <td>0.387440</td>\n      <td>0.381397</td>\n      <td>0.249601</td>\n      <td>0.747816</td>\n      <td>0.357217</td>\n    </tr>\n    <tr>\n      <th>Phs_nat_exam</th>\n      <td>-0.380183</td>\n      <td>-0.256657</td>\n      <td>-0.381337</td>\n      <td>0.460283</td>\n      <td>0.337350</td>\n      <td>0.387440</td>\n      <td>1.000000</td>\n      <td>0.113424</td>\n      <td>0.188982</td>\n      <td>0.310530</td>\n      <td>0.589165</td>\n    </tr>\n    <tr>\n      <th>LSpub_st_nat_exam</th>\n      <td>-0.267920</td>\n      <td>-0.188889</td>\n      <td>-0.256541</td>\n      <td>0.546896</td>\n      <td>0.450051</td>\n      <td>0.381397</td>\n      <td>0.113424</td>\n      <td>1.000000</td>\n      <td>0.933333</td>\n      <td>0.627765</td>\n      <td>0.638311</td>\n    </tr>\n    <tr>\n      <th>LSgovt_priv_nat_exam</th>\n      <td>-0.466892</td>\n      <td>-0.370165</td>\n      <td>-0.414203</td>\n      <td>0.520847</td>\n      <td>0.500000</td>\n      <td>0.249601</td>\n      <td>0.188982</td>\n      <td>0.933333</td>\n      <td>1.000000</td>\n      <td>0.568796</td>\n      <td>0.500694</td>\n    </tr>\n    <tr>\n      <th>LSindpt_priv_nat_exam</th>\n      <td>-0.375115</td>\n      <td>-0.280125</td>\n      <td>-0.315104</td>\n      <td>0.401735</td>\n      <td>0.385758</td>\n      <td>0.747816</td>\n      <td>0.310530</td>\n      <td>0.627765</td>\n      <td>0.568796</td>\n      <td>1.000000</td>\n      <td>0.579066</td>\n    </tr>\n    <tr>\n      <th>LShs_nat_exam</th>\n      <td>-0.120905</td>\n      <td>0.002665</td>\n      <td>-0.111040</td>\n      <td>0.491952</td>\n      <td>0.158114</td>\n      <td>0.357217</td>\n      <td>0.589165</td>\n      <td>0.638311</td>\n      <td>0.500694</td>\n      <td>0.579066</td>\n      <td>1.000000</td>\n    </tr>\n  </tbody>\n</table>\n</div>"
     },
     "metadata": {},
     "execution_count": 16
    }
   ],
   "source": [
    "df_natexam = df[govt_regulations_nat_exam]\n",
    "df_natexam.corr()"
   ]
  },
  {
   "cell_type": "code",
   "execution_count": 17,
   "metadata": {},
   "outputs": [
    {
     "output_type": "execute_result",
     "data": {
      "text/plain": [
       "<AxesSubplot:xlabel='Ppub_st_nat_exam', ylabel='READING_AVG'>"
      ]
     },
     "metadata": {},
     "execution_count": 17
    },
    {
     "output_type": "display_data",
     "data": {
      "text/plain": "<Figure size 432x288 with 1 Axes>",
      "image/svg+xml": "<?xml version=\"1.0\" encoding=\"utf-8\" standalone=\"no\"?>\r\n<!DOCTYPE svg PUBLIC \"-//W3C//DTD SVG 1.1//EN\"\r\n  \"http://www.w3.org/Graphics/SVG/1.1/DTD/svg11.dtd\">\r\n<svg height=\"262.474375pt\" version=\"1.1\" viewBox=\"0 0 389.067187 262.474375\" width=\"389.067187pt\" xmlns=\"http://www.w3.org/2000/svg\" xmlns:xlink=\"http://www.w3.org/1999/xlink\">\r\n <metadata>\r\n  <rdf:RDF xmlns:cc=\"http://creativecommons.org/ns#\" xmlns:dc=\"http://purl.org/dc/elements/1.1/\" xmlns:rdf=\"http://www.w3.org/1999/02/22-rdf-syntax-ns#\">\r\n   <cc:Work>\r\n    <dc:type rdf:resource=\"http://purl.org/dc/dcmitype/StillImage\"/>\r\n    <dc:date>2021-06-17T20:53:40.913725</dc:date>\r\n    <dc:format>image/svg+xml</dc:format>\r\n    <dc:creator>\r\n     <cc:Agent>\r\n      <dc:title>Matplotlib v3.4.2, https://matplotlib.org/</dc:title>\r\n     </cc:Agent>\r\n    </dc:creator>\r\n   </cc:Work>\r\n  </rdf:RDF>\r\n </metadata>\r\n <defs>\r\n  <style type=\"text/css\">*{stroke-linecap:butt;stroke-linejoin:round;}</style>\r\n </defs>\r\n <g id=\"figure_1\">\r\n  <g id=\"patch_1\">\r\n   <path d=\"M 0 262.474375 \r\nL 389.067187 262.474375 \r\nL 389.067187 0 \r\nL 0 0 \r\nz\r\n\" style=\"fill:none;\"/>\r\n  </g>\r\n  <g id=\"axes_1\">\r\n   <g id=\"patch_2\">\r\n    <path d=\"M 47.067188 224.64 \r\nL 381.867188 224.64 \r\nL 381.867188 7.2 \r\nL 47.067188 7.2 \r\nz\r\n\" style=\"fill:#ffffff;\"/>\r\n   </g>\r\n   <g id=\"patch_3\">\r\n    <path clip-path=\"url(#pea11558ab2)\" d=\"M 63.807187 104.80682 \r\nL 197.727188 104.80682 \r\nL 197.727188 56.334441 \r\nL 63.807187 56.334441 \r\nL 63.807187 104.80682 \r\nz\r\n\" style=\"fill:#3274a1;stroke:#3f3f3f;stroke-linejoin:miter;stroke-width:1.5;\"/>\r\n   </g>\r\n   <g id=\"patch_4\">\r\n    <path clip-path=\"url(#pea11558ab2)\" d=\"M 231.207188 157.06241 \r\nL 365.127187 157.06241 \r\nL 365.127187 108.826481 \r\nL 231.207188 108.826481 \r\nL 231.207188 157.06241 \r\nz\r\n\" style=\"fill:#e1812c;stroke:#3f3f3f;stroke-linejoin:miter;stroke-width:1.5;\"/>\r\n   </g>\r\n   <g id=\"matplotlib.axis_1\">\r\n    <g id=\"xtick_1\">\r\n     <g id=\"line2d_1\">\r\n      <defs>\r\n       <path d=\"M 0 0 \r\nL 0 3.5 \r\n\" id=\"mba985495e1\" style=\"stroke:#000000;stroke-width:0.8;\"/>\r\n      </defs>\r\n      <g>\r\n       <use style=\"stroke:#000000;stroke-width:0.8;\" x=\"130.767188\" xlink:href=\"#mba985495e1\" y=\"224.64\"/>\r\n      </g>\r\n     </g>\r\n     <g id=\"text_1\">\r\n      <!-- 0.0 -->\r\n      <g transform=\"translate(122.815625 239.238438)scale(0.1 -0.1)\">\r\n       <defs>\r\n        <path d=\"M 2034 4250 \r\nQ 1547 4250 1301 3770 \r\nQ 1056 3291 1056 2328 \r\nQ 1056 1369 1301 889 \r\nQ 1547 409 2034 409 \r\nQ 2525 409 2770 889 \r\nQ 3016 1369 3016 2328 \r\nQ 3016 3291 2770 3770 \r\nQ 2525 4250 2034 4250 \r\nz\r\nM 2034 4750 \r\nQ 2819 4750 3233 4129 \r\nQ 3647 3509 3647 2328 \r\nQ 3647 1150 3233 529 \r\nQ 2819 -91 2034 -91 \r\nQ 1250 -91 836 529 \r\nQ 422 1150 422 2328 \r\nQ 422 3509 836 4129 \r\nQ 1250 4750 2034 4750 \r\nz\r\n\" id=\"DejaVuSans-30\" transform=\"scale(0.015625)\"/>\r\n        <path d=\"M 684 794 \r\nL 1344 794 \r\nL 1344 0 \r\nL 684 0 \r\nL 684 794 \r\nz\r\n\" id=\"DejaVuSans-2e\" transform=\"scale(0.015625)\"/>\r\n       </defs>\r\n       <use xlink:href=\"#DejaVuSans-30\"/>\r\n       <use x=\"63.623047\" xlink:href=\"#DejaVuSans-2e\"/>\r\n       <use x=\"95.410156\" xlink:href=\"#DejaVuSans-30\"/>\r\n      </g>\r\n     </g>\r\n    </g>\r\n    <g id=\"xtick_2\">\r\n     <g id=\"line2d_2\">\r\n      <g>\r\n       <use style=\"stroke:#000000;stroke-width:0.8;\" x=\"298.167188\" xlink:href=\"#mba985495e1\" y=\"224.64\"/>\r\n      </g>\r\n     </g>\r\n     <g id=\"text_2\">\r\n      <!-- 1.0 -->\r\n      <g transform=\"translate(290.215625 239.238438)scale(0.1 -0.1)\">\r\n       <defs>\r\n        <path d=\"M 794 531 \r\nL 1825 531 \r\nL 1825 4091 \r\nL 703 3866 \r\nL 703 4441 \r\nL 1819 4666 \r\nL 2450 4666 \r\nL 2450 531 \r\nL 3481 531 \r\nL 3481 0 \r\nL 794 0 \r\nL 794 531 \r\nz\r\n\" id=\"DejaVuSans-31\" transform=\"scale(0.015625)\"/>\r\n       </defs>\r\n       <use xlink:href=\"#DejaVuSans-31\"/>\r\n       <use x=\"63.623047\" xlink:href=\"#DejaVuSans-2e\"/>\r\n       <use x=\"95.410156\" xlink:href=\"#DejaVuSans-30\"/>\r\n      </g>\r\n     </g>\r\n    </g>\r\n    <g id=\"text_3\">\r\n     <!-- Ppub_st_nat_exam -->\r\n     <g transform=\"translate(167.794531 252.916562)scale(0.1 -0.1)\">\r\n      <defs>\r\n       <path d=\"M 1259 4147 \r\nL 1259 2394 \r\nL 2053 2394 \r\nQ 2494 2394 2734 2622 \r\nQ 2975 2850 2975 3272 \r\nQ 2975 3691 2734 3919 \r\nQ 2494 4147 2053 4147 \r\nL 1259 4147 \r\nz\r\nM 628 4666 \r\nL 2053 4666 \r\nQ 2838 4666 3239 4311 \r\nQ 3641 3956 3641 3272 \r\nQ 3641 2581 3239 2228 \r\nQ 2838 1875 2053 1875 \r\nL 1259 1875 \r\nL 1259 0 \r\nL 628 0 \r\nL 628 4666 \r\nz\r\n\" id=\"DejaVuSans-50\" transform=\"scale(0.015625)\"/>\r\n       <path d=\"M 1159 525 \r\nL 1159 -1331 \r\nL 581 -1331 \r\nL 581 3500 \r\nL 1159 3500 \r\nL 1159 2969 \r\nQ 1341 3281 1617 3432 \r\nQ 1894 3584 2278 3584 \r\nQ 2916 3584 3314 3078 \r\nQ 3713 2572 3713 1747 \r\nQ 3713 922 3314 415 \r\nQ 2916 -91 2278 -91 \r\nQ 1894 -91 1617 61 \r\nQ 1341 213 1159 525 \r\nz\r\nM 3116 1747 \r\nQ 3116 2381 2855 2742 \r\nQ 2594 3103 2138 3103 \r\nQ 1681 3103 1420 2742 \r\nQ 1159 2381 1159 1747 \r\nQ 1159 1113 1420 752 \r\nQ 1681 391 2138 391 \r\nQ 2594 391 2855 752 \r\nQ 3116 1113 3116 1747 \r\nz\r\n\" id=\"DejaVuSans-70\" transform=\"scale(0.015625)\"/>\r\n       <path d=\"M 544 1381 \r\nL 544 3500 \r\nL 1119 3500 \r\nL 1119 1403 \r\nQ 1119 906 1312 657 \r\nQ 1506 409 1894 409 \r\nQ 2359 409 2629 706 \r\nQ 2900 1003 2900 1516 \r\nL 2900 3500 \r\nL 3475 3500 \r\nL 3475 0 \r\nL 2900 0 \r\nL 2900 538 \r\nQ 2691 219 2414 64 \r\nQ 2138 -91 1772 -91 \r\nQ 1169 -91 856 284 \r\nQ 544 659 544 1381 \r\nz\r\nM 1991 3584 \r\nL 1991 3584 \r\nz\r\n\" id=\"DejaVuSans-75\" transform=\"scale(0.015625)\"/>\r\n       <path d=\"M 3116 1747 \r\nQ 3116 2381 2855 2742 \r\nQ 2594 3103 2138 3103 \r\nQ 1681 3103 1420 2742 \r\nQ 1159 2381 1159 1747 \r\nQ 1159 1113 1420 752 \r\nQ 1681 391 2138 391 \r\nQ 2594 391 2855 752 \r\nQ 3116 1113 3116 1747 \r\nz\r\nM 1159 2969 \r\nQ 1341 3281 1617 3432 \r\nQ 1894 3584 2278 3584 \r\nQ 2916 3584 3314 3078 \r\nQ 3713 2572 3713 1747 \r\nQ 3713 922 3314 415 \r\nQ 2916 -91 2278 -91 \r\nQ 1894 -91 1617 61 \r\nQ 1341 213 1159 525 \r\nL 1159 0 \r\nL 581 0 \r\nL 581 4863 \r\nL 1159 4863 \r\nL 1159 2969 \r\nz\r\n\" id=\"DejaVuSans-62\" transform=\"scale(0.015625)\"/>\r\n       <path d=\"M 3263 -1063 \r\nL 3263 -1509 \r\nL -63 -1509 \r\nL -63 -1063 \r\nL 3263 -1063 \r\nz\r\n\" id=\"DejaVuSans-5f\" transform=\"scale(0.015625)\"/>\r\n       <path d=\"M 2834 3397 \r\nL 2834 2853 \r\nQ 2591 2978 2328 3040 \r\nQ 2066 3103 1784 3103 \r\nQ 1356 3103 1142 2972 \r\nQ 928 2841 928 2578 \r\nQ 928 2378 1081 2264 \r\nQ 1234 2150 1697 2047 \r\nL 1894 2003 \r\nQ 2506 1872 2764 1633 \r\nQ 3022 1394 3022 966 \r\nQ 3022 478 2636 193 \r\nQ 2250 -91 1575 -91 \r\nQ 1294 -91 989 -36 \r\nQ 684 19 347 128 \r\nL 347 722 \r\nQ 666 556 975 473 \r\nQ 1284 391 1588 391 \r\nQ 1994 391 2212 530 \r\nQ 2431 669 2431 922 \r\nQ 2431 1156 2273 1281 \r\nQ 2116 1406 1581 1522 \r\nL 1381 1569 \r\nQ 847 1681 609 1914 \r\nQ 372 2147 372 2553 \r\nQ 372 3047 722 3315 \r\nQ 1072 3584 1716 3584 \r\nQ 2034 3584 2315 3537 \r\nQ 2597 3491 2834 3397 \r\nz\r\n\" id=\"DejaVuSans-73\" transform=\"scale(0.015625)\"/>\r\n       <path d=\"M 1172 4494 \r\nL 1172 3500 \r\nL 2356 3500 \r\nL 2356 3053 \r\nL 1172 3053 \r\nL 1172 1153 \r\nQ 1172 725 1289 603 \r\nQ 1406 481 1766 481 \r\nL 2356 481 \r\nL 2356 0 \r\nL 1766 0 \r\nQ 1100 0 847 248 \r\nQ 594 497 594 1153 \r\nL 594 3053 \r\nL 172 3053 \r\nL 172 3500 \r\nL 594 3500 \r\nL 594 4494 \r\nL 1172 4494 \r\nz\r\n\" id=\"DejaVuSans-74\" transform=\"scale(0.015625)\"/>\r\n       <path d=\"M 3513 2113 \r\nL 3513 0 \r\nL 2938 0 \r\nL 2938 2094 \r\nQ 2938 2591 2744 2837 \r\nQ 2550 3084 2163 3084 \r\nQ 1697 3084 1428 2787 \r\nQ 1159 2491 1159 1978 \r\nL 1159 0 \r\nL 581 0 \r\nL 581 3500 \r\nL 1159 3500 \r\nL 1159 2956 \r\nQ 1366 3272 1645 3428 \r\nQ 1925 3584 2291 3584 \r\nQ 2894 3584 3203 3211 \r\nQ 3513 2838 3513 2113 \r\nz\r\n\" id=\"DejaVuSans-6e\" transform=\"scale(0.015625)\"/>\r\n       <path d=\"M 2194 1759 \r\nQ 1497 1759 1228 1600 \r\nQ 959 1441 959 1056 \r\nQ 959 750 1161 570 \r\nQ 1363 391 1709 391 \r\nQ 2188 391 2477 730 \r\nQ 2766 1069 2766 1631 \r\nL 2766 1759 \r\nL 2194 1759 \r\nz\r\nM 3341 1997 \r\nL 3341 0 \r\nL 2766 0 \r\nL 2766 531 \r\nQ 2569 213 2275 61 \r\nQ 1981 -91 1556 -91 \r\nQ 1019 -91 701 211 \r\nQ 384 513 384 1019 \r\nQ 384 1609 779 1909 \r\nQ 1175 2209 1959 2209 \r\nL 2766 2209 \r\nL 2766 2266 \r\nQ 2766 2663 2505 2880 \r\nQ 2244 3097 1772 3097 \r\nQ 1472 3097 1187 3025 \r\nQ 903 2953 641 2809 \r\nL 641 3341 \r\nQ 956 3463 1253 3523 \r\nQ 1550 3584 1831 3584 \r\nQ 2591 3584 2966 3190 \r\nQ 3341 2797 3341 1997 \r\nz\r\n\" id=\"DejaVuSans-61\" transform=\"scale(0.015625)\"/>\r\n       <path d=\"M 3597 1894 \r\nL 3597 1613 \r\nL 953 1613 \r\nQ 991 1019 1311 708 \r\nQ 1631 397 2203 397 \r\nQ 2534 397 2845 478 \r\nQ 3156 559 3463 722 \r\nL 3463 178 \r\nQ 3153 47 2828 -22 \r\nQ 2503 -91 2169 -91 \r\nQ 1331 -91 842 396 \r\nQ 353 884 353 1716 \r\nQ 353 2575 817 3079 \r\nQ 1281 3584 2069 3584 \r\nQ 2775 3584 3186 3129 \r\nQ 3597 2675 3597 1894 \r\nz\r\nM 3022 2063 \r\nQ 3016 2534 2758 2815 \r\nQ 2500 3097 2075 3097 \r\nQ 1594 3097 1305 2825 \r\nQ 1016 2553 972 2059 \r\nL 3022 2063 \r\nz\r\n\" id=\"DejaVuSans-65\" transform=\"scale(0.015625)\"/>\r\n       <path d=\"M 3513 3500 \r\nL 2247 1797 \r\nL 3578 0 \r\nL 2900 0 \r\nL 1881 1375 \r\nL 863 0 \r\nL 184 0 \r\nL 1544 1831 \r\nL 300 3500 \r\nL 978 3500 \r\nL 1906 2253 \r\nL 2834 3500 \r\nL 3513 3500 \r\nz\r\n\" id=\"DejaVuSans-78\" transform=\"scale(0.015625)\"/>\r\n       <path d=\"M 3328 2828 \r\nQ 3544 3216 3844 3400 \r\nQ 4144 3584 4550 3584 \r\nQ 5097 3584 5394 3201 \r\nQ 5691 2819 5691 2113 \r\nL 5691 0 \r\nL 5113 0 \r\nL 5113 2094 \r\nQ 5113 2597 4934 2840 \r\nQ 4756 3084 4391 3084 \r\nQ 3944 3084 3684 2787 \r\nQ 3425 2491 3425 1978 \r\nL 3425 0 \r\nL 2847 0 \r\nL 2847 2094 \r\nQ 2847 2600 2669 2842 \r\nQ 2491 3084 2119 3084 \r\nQ 1678 3084 1418 2786 \r\nQ 1159 2488 1159 1978 \r\nL 1159 0 \r\nL 581 0 \r\nL 581 3500 \r\nL 1159 3500 \r\nL 1159 2956 \r\nQ 1356 3278 1631 3431 \r\nQ 1906 3584 2284 3584 \r\nQ 2666 3584 2933 3390 \r\nQ 3200 3197 3328 2828 \r\nz\r\n\" id=\"DejaVuSans-6d\" transform=\"scale(0.015625)\"/>\r\n      </defs>\r\n      <use xlink:href=\"#DejaVuSans-50\"/>\r\n      <use x=\"60.302734\" xlink:href=\"#DejaVuSans-70\"/>\r\n      <use x=\"123.779297\" xlink:href=\"#DejaVuSans-75\"/>\r\n      <use x=\"187.158203\" xlink:href=\"#DejaVuSans-62\"/>\r\n      <use x=\"250.634766\" xlink:href=\"#DejaVuSans-5f\"/>\r\n      <use x=\"300.634766\" xlink:href=\"#DejaVuSans-73\"/>\r\n      <use x=\"352.734375\" xlink:href=\"#DejaVuSans-74\"/>\r\n      <use x=\"391.943359\" xlink:href=\"#DejaVuSans-5f\"/>\r\n      <use x=\"441.943359\" xlink:href=\"#DejaVuSans-6e\"/>\r\n      <use x=\"505.322266\" xlink:href=\"#DejaVuSans-61\"/>\r\n      <use x=\"566.601562\" xlink:href=\"#DejaVuSans-74\"/>\r\n      <use x=\"605.810547\" xlink:href=\"#DejaVuSans-5f\"/>\r\n      <use x=\"655.810547\" xlink:href=\"#DejaVuSans-65\"/>\r\n      <use x=\"715.583984\" xlink:href=\"#DejaVuSans-78\"/>\r\n      <use x=\"774.763672\" xlink:href=\"#DejaVuSans-61\"/>\r\n      <use x=\"836.042969\" xlink:href=\"#DejaVuSans-6d\"/>\r\n     </g>\r\n    </g>\r\n   </g>\r\n   <g id=\"matplotlib.axis_2\">\r\n    <g id=\"ytick_1\">\r\n     <g id=\"line2d_3\">\r\n      <defs>\r\n       <path d=\"M 0 0 \r\nL -3.5 0 \r\n\" id=\"m794890219f\" style=\"stroke:#000000;stroke-width:0.8;\"/>\r\n      </defs>\r\n      <g>\r\n       <use style=\"stroke:#000000;stroke-width:0.8;\" x=\"47.067188\" xlink:href=\"#m794890219f\" y=\"205.298338\"/>\r\n      </g>\r\n     </g>\r\n     <g id=\"text_4\">\r\n      <!-- 350 -->\r\n      <g transform=\"translate(20.979688 209.097557)scale(0.1 -0.1)\">\r\n       <defs>\r\n        <path d=\"M 2597 2516 \r\nQ 3050 2419 3304 2112 \r\nQ 3559 1806 3559 1356 \r\nQ 3559 666 3084 287 \r\nQ 2609 -91 1734 -91 \r\nQ 1441 -91 1130 -33 \r\nQ 819 25 488 141 \r\nL 488 750 \r\nQ 750 597 1062 519 \r\nQ 1375 441 1716 441 \r\nQ 2309 441 2620 675 \r\nQ 2931 909 2931 1356 \r\nQ 2931 1769 2642 2001 \r\nQ 2353 2234 1838 2234 \r\nL 1294 2234 \r\nL 1294 2753 \r\nL 1863 2753 \r\nQ 2328 2753 2575 2939 \r\nQ 2822 3125 2822 3475 \r\nQ 2822 3834 2567 4026 \r\nQ 2313 4219 1838 4219 \r\nQ 1578 4219 1281 4162 \r\nQ 984 4106 628 3988 \r\nL 628 4550 \r\nQ 988 4650 1302 4700 \r\nQ 1616 4750 1894 4750 \r\nQ 2613 4750 3031 4423 \r\nQ 3450 4097 3450 3541 \r\nQ 3450 3153 3228 2886 \r\nQ 3006 2619 2597 2516 \r\nz\r\n\" id=\"DejaVuSans-33\" transform=\"scale(0.015625)\"/>\r\n        <path d=\"M 691 4666 \r\nL 3169 4666 \r\nL 3169 4134 \r\nL 1269 4134 \r\nL 1269 2991 \r\nQ 1406 3038 1543 3061 \r\nQ 1681 3084 1819 3084 \r\nQ 2600 3084 3056 2656 \r\nQ 3513 2228 3513 1497 \r\nQ 3513 744 3044 326 \r\nQ 2575 -91 1722 -91 \r\nQ 1428 -91 1123 -41 \r\nQ 819 9 494 109 \r\nL 494 744 \r\nQ 775 591 1075 516 \r\nQ 1375 441 1709 441 \r\nQ 2250 441 2565 725 \r\nQ 2881 1009 2881 1497 \r\nQ 2881 1984 2565 2268 \r\nQ 2250 2553 1709 2553 \r\nQ 1456 2553 1204 2497 \r\nQ 953 2441 691 2322 \r\nL 691 4666 \r\nz\r\n\" id=\"DejaVuSans-35\" transform=\"scale(0.015625)\"/>\r\n       </defs>\r\n       <use xlink:href=\"#DejaVuSans-33\"/>\r\n       <use x=\"63.623047\" xlink:href=\"#DejaVuSans-35\"/>\r\n       <use x=\"127.246094\" xlink:href=\"#DejaVuSans-30\"/>\r\n      </g>\r\n     </g>\r\n    </g>\r\n    <g id=\"ytick_2\">\r\n     <g id=\"line2d_4\">\r\n      <g>\r\n       <use style=\"stroke:#000000;stroke-width:0.8;\" x=\"47.067188\" xlink:href=\"#m794890219f\" y=\"158.008212\"/>\r\n      </g>\r\n     </g>\r\n     <g id=\"text_5\">\r\n      <!-- 400 -->\r\n      <g transform=\"translate(20.979688 161.807431)scale(0.1 -0.1)\">\r\n       <defs>\r\n        <path d=\"M 2419 4116 \r\nL 825 1625 \r\nL 2419 1625 \r\nL 2419 4116 \r\nz\r\nM 2253 4666 \r\nL 3047 4666 \r\nL 3047 1625 \r\nL 3713 1625 \r\nL 3713 1100 \r\nL 3047 1100 \r\nL 3047 0 \r\nL 2419 0 \r\nL 2419 1100 \r\nL 313 1100 \r\nL 313 1709 \r\nL 2253 4666 \r\nz\r\n\" id=\"DejaVuSans-34\" transform=\"scale(0.015625)\"/>\r\n       </defs>\r\n       <use xlink:href=\"#DejaVuSans-34\"/>\r\n       <use x=\"63.623047\" xlink:href=\"#DejaVuSans-30\"/>\r\n       <use x=\"127.246094\" xlink:href=\"#DejaVuSans-30\"/>\r\n      </g>\r\n     </g>\r\n    </g>\r\n    <g id=\"ytick_3\">\r\n     <g id=\"line2d_5\">\r\n      <g>\r\n       <use style=\"stroke:#000000;stroke-width:0.8;\" x=\"47.067188\" xlink:href=\"#m794890219f\" y=\"110.718086\"/>\r\n      </g>\r\n     </g>\r\n     <g id=\"text_6\">\r\n      <!-- 450 -->\r\n      <g transform=\"translate(20.979688 114.517305)scale(0.1 -0.1)\">\r\n       <use xlink:href=\"#DejaVuSans-34\"/>\r\n       <use x=\"63.623047\" xlink:href=\"#DejaVuSans-35\"/>\r\n       <use x=\"127.246094\" xlink:href=\"#DejaVuSans-30\"/>\r\n      </g>\r\n     </g>\r\n    </g>\r\n    <g id=\"ytick_4\">\r\n     <g id=\"line2d_6\">\r\n      <g>\r\n       <use style=\"stroke:#000000;stroke-width:0.8;\" x=\"47.067188\" xlink:href=\"#m794890219f\" y=\"63.42796\"/>\r\n      </g>\r\n     </g>\r\n     <g id=\"text_7\">\r\n      <!-- 500 -->\r\n      <g transform=\"translate(20.979688 67.227179)scale(0.1 -0.1)\">\r\n       <use xlink:href=\"#DejaVuSans-35\"/>\r\n       <use x=\"63.623047\" xlink:href=\"#DejaVuSans-30\"/>\r\n       <use x=\"127.246094\" xlink:href=\"#DejaVuSans-30\"/>\r\n      </g>\r\n     </g>\r\n    </g>\r\n    <g id=\"ytick_5\">\r\n     <g id=\"line2d_7\">\r\n      <g>\r\n       <use style=\"stroke:#000000;stroke-width:0.8;\" x=\"47.067188\" xlink:href=\"#m794890219f\" y=\"16.137834\"/>\r\n      </g>\r\n     </g>\r\n     <g id=\"text_8\">\r\n      <!-- 550 -->\r\n      <g transform=\"translate(20.979688 19.937053)scale(0.1 -0.1)\">\r\n       <use xlink:href=\"#DejaVuSans-35\"/>\r\n       <use x=\"63.623047\" xlink:href=\"#DejaVuSans-35\"/>\r\n       <use x=\"127.246094\" xlink:href=\"#DejaVuSans-30\"/>\r\n      </g>\r\n     </g>\r\n    </g>\r\n    <g id=\"text_9\">\r\n     <!-- READING_AVG -->\r\n     <g transform=\"translate(14.621875 151.809844)rotate(-90)scale(0.1 -0.1)\">\r\n      <defs>\r\n       <path d=\"M 2841 2188 \r\nQ 3044 2119 3236 1894 \r\nQ 3428 1669 3622 1275 \r\nL 4263 0 \r\nL 3584 0 \r\nL 2988 1197 \r\nQ 2756 1666 2539 1819 \r\nQ 2322 1972 1947 1972 \r\nL 1259 1972 \r\nL 1259 0 \r\nL 628 0 \r\nL 628 4666 \r\nL 2053 4666 \r\nQ 2853 4666 3247 4331 \r\nQ 3641 3997 3641 3322 \r\nQ 3641 2881 3436 2590 \r\nQ 3231 2300 2841 2188 \r\nz\r\nM 1259 4147 \r\nL 1259 2491 \r\nL 2053 2491 \r\nQ 2509 2491 2742 2702 \r\nQ 2975 2913 2975 3322 \r\nQ 2975 3731 2742 3939 \r\nQ 2509 4147 2053 4147 \r\nL 1259 4147 \r\nz\r\n\" id=\"DejaVuSans-52\" transform=\"scale(0.015625)\"/>\r\n       <path d=\"M 628 4666 \r\nL 3578 4666 \r\nL 3578 4134 \r\nL 1259 4134 \r\nL 1259 2753 \r\nL 3481 2753 \r\nL 3481 2222 \r\nL 1259 2222 \r\nL 1259 531 \r\nL 3634 531 \r\nL 3634 0 \r\nL 628 0 \r\nL 628 4666 \r\nz\r\n\" id=\"DejaVuSans-45\" transform=\"scale(0.015625)\"/>\r\n       <path d=\"M 2188 4044 \r\nL 1331 1722 \r\nL 3047 1722 \r\nL 2188 4044 \r\nz\r\nM 1831 4666 \r\nL 2547 4666 \r\nL 4325 0 \r\nL 3669 0 \r\nL 3244 1197 \r\nL 1141 1197 \r\nL 716 0 \r\nL 50 0 \r\nL 1831 4666 \r\nz\r\n\" id=\"DejaVuSans-41\" transform=\"scale(0.015625)\"/>\r\n       <path d=\"M 1259 4147 \r\nL 1259 519 \r\nL 2022 519 \r\nQ 2988 519 3436 956 \r\nQ 3884 1394 3884 2338 \r\nQ 3884 3275 3436 3711 \r\nQ 2988 4147 2022 4147 \r\nL 1259 4147 \r\nz\r\nM 628 4666 \r\nL 1925 4666 \r\nQ 3281 4666 3915 4102 \r\nQ 4550 3538 4550 2338 \r\nQ 4550 1131 3912 565 \r\nQ 3275 0 1925 0 \r\nL 628 0 \r\nL 628 4666 \r\nz\r\n\" id=\"DejaVuSans-44\" transform=\"scale(0.015625)\"/>\r\n       <path d=\"M 628 4666 \r\nL 1259 4666 \r\nL 1259 0 \r\nL 628 0 \r\nL 628 4666 \r\nz\r\n\" id=\"DejaVuSans-49\" transform=\"scale(0.015625)\"/>\r\n       <path d=\"M 628 4666 \r\nL 1478 4666 \r\nL 3547 763 \r\nL 3547 4666 \r\nL 4159 4666 \r\nL 4159 0 \r\nL 3309 0 \r\nL 1241 3903 \r\nL 1241 0 \r\nL 628 0 \r\nL 628 4666 \r\nz\r\n\" id=\"DejaVuSans-4e\" transform=\"scale(0.015625)\"/>\r\n       <path d=\"M 3809 666 \r\nL 3809 1919 \r\nL 2778 1919 \r\nL 2778 2438 \r\nL 4434 2438 \r\nL 4434 434 \r\nQ 4069 175 3628 42 \r\nQ 3188 -91 2688 -91 \r\nQ 1594 -91 976 548 \r\nQ 359 1188 359 2328 \r\nQ 359 3472 976 4111 \r\nQ 1594 4750 2688 4750 \r\nQ 3144 4750 3555 4637 \r\nQ 3966 4525 4313 4306 \r\nL 4313 3634 \r\nQ 3963 3931 3569 4081 \r\nQ 3175 4231 2741 4231 \r\nQ 1884 4231 1454 3753 \r\nQ 1025 3275 1025 2328 \r\nQ 1025 1384 1454 906 \r\nQ 1884 428 2741 428 \r\nQ 3075 428 3337 486 \r\nQ 3600 544 3809 666 \r\nz\r\n\" id=\"DejaVuSans-47\" transform=\"scale(0.015625)\"/>\r\n       <path d=\"M 1831 0 \r\nL 50 4666 \r\nL 709 4666 \r\nL 2188 738 \r\nL 3669 4666 \r\nL 4325 4666 \r\nL 2547 0 \r\nL 1831 0 \r\nz\r\n\" id=\"DejaVuSans-56\" transform=\"scale(0.015625)\"/>\r\n      </defs>\r\n      <use xlink:href=\"#DejaVuSans-52\"/>\r\n      <use x=\"69.482422\" xlink:href=\"#DejaVuSans-45\"/>\r\n      <use x=\"132.666016\" xlink:href=\"#DejaVuSans-41\"/>\r\n      <use x=\"201.074219\" xlink:href=\"#DejaVuSans-44\"/>\r\n      <use x=\"278.076172\" xlink:href=\"#DejaVuSans-49\"/>\r\n      <use x=\"307.568359\" xlink:href=\"#DejaVuSans-4e\"/>\r\n      <use x=\"382.373047\" xlink:href=\"#DejaVuSans-47\"/>\r\n      <use x=\"459.863281\" xlink:href=\"#DejaVuSans-5f\"/>\r\n      <use x=\"509.863281\" xlink:href=\"#DejaVuSans-41\"/>\r\n      <use x=\"571.896484\" xlink:href=\"#DejaVuSans-56\"/>\r\n      <use x=\"640.304688\" xlink:href=\"#DejaVuSans-47\"/>\r\n     </g>\r\n    </g>\r\n   </g>\r\n   <g id=\"line2d_8\">\r\n    <path clip-path=\"url(#pea11558ab2)\" d=\"M 130.767188 104.80682 \r\nL 130.767188 164.62883 \r\n\" style=\"fill:none;stroke:#3f3f3f;stroke-linecap:square;stroke-width:1.5;\"/>\r\n   </g>\r\n   <g id=\"line2d_9\">\r\n    <path clip-path=\"url(#pea11558ab2)\" d=\"M 130.767188 56.334441 \r\nL 130.767188 39.782897 \r\n\" style=\"fill:none;stroke:#3f3f3f;stroke-linecap:square;stroke-width:1.5;\"/>\r\n   </g>\r\n   <g id=\"line2d_10\">\r\n    <path clip-path=\"url(#pea11558ab2)\" d=\"M 97.287188 164.62883 \r\nL 164.247187 164.62883 \r\n\" style=\"fill:none;stroke:#3f3f3f;stroke-linecap:square;stroke-width:1.5;\"/>\r\n   </g>\r\n   <g id=\"line2d_11\">\r\n    <path clip-path=\"url(#pea11558ab2)\" d=\"M 97.287188 39.782897 \r\nL 164.247187 39.782897 \r\n\" style=\"fill:none;stroke:#3f3f3f;stroke-linecap:square;stroke-width:1.5;\"/>\r\n   </g>\r\n   <g id=\"line2d_12\">\r\n    <defs>\r\n     <path d=\"M 0 3.535534 \r\nL 2.12132 0 \r\nL 0 -3.535534 \r\nL -2.12132 0 \r\nz\r\n\" id=\"m847b035c6d\" style=\"stroke:#3f3f3f;stroke-linejoin:miter;\"/>\r\n    </defs>\r\n    <g clip-path=\"url(#pea11558ab2)\">\r\n     <use style=\"fill:#3f3f3f;stroke:#3f3f3f;stroke-linejoin:miter;\" x=\"130.767188\" xlink:href=\"#m847b035c6d\" y=\"179.76167\"/>\r\n     <use style=\"fill:#3f3f3f;stroke:#3f3f3f;stroke-linejoin:miter;\" x=\"130.767188\" xlink:href=\"#m847b035c6d\" y=\"214.756364\"/>\r\n    </g>\r\n   </g>\r\n   <g id=\"line2d_13\">\r\n    <path clip-path=\"url(#pea11558ab2)\" d=\"M 298.167188 157.06241 \r\nL 298.167188 202.460931 \r\n\" style=\"fill:none;stroke:#3f3f3f;stroke-linecap:square;stroke-width:1.5;\"/>\r\n   </g>\r\n   <g id=\"line2d_14\">\r\n    <path clip-path=\"url(#pea11558ab2)\" d=\"M 298.167188 108.826481 \r\nL 298.167188 62.482157 \r\n\" style=\"fill:none;stroke:#3f3f3f;stroke-linecap:square;stroke-width:1.5;\"/>\r\n   </g>\r\n   <g id=\"line2d_15\">\r\n    <path clip-path=\"url(#pea11558ab2)\" d=\"M 264.687188 202.460931 \r\nL 331.647187 202.460931 \r\n\" style=\"fill:none;stroke:#3f3f3f;stroke-linecap:square;stroke-width:1.5;\"/>\r\n   </g>\r\n   <g id=\"line2d_16\">\r\n    <path clip-path=\"url(#pea11558ab2)\" d=\"M 264.687188 62.482157 \r\nL 331.647187 62.482157 \r\n\" style=\"fill:none;stroke:#3f3f3f;stroke-linecap:square;stroke-width:1.5;\"/>\r\n   </g>\r\n   <g id=\"line2d_17\">\r\n    <g clip-path=\"url(#pea11558ab2)\">\r\n     <use style=\"fill:#3f3f3f;stroke:#3f3f3f;stroke-linejoin:miter;\" x=\"298.167188\" xlink:href=\"#m847b035c6d\" y=\"17.083636\"/>\r\n    </g>\r\n   </g>\r\n   <g id=\"line2d_18\">\r\n    <path clip-path=\"url(#pea11558ab2)\" d=\"M 63.807187 75.723393 \r\nL 197.727188 75.723393 \r\n\" style=\"fill:none;stroke:#3f3f3f;stroke-linecap:square;stroke-width:1.5;\"/>\r\n   </g>\r\n   <g id=\"line2d_19\">\r\n    <path clip-path=\"url(#pea11558ab2)\" d=\"M 231.207188 135.308952 \r\nL 365.127187 135.308952 \r\n\" style=\"fill:none;stroke:#3f3f3f;stroke-linecap:square;stroke-width:1.5;\"/>\r\n   </g>\r\n   <g id=\"patch_5\">\r\n    <path d=\"M 47.067188 224.64 \r\nL 47.067188 7.2 \r\n\" style=\"fill:none;stroke:#000000;stroke-linecap:square;stroke-linejoin:miter;stroke-width:0.8;\"/>\r\n   </g>\r\n   <g id=\"patch_6\">\r\n    <path d=\"M 381.867188 224.64 \r\nL 381.867188 7.2 \r\n\" style=\"fill:none;stroke:#000000;stroke-linecap:square;stroke-linejoin:miter;stroke-width:0.8;\"/>\r\n   </g>\r\n   <g id=\"patch_7\">\r\n    <path d=\"M 47.067188 224.64 \r\nL 381.867188 224.64 \r\n\" style=\"fill:none;stroke:#000000;stroke-linecap:square;stroke-linejoin:miter;stroke-width:0.8;\"/>\r\n   </g>\r\n   <g id=\"patch_8\">\r\n    <path d=\"M 47.067188 7.2 \r\nL 381.867188 7.2 \r\n\" style=\"fill:none;stroke:#000000;stroke-linecap:square;stroke-linejoin:miter;stroke-width:0.8;\"/>\r\n   </g>\r\n  </g>\r\n </g>\r\n <defs>\r\n  <clipPath id=\"pea11558ab2\">\r\n   <rect height=\"217.44\" width=\"334.8\" x=\"47.067188\" y=\"7.2\"/>\r\n  </clipPath>\r\n </defs>\r\n</svg>\r\n",
      "image/png": "[encoded data removed]"
     },
     "metadata": {
      "needs_background": "light"
     }
    }
   ],
   "source": [
    "#swap x values with nat_exam list listed above\n",
    "\n",
    "sns.boxplot(x =  'Ppub_st_nat_exam', y='READING_AVG', data=df)"
   ]
  },
  {
   "source": [
    "**Presence of gov't req'd national assessment could lead to lower PISA scores, moderately (except homeschool)**"
   ],
   "cell_type": "markdown",
   "metadata": {}
  },
  {
   "cell_type": "code",
   "execution_count": 18,
   "metadata": {},
   "outputs": [
    {
     "output_type": "execute_result",
     "data": {
      "text/plain": [
       "                         READING_AVG  MATH_AVG  SCIENCE_AVG  \\\n",
       "READING_AVG                 1.000000  0.948769     0.977092   \n",
       "MATH_AVG                    0.948769  1.000000     0.973806   \n",
       "SCIENCE_AVG                 0.977092  0.973806     1.000000   \n",
       "Ppub_st_nat_assess         -0.302961 -0.272566    -0.319122   \n",
       "Pgovt_priv_nat_assess      -0.471833 -0.428075    -0.486374   \n",
       "Pindpt_priv_nat_assess     -0.419173 -0.394386    -0.372591   \n",
       "Phs_nat_assess              0.092032  0.177372     0.119771   \n",
       "LSPpub_st_nat_assess       -0.324121 -0.299095    -0.329893   \n",
       "LSgovt_priv_nat_assess     -0.525058 -0.470980    -0.524267   \n",
       "LSindpt_priv_nat_assess    -0.436135 -0.403234    -0.385167   \n",
       "LShs_nat_assess             0.081507  0.125364     0.046762   \n",
       "\n",
       "                         Ppub_st_nat_assess  Pgovt_priv_nat_assess  \\\n",
       "READING_AVG                       -0.302961              -0.471833   \n",
       "MATH_AVG                          -0.272566              -0.428075   \n",
       "SCIENCE_AVG                       -0.319122              -0.486374   \n",
       "Ppub_st_nat_assess                 1.000000               0.928032   \n",
       "Pgovt_priv_nat_assess              0.928032               1.000000   \n",
       "Pindpt_priv_nat_assess             0.592593               0.703211   \n",
       "Phs_nat_assess                     0.236814               0.353553   \n",
       "LSPpub_st_nat_assess               0.827874               0.923381   \n",
       "LSgovt_priv_nat_assess             0.866025               1.000000   \n",
       "LSindpt_priv_nat_assess            0.480196               0.703211   \n",
       "LShs_nat_assess                    0.353553               0.346410   \n",
       "\n",
       "                         Pindpt_priv_nat_assess  Phs_nat_assess  \\\n",
       "READING_AVG                           -0.419173        0.092032   \n",
       "MATH_AVG                              -0.394386        0.177372   \n",
       "SCIENCE_AVG                           -0.372591        0.119771   \n",
       "Ppub_st_nat_assess                     0.592593        0.236814   \n",
       "Pgovt_priv_nat_assess                  0.703211        0.353553   \n",
       "Pindpt_priv_nat_assess                 1.000000        0.182323   \n",
       "Phs_nat_assess                         0.182323        1.000000   \n",
       "LSPpub_st_nat_assess                   0.546999        0.035007   \n",
       "LSgovt_priv_nat_assess                 0.712525        0.366900   \n",
       "LSindpt_priv_nat_assess                0.897500        0.050508   \n",
       "LShs_nat_assess                        0.344051        0.636396   \n",
       "\n",
       "                         LSPpub_st_nat_assess  LSgovt_priv_nat_assess  \\\n",
       "READING_AVG                         -0.324121               -0.525058   \n",
       "MATH_AVG                            -0.299095               -0.470980   \n",
       "SCIENCE_AVG                         -0.329893               -0.524267   \n",
       "Ppub_st_nat_assess                   0.827874                0.866025   \n",
       "Pgovt_priv_nat_assess                0.923381                1.000000   \n",
       "Pindpt_priv_nat_assess               0.546999                0.712525   \n",
       "Phs_nat_assess                       0.035007                0.366900   \n",
       "LSPpub_st_nat_assess                 1.000000                0.935144   \n",
       "LSgovt_priv_nat_assess               0.935144                1.000000   \n",
       "LSindpt_priv_nat_assess              0.646886                0.714286   \n",
       "LShs_nat_assess                      0.484123                0.356753   \n",
       "\n",
       "                         LSindpt_priv_nat_assess  LShs_nat_assess  \n",
       "READING_AVG                            -0.436135         0.081507  \n",
       "MATH_AVG                               -0.403234         0.125364  \n",
       "SCIENCE_AVG                            -0.385167         0.046762  \n",
       "Ppub_st_nat_assess                      0.480196         0.353553  \n",
       "Pgovt_priv_nat_assess                   0.703211         0.346410  \n",
       "Pindpt_priv_nat_assess                  0.897500         0.344051  \n",
       "Phs_nat_assess                          0.050508         0.636396  \n",
       "LSPpub_st_nat_assess                    0.646886         0.484123  \n",
       "LSgovt_priv_nat_assess                  0.714286         0.356753  \n",
       "LSindpt_priv_nat_assess                 1.000000         0.408491  \n",
       "LShs_nat_assess                         0.408491         1.000000  "
      ],
      "text/html": "<div>\n<style scoped>\n    .dataframe tbody tr th:only-of-type {\n        vertical-align: middle;\n    }\n\n    .dataframe tbody tr th {\n        vertical-align: top;\n    }\n\n    .dataframe thead th {\n        text-align: right;\n    }\n</style>\n<table border=\"1\" class=\"dataframe\">\n  <thead>\n    <tr style=\"text-align: right;\">\n      <th></th>\n      <th>READING_AVG</th>\n      <th>MATH_AVG</th>\n      <th>SCIENCE_AVG</th>\n      <th>Ppub_st_nat_assess</th>\n      <th>Pgovt_priv_nat_assess</th>\n      <th>Pindpt_priv_nat_assess</th>\n      <th>Phs_nat_assess</th>\n      <th>LSPpub_st_nat_assess</th>\n      <th>LSgovt_priv_nat_assess</th>\n      <th>LSindpt_priv_nat_assess</th>\n      <th>LShs_nat_assess</th>\n    </tr>\n  </thead>\n  <tbody>\n    <tr>\n      <th>READING_AVG</th>\n      <td>1.000000</td>\n      <td>0.948769</td>\n      <td>0.977092</td>\n      <td>-0.302961</td>\n      <td>-0.471833</td>\n      <td>-0.419173</td>\n      <td>0.092032</td>\n      <td>-0.324121</td>\n      <td>-0.525058</td>\n      <td>-0.436135</td>\n      <td>0.081507</td>\n    </tr>\n    <tr>\n      <th>MATH_AVG</th>\n      <td>0.948769</td>\n      <td>1.000000</td>\n      <td>0.973806</td>\n      <td>-0.272566</td>\n      <td>-0.428075</td>\n      <td>-0.394386</td>\n      <td>0.177372</td>\n      <td>-0.299095</td>\n      <td>-0.470980</td>\n      <td>-0.403234</td>\n      <td>0.125364</td>\n    </tr>\n    <tr>\n      <th>SCIENCE_AVG</th>\n      <td>0.977092</td>\n      <td>0.973806</td>\n      <td>1.000000</td>\n      <td>-0.319122</td>\n      <td>-0.486374</td>\n      <td>-0.372591</td>\n      <td>0.119771</td>\n      <td>-0.329893</td>\n      <td>-0.524267</td>\n      <td>-0.385167</td>\n      <td>0.046762</td>\n    </tr>\n    <tr>\n      <th>Ppub_st_nat_assess</th>\n      <td>-0.302961</td>\n      <td>-0.272566</td>\n      <td>-0.319122</td>\n      <td>1.000000</td>\n      <td>0.928032</td>\n      <td>0.592593</td>\n      <td>0.236814</td>\n      <td>0.827874</td>\n      <td>0.866025</td>\n      <td>0.480196</td>\n      <td>0.353553</td>\n    </tr>\n    <tr>\n      <th>Pgovt_priv_nat_assess</th>\n      <td>-0.471833</td>\n      <td>-0.428075</td>\n      <td>-0.486374</td>\n      <td>0.928032</td>\n      <td>1.000000</td>\n      <td>0.703211</td>\n      <td>0.353553</td>\n      <td>0.923381</td>\n      <td>1.000000</td>\n      <td>0.703211</td>\n      <td>0.346410</td>\n    </tr>\n    <tr>\n      <th>Pindpt_priv_nat_assess</th>\n      <td>-0.419173</td>\n      <td>-0.394386</td>\n      <td>-0.372591</td>\n      <td>0.592593</td>\n      <td>0.703211</td>\n      <td>1.000000</td>\n      <td>0.182323</td>\n      <td>0.546999</td>\n      <td>0.712525</td>\n      <td>0.897500</td>\n      <td>0.344051</td>\n    </tr>\n    <tr>\n      <th>Phs_nat_assess</th>\n      <td>0.092032</td>\n      <td>0.177372</td>\n      <td>0.119771</td>\n      <td>0.236814</td>\n      <td>0.353553</td>\n      <td>0.182323</td>\n      <td>1.000000</td>\n      <td>0.035007</td>\n      <td>0.366900</td>\n      <td>0.050508</td>\n      <td>0.636396</td>\n    </tr>\n    <tr>\n      <th>LSPpub_st_nat_assess</th>\n      <td>-0.324121</td>\n      <td>-0.299095</td>\n      <td>-0.329893</td>\n      <td>0.827874</td>\n      <td>0.923381</td>\n      <td>0.546999</td>\n      <td>0.035007</td>\n      <td>1.000000</td>\n      <td>0.935144</td>\n      <td>0.646886</td>\n      <td>0.484123</td>\n    </tr>\n    <tr>\n      <th>LSgovt_priv_nat_assess</th>\n      <td>-0.525058</td>\n      <td>-0.470980</td>\n      <td>-0.524267</td>\n      <td>0.866025</td>\n      <td>1.000000</td>\n      <td>0.712525</td>\n      <td>0.366900</td>\n      <td>0.935144</td>\n      <td>1.000000</td>\n      <td>0.714286</td>\n      <td>0.356753</td>\n    </tr>\n    <tr>\n      <th>LSindpt_priv_nat_assess</th>\n      <td>-0.436135</td>\n      <td>-0.403234</td>\n      <td>-0.385167</td>\n      <td>0.480196</td>\n      <td>0.703211</td>\n      <td>0.897500</td>\n      <td>0.050508</td>\n      <td>0.646886</td>\n      <td>0.714286</td>\n      <td>1.000000</td>\n      <td>0.408491</td>\n    </tr>\n    <tr>\n      <th>LShs_nat_assess</th>\n      <td>0.081507</td>\n      <td>0.125364</td>\n      <td>0.046762</td>\n      <td>0.353553</td>\n      <td>0.346410</td>\n      <td>0.344051</td>\n      <td>0.636396</td>\n      <td>0.484123</td>\n      <td>0.356753</td>\n      <td>0.408491</td>\n      <td>1.000000</td>\n    </tr>\n  </tbody>\n</table>\n</div>"
     },
     "metadata": {},
     "execution_count": 18
    }
   ],
   "source": [
    "df_natassess = df[govt_regulations_nat_assess]\n",
    "\n",
    "df_natassess.corr()"
   ]
  },
  {
   "source": [
    "**Presence of a ta had a low/moderate impact on PISA performance 0.37 < corr <.47**\n",
    "\n"
   ],
   "cell_type": "markdown",
   "metadata": {}
  },
  {
   "cell_type": "code",
   "execution_count": 19,
   "metadata": {},
   "outputs": [
    {
     "output_type": "execute_result",
     "data": {
      "text/plain": [
       "             READING_AVG  MATH_AVG  SCIENCE_AVG      P_ta     LS_ta     US_ta\n",
       "READING_AVG     1.000000  0.948769     0.977092  0.374581  0.428113  0.386949\n",
       "MATH_AVG        0.948769  1.000000     0.973806  0.387604  0.470210  0.456186\n",
       "SCIENCE_AVG     0.977092  0.973806     1.000000  0.382558  0.451999  0.433225\n",
       "P_ta            0.374581  0.387604     0.382558  1.000000  0.792703  0.664121\n",
       "LS_ta           0.428113  0.470210     0.451999  0.792703  1.000000  0.837793\n",
       "US_ta           0.386949  0.456186     0.433225  0.664121  0.837793  1.000000"
      ],
      "text/html": "<div>\n<style scoped>\n    .dataframe tbody tr th:only-of-type {\n        vertical-align: middle;\n    }\n\n    .dataframe tbody tr th {\n        vertical-align: top;\n    }\n\n    .dataframe thead th {\n        text-align: right;\n    }\n</style>\n<table border=\"1\" class=\"dataframe\">\n  <thead>\n    <tr style=\"text-align: right;\">\n      <th></th>\n      <th>READING_AVG</th>\n      <th>MATH_AVG</th>\n      <th>SCIENCE_AVG</th>\n      <th>P_ta</th>\n      <th>LS_ta</th>\n      <th>US_ta</th>\n    </tr>\n  </thead>\n  <tbody>\n    <tr>\n      <th>READING_AVG</th>\n      <td>1.000000</td>\n      <td>0.948769</td>\n      <td>0.977092</td>\n      <td>0.374581</td>\n      <td>0.428113</td>\n      <td>0.386949</td>\n    </tr>\n    <tr>\n      <th>MATH_AVG</th>\n      <td>0.948769</td>\n      <td>1.000000</td>\n      <td>0.973806</td>\n      <td>0.387604</td>\n      <td>0.470210</td>\n      <td>0.456186</td>\n    </tr>\n    <tr>\n      <th>SCIENCE_AVG</th>\n      <td>0.977092</td>\n      <td>0.973806</td>\n      <td>1.000000</td>\n      <td>0.382558</td>\n      <td>0.451999</td>\n      <td>0.433225</td>\n    </tr>\n    <tr>\n      <th>P_ta</th>\n      <td>0.374581</td>\n      <td>0.387604</td>\n      <td>0.382558</td>\n      <td>1.000000</td>\n      <td>0.792703</td>\n      <td>0.664121</td>\n    </tr>\n    <tr>\n      <th>LS_ta</th>\n      <td>0.428113</td>\n      <td>0.470210</td>\n      <td>0.451999</td>\n      <td>0.792703</td>\n      <td>1.000000</td>\n      <td>0.837793</td>\n    </tr>\n    <tr>\n      <th>US_ta</th>\n      <td>0.386949</td>\n      <td>0.456186</td>\n      <td>0.433225</td>\n      <td>0.664121</td>\n      <td>0.837793</td>\n      <td>1.000000</td>\n    </tr>\n  </tbody>\n</table>\n</div>"
     },
     "metadata": {},
     "execution_count": 19
    }
   ],
   "source": [
    "df_ta = df[support_staff_ta]\n",
    "\n",
    "df_ta.corr()"
   ]
  },
  {
   "source": [
    "**The presence of a security guard had a slight negative impacy -.24 < corr <-0..34**"
   ],
   "cell_type": "markdown",
   "metadata": {}
  },
  {
   "cell_type": "code",
   "execution_count": 20,
   "metadata": {},
   "outputs": [
    {
     "output_type": "execute_result",
     "data": {
      "text/plain": [
       "             READING_AVG  MATH_AVG  SCIENCE_AVG   P_guard  LS_guard  US_guard\n",
       "READING_AVG     1.000000  0.948769     0.977092 -0.308475 -0.342071 -0.342071\n",
       "MATH_AVG        0.948769  1.000000     0.973806 -0.249275 -0.279289 -0.279289\n",
       "SCIENCE_AVG     0.977092  0.973806     1.000000 -0.259639 -0.292834 -0.292834\n",
       "P_guard        -0.308475 -0.249275    -0.259639  1.000000  0.927249  0.927249\n",
       "LS_guard       -0.342071 -0.279289    -0.292834  0.927249  1.000000  1.000000\n",
       "US_guard       -0.342071 -0.279289    -0.292834  0.927249  1.000000  1.000000"
      ],
      "text/html": "<div>\n<style scoped>\n    .dataframe tbody tr th:only-of-type {\n        vertical-align: middle;\n    }\n\n    .dataframe tbody tr th {\n        vertical-align: top;\n    }\n\n    .dataframe thead th {\n        text-align: right;\n    }\n</style>\n<table border=\"1\" class=\"dataframe\">\n  <thead>\n    <tr style=\"text-align: right;\">\n      <th></th>\n      <th>READING_AVG</th>\n      <th>MATH_AVG</th>\n      <th>SCIENCE_AVG</th>\n      <th>P_guard</th>\n      <th>LS_guard</th>\n      <th>US_guard</th>\n    </tr>\n  </thead>\n  <tbody>\n    <tr>\n      <th>READING_AVG</th>\n      <td>1.000000</td>\n      <td>0.948769</td>\n      <td>0.977092</td>\n      <td>-0.308475</td>\n      <td>-0.342071</td>\n      <td>-0.342071</td>\n    </tr>\n    <tr>\n      <th>MATH_AVG</th>\n      <td>0.948769</td>\n      <td>1.000000</td>\n      <td>0.973806</td>\n      <td>-0.249275</td>\n      <td>-0.279289</td>\n      <td>-0.279289</td>\n    </tr>\n    <tr>\n      <th>SCIENCE_AVG</th>\n      <td>0.977092</td>\n      <td>0.973806</td>\n      <td>1.000000</td>\n      <td>-0.259639</td>\n      <td>-0.292834</td>\n      <td>-0.292834</td>\n    </tr>\n    <tr>\n      <th>P_guard</th>\n      <td>-0.308475</td>\n      <td>-0.249275</td>\n      <td>-0.259639</td>\n      <td>1.000000</td>\n      <td>0.927249</td>\n      <td>0.927249</td>\n    </tr>\n    <tr>\n      <th>LS_guard</th>\n      <td>-0.342071</td>\n      <td>-0.279289</td>\n      <td>-0.292834</td>\n      <td>0.927249</td>\n      <td>1.000000</td>\n      <td>1.000000</td>\n    </tr>\n    <tr>\n      <th>US_guard</th>\n      <td>-0.342071</td>\n      <td>-0.279289</td>\n      <td>-0.292834</td>\n      <td>0.927249</td>\n      <td>1.000000</td>\n      <td>1.000000</td>\n    </tr>\n  </tbody>\n</table>\n</div>"
     },
     "metadata": {},
     "execution_count": 20
    }
   ],
   "source": [
    "df_guard = df[support_staff_guard]\n",
    "\n",
    "df_guard.corr()"
   ]
  },
  {
   "source": [
    "** Longer instructional hours per year had a small negative correlation on Math PISA scores (not as strong in reading/science)**"
   ],
   "cell_type": "markdown",
   "metadata": {}
  },
  {
   "cell_type": "code",
   "execution_count": 21,
   "metadata": {},
   "outputs": [
    {
     "output_type": "execute_result",
     "data": {
      "text/plain": [
       "             READING_AVG  MATH_AVG  SCIENCE_AVG    LS_hrs    US_hrs\n",
       "READING_AVG     1.000000  0.948769     0.977092 -0.165075 -0.189891\n",
       "MATH_AVG        0.948769  1.000000     0.973806 -0.299527 -0.347610\n",
       "SCIENCE_AVG     0.977092  0.973806     1.000000 -0.228978 -0.260694\n",
       "LS_hrs         -0.165075 -0.299527    -0.228978  1.000000  0.985720\n",
       "US_hrs         -0.189891 -0.347610    -0.260694  0.985720  1.000000"
      ],
      "text/html": "<div>\n<style scoped>\n    .dataframe tbody tr th:only-of-type {\n        vertical-align: middle;\n    }\n\n    .dataframe tbody tr th {\n        vertical-align: top;\n    }\n\n    .dataframe thead th {\n        text-align: right;\n    }\n</style>\n<table border=\"1\" class=\"dataframe\">\n  <thead>\n    <tr style=\"text-align: right;\">\n      <th></th>\n      <th>READING_AVG</th>\n      <th>MATH_AVG</th>\n      <th>SCIENCE_AVG</th>\n      <th>LS_hrs</th>\n      <th>US_hrs</th>\n    </tr>\n  </thead>\n  <tbody>\n    <tr>\n      <th>READING_AVG</th>\n      <td>1.000000</td>\n      <td>0.948769</td>\n      <td>0.977092</td>\n      <td>-0.165075</td>\n      <td>-0.189891</td>\n    </tr>\n    <tr>\n      <th>MATH_AVG</th>\n      <td>0.948769</td>\n      <td>1.000000</td>\n      <td>0.973806</td>\n      <td>-0.299527</td>\n      <td>-0.347610</td>\n    </tr>\n    <tr>\n      <th>SCIENCE_AVG</th>\n      <td>0.977092</td>\n      <td>0.973806</td>\n      <td>1.000000</td>\n      <td>-0.228978</td>\n      <td>-0.260694</td>\n    </tr>\n    <tr>\n      <th>LS_hrs</th>\n      <td>-0.165075</td>\n      <td>-0.299527</td>\n      <td>-0.228978</td>\n      <td>1.000000</td>\n      <td>0.985720</td>\n    </tr>\n    <tr>\n      <th>US_hrs</th>\n      <td>-0.189891</td>\n      <td>-0.347610</td>\n      <td>-0.260694</td>\n      <td>0.985720</td>\n      <td>1.000000</td>\n    </tr>\n  </tbody>\n</table>\n</div>"
     },
     "metadata": {},
     "execution_count": 21
    }
   ],
   "source": [
    "df_teachingtime = df[teaching_time]\n",
    "\n",
    "df_teachingtime.corr()"
   ]
  }
 ]
}