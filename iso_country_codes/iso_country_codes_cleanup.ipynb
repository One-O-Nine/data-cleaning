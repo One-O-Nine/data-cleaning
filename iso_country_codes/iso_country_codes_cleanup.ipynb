{
  "nbformat": 4,
  "nbformat_minor": 0,
  "metadata": {
    "language_info": {
      "codemirror_mode": {
        "name": "ipython",
        "version": 3
      },
      "file_extension": ".py",
      "mimetype": "text/x-python",
      "name": "python",
      "nbconvert_exporter": "python",
      "pygments_lexer": "ipython3",
      "version": "3.9.5"
    },
    "orig_nbformat": 2,
    "kernelspec": {
      "name": "python3",
      "display_name": "Python 3.9.5 64-bit"
    },
    "colab": {
      "name": "iso_country_codes_cleanup.ipynb",
      "provenance": []
    },
    "interpreter": {
      "hash": "aee8b7b246df8f9039afb4144a1f6fd8d2ca17a180786b69acc140d282b71a49"
    }
  },
  "cells": [
    {
      "cell_type": "code",
      "execution_count": 7,
      "metadata": {},
      "outputs": [
        {
          "output_type": "stream",
          "name": "stdout",
          "text": [
            "Requirement already satisfied: xlrd in /usr/local/lib/python3.9/site-packages (0.7.1)\n",
            "Collecting xlrd\n",
            "  Downloading xlrd-2.0.1-py2.py3-none-any.whl (96 kB)\n",
            "\u001b[K     |████████████████████████████████| 96 kB 4.1 MB/s \n",
            "\u001b[?25hInstalling collected packages: xlrd\n",
            "  Attempting uninstall: xlrd\n",
            "    Found existing installation: xlrd 0.7.1\n",
            "    Uninstalling xlrd-0.7.1:\n",
            "      Successfully uninstalled xlrd-0.7.1\n",
            "Successfully installed xlrd-2.0.1\n"
          ]
        }
      ],
      "source": [
        "!pip install --upgrade xlrd\n"
      ]
    },
    {
      "cell_type": "code",
      "metadata": {
        "id": "2Tv8c3jP6ZEl"
      },
      "source": [
        "import pandas as pd\n",
        "import numpy as np\n",
        "import json\n",
        "\n",
        "# NOTE: This is just to visualize an entire table.. not required for anything critical\n",
        "# pd.set_option('display.max_rows', None)\n",
        "\n",
        "# NOTE: This file should come from the datasets spreadsheet: \n",
        "# https://docs.google.com/spreadsheets/d/1qAxclAOaHdg52OOFUmLRHmipp6Pt9Vq6nUUOnul75vw/edit#gid=417731455\n",
        "# Please adjust the filepath and sheet name if applicable\n",
        "df = pd.read_excel('Dataset Dictionary.xlsx', sheet_name='iso_country_codes.csv')\n",
        "\n",
        "# We're only intersted in these two columns\n",
        "df = df[['COUNTRY', 'ID']]\n",
        "\n",
        "# Clean up dataset columns\n",
        "df = df.dropna()\n",
        "df[list(df.columns)] = df[list(df.columns)].astype('category')\n",
        "string_columns = df.select_dtypes(['string'])\n",
        "df[string_columns.columns] = string_columns.apply(lambda s: s.str.strip())\n",
        "df['COUNTRY'] = df['COUNTRY'].str.lower()\n",
        "\n",
        "# Transform dataframe to json\n",
        "collection = df.to_json(orient=\"values\", force_ascii=False)\n",
        "iso_countries = dict(json.loads(collection))\n",
        "\n",
        "# Save json to file\n",
        "with open('iso_country_codes.json', 'w') as fp:\n",
        "    json.dump(iso_countries, fp, indent=4, ensure_ascii=False)"
      ],
      "execution_count": 9,
      "outputs": []
    },
    {
      "cell_type": "code",
      "metadata": {
        "id": "qHZEfiIP6ZEp"
      },
      "source": [
        "def get_countries_not_included(countries_list):\n",
        "    with open('iso_country_codes.json') as fp:\n",
        "        iso_country_dic = dict( json.load(fp))\n",
        "    \n",
        "    not_included_countries = []\n",
        "    for c in countries_list:\n",
        "        if (c.lower() not in iso_country_dic):\n",
        "            not_included_countries.append(c)\n",
        "    return not_included_countries\n"
      ],
      "execution_count": null,
      "outputs": []
    },
    {
      "cell_type": "code",
      "metadata": {
        "tags": [],
        "id": "r_IlEV_B6ZEs",
        "outputId": "b910e096-3aec-4f38-99b6-4a34e0a0cdff"
      },
      "source": [
        "# countries_list_a = [\"Australia\", \"Austria\", \"Belgium\", \"Canada\", \"Chile\", \"Colombia\", \"Czech Republic\", \"Denmark\", \"Estonia\", \"Finland\", \"France\", \"Germany\", \"Greece\", \"Hungary\", \"Iceland\", \"Ireland\", \"Israel\", \"Italy\", \"Japan\", \"Korea\", \"Latvia\", \"Lithuania\", \"Luxembourg\", \"Mexico\", \"Netherlands\", \"New Zealand\", \"Norway\", \"Poland\", \"Portugal\", \"Slovak Republic\", \"Slovenia\", \"Spain\", \"Sweden\", \"Switzerland\", \"Turkey\", \"United Kingdom\", \"United States\", \"Partners\", \"Albania\", \"Argentina\", \"Azerbaijan\", \"Belarus\", \"Bosnia and Herzegovina\", \"Brazil\", \"Brunei Darussalam\", \"B-S-J-Z (China)\", \"Bulgaria\", \"Costa Rica\", \"Croatia\", \"Cyprus\", \"Dominican Republic\", \"Georgia\", \"Hong Kong (China)\", \"Indonesia\", \"Jordan\", \"Kazakhstan\", \"Kosovo\", \"Lebanon\", \"Macao (China)\", \"Malaysia\", \"Malta\", \"Moldova\", \"Montenegro\", \"Morocco\", \"North Macedonia\", \"Panama\", \"Peru\", \"Philippines\", \"Qatar\", \"Romania\", \"Russia\", \"Saudi Arabia\", \"Serbia\", \"Singapore\", \"Chinese Taipei\", \"Thailand\", \"Ukraine\", \"United Arab Emirates\", \"Uruguay\", \"Viet Nam\"]\n",
        "\n",
        "# countries_list_b = [\"B-S-J-Z (China)\", \"Singapore\", \"Macao (China)\", \"Hong Kong (China)\", \"Estonia\", \"Canada\", \"Finland\", \"Ireland\", \"Korea\", \"Poland\", \"Sweden\", \"New Zealand\", \"United States\", \"United Kingdom\", \"Japan\", \"Australia\", \"Chinese Taipei\", \"Denmark\", \"Norway\", \"Germany\", \"Slovenia\", \"Belgium\", \"France\", \"Portugal\", \"Czech Republic\", \"Netherlands\", \"Austria\", \"Switzerland\", \"Croatia\", \"Latvia\", \"Russia\", \"Italy\", \"Hungary\", \"Lithuania\", \"Iceland\", \"Belarus\", \"Israel\", \"Luxembourg\", \"Ukraine\", \"Turkey\", \"Slovak Republic\", \"Greece\", \"Chile\", \"Malta\", \"Serbia\", \"United Arab Emirates\", \"Romania\", \"Uruguay\", \"Costa Rica\", \"Cyprus\", \"Moldova\", \"Montenegro\", \"Mexico\", \"Bulgaria\", \"Jordan\", \"Malaysia\", \"Brazil\", \"Colombia\", \"Brunei Darussalam\", \"Qatar\", \"Albania\", \"Bosnia and Herzegovina\", \"Argentina\", \"Peru\", \"Saudi Arabia\", \"Thailand\", \"North Macedonia\", \"Baku (Azerbaijan)\", \"Kazakhstan\", \"Georgia\", \"Panama\", \"Indonesia\", \"Morocco\", \"Lebanon\", \"Kosovo\", \"Dominican Republic\", \"Philippines\", \"Spain\"]\n",
        "\n",
        "# countries_list_c = [ \"Australia\", \"Austria\", \"Belgium (Fl.)\", \"Belgium (Fr.)\", \"Canada\", \"Chile\", \"Colombia\", \"Czech Republic\", \"Denmark\", \"Estonia\", \"Finland\", \"France\", \"Germany\", \"Greece\", \"Hungary\", \"Iceland\", \"Ireland\", \"Israel\", \"Italy\", \"Japan\", \"Korea\", \"Latvia\", \"Lithuania\", \"Luxembourg\", \"Mexico\", \"Netherlands\", \"New Zealand\", \"Norway\", \"Poland\", \"Portugal\", \"Slovak Republic\", \"Slovenia\", \"Spain\", \"Sweden\", \"Switzerland\", \"Turkey\", \"United Kingdom (England)\", \"United Kingdom (Scotland)\", \"United States\", \"Partners\", \"Albania\", \"Argentina\", \"Azerbaijan\", \"Belarus\", \"Bosnia and Herzegovina\", \"Brazil\", \"Brunei Darussalam\", \"B-S-J-Z (China)\", \"Bulgaria\", \"Costa Rica\", \"Croatia\", \"Cyprus\", \"Dominican Republic\", \"Georgia\", \"Hong Kong (China)\", \"Indonesia\", \"Jordan\", \"Kazakhstan\", \"Kosovo\", \"Lebanon\", \"Macao (China)\", \"Malaysia\", \"Malta\", \"Moldova\", \"Montenegro\", \"Morocco\", \"North Macedonia\", \"Panama\", \"Peru\", \"Philippines\", \"Qatar\", \"Romania\", \"Russia\", \"Saudi Arabia\", \"Serbia\", \"Singapore\", \"Chinese Taipei\", \"Thailand\", \"Ukraine\", \"United Arab Emirates\", \"Uruguay\", \"Viet Nam\"]\n",
        "\n",
        "countries_list_d = [ \"Alberta (Canada)\", \"Australia\", \"Austria\", \"Belgium\", \"Flemish Community of Belgium French Community of Belgium\", \"Brazil\", \"Bulgaria\", \"CABA (Argentina)\", \"Chile\", \"Colombia\", \"Croatia\", \"Czech Republic\", \"Denmark\", \"England (UK)\", \"Estonia\", \"Finland\", \"France\", \"Georgia\", \"Hungary\", \"Iceland\", \"Israel\", \"Italy\", \"Japan\", \"Kazakhstan\", \"Korea\", \"Latvia\", \"Lithuania\", \"Malta\", \"Mexico\", \"Netherlands\", \"New Zealand\", \"Norway\", \"Portugal\", \"Romania\", \"Russian Federation\", \"Saudi Arabia\", \"Shanghai (China)\", \"Singapore\", \"Slovak Republic\", \"Slovenia\", \"South Africa\", \"Spain\", \"Sweden\", \"Turkey\", \"United Arab Emirates\", \"United States\", \"Viet Nam\"]\n",
        "\n",
        "get_countries_not_included(countries_list_d)\n"
      ],
      "execution_count": null,
      "outputs": [
        {
          "output_type": "execute_result",
          "data": {
            "text/plain": [
              "['Alberta (Canada)',\n",
              " 'Flemish Community of Belgium French Community of Belgium',\n",
              " 'CABA (Argentina)',\n",
              " 'England (UK)',\n",
              " 'Korea',\n",
              " 'Russian Federation',\n",
              " 'Shanghai (China)',\n",
              " 'Viet Nam']"
            ]
          },
          "metadata": {
            "tags": []
          },
          "execution_count": 44
        }
      ]
    }
  ]
}